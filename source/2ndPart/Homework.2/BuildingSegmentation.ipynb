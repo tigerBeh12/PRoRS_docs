{
  "cells": [
    {
      "attachments": {},
      "cell_type": "markdown",
      "metadata": {
        "id": "KogbS3grmdiJ"
      },
      "source": [
        "# 遥感影像建筑物足迹分割\n",
        "\n",
        "**目标：**\n",
        "\n",
        "\n",
        "1.   使用深度神经网络(Deep Neural network, DNN)来解决语义分割问题\n",
        "2.   学习基本的DNN训练方法\n",
        "3.   熟悉目前主流的深度学习框架Pytorch\n",
        "\n",
        "本次作业我们提供了训练集、验证集（均带有标签）以及测试集（不带标签），你可以通过训练集和验证集寻找最好的模型，并在测试集上得到你的预测结果。\n",
        "\n",
        "最后你需要将预测结果提交到kaggle上(https://www.kaggle.com/competitions/dl-geo-2025fall-homework1), 系统会自动返回给交并比IoU。\n",
        "\n",
        "总的来说，本次作业的目标就是基于我们给定的代码，发挥你在课堂上学习到的知识，修改代码，从而得到尽可能低的**测试集**误差。\n"
      ]
    },
    {
      "attachments": {},
      "cell_type": "markdown",
      "metadata": {},
      "source": [
        "## 研究准备"
      ]
    },
    {
      "attachments": {},
      "cell_type": "markdown",
      "metadata": {
        "id": "gX9f7FIMrtHH"
      },
      "source": [
        "### **下载数据**\n",
        "\n",
        "在这里，我们从google drive上下载训练集，验证集和测试集,并将其解压到data路径"
      ]
    },
    {
      "cell_type": "code",
      "execution_count": null,
      "metadata": {
        "colab": {
          "base_uri": "https://localhost:8080/"
        },
        "id": "eK3Ov0RirG-j",
        "outputId": "aec8d73d-7629-404f-fd79-06e88ece2b2e"
      },
      "outputs": [
        {
          "name": "stdout",
          "output_type": "stream",
          "text": [
            "Looking in indexes: https://pypi.org/simple, https://us-python.pkg.dev/colab-wheels/public/simple/\n",
            "Collecting imagecodecs-lite\n",
            "  Downloading imagecodecs_lite-2022.9.26-py3-none-any.whl (1.4 kB)\n",
            "Collecting imagecodecs\n",
            "  Downloading imagecodecs-2022.12.24-cp38-cp38-manylinux_2_17_x86_64.manylinux2014_x86_64.whl (36.4 MB)\n",
            "\u001b[2K     \u001b[90m━━━━━━━━━━━━━━━━━━━━━━━━━━━━━━━━━━━━━━━━\u001b[0m \u001b[32m36.4/36.4 MB\u001b[0m \u001b[31m41.4 MB/s\u001b[0m eta \u001b[36m0:00:00\u001b[0m\n",
            "\u001b[?25hRequirement already satisfied: numpy in /usr/local/lib/python3.8/dist-packages (from imagecodecs->imagecodecs-lite) (1.21.6)\n",
            "Installing collected packages: imagecodecs, imagecodecs-lite\n",
            "Successfully installed imagecodecs-2022.12.24 imagecodecs-lite-2022.9.26\n",
            "Looking in indexes: https://pypi.org/simple, https://us-python.pkg.dev/colab-wheels/public/simple/\n",
            "Requirement already satisfied: gdown in /usr/local/lib/python3.8/dist-packages (4.4.0)\n",
            "Collecting gdown\n",
            "  Downloading gdown-4.6.0-py3-none-any.whl (14 kB)\n",
            "Requirement already satisfied: beautifulsoup4 in /usr/local/lib/python3.8/dist-packages (from gdown) (4.6.3)\n",
            "Requirement already satisfied: tqdm in /usr/local/lib/python3.8/dist-packages (from gdown) (4.64.1)\n",
            "Requirement already satisfied: requests[socks] in /usr/local/lib/python3.8/dist-packages (from gdown) (2.25.1)\n",
            "Requirement already satisfied: filelock in /usr/local/lib/python3.8/dist-packages (from gdown) (3.9.0)\n",
            "Requirement already satisfied: six in /usr/local/lib/python3.8/dist-packages (from gdown) (1.15.0)\n",
            "Requirement already satisfied: idna<3,>=2.5 in /usr/local/lib/python3.8/dist-packages (from requests[socks]->gdown) (2.10)\n",
            "Requirement already satisfied: chardet<5,>=3.0.2 in /usr/local/lib/python3.8/dist-packages (from requests[socks]->gdown) (4.0.0)\n",
            "Requirement already satisfied: certifi>=2017.4.17 in /usr/local/lib/python3.8/dist-packages (from requests[socks]->gdown) (2022.12.7)\n",
            "Requirement already satisfied: urllib3<1.27,>=1.21.1 in /usr/local/lib/python3.8/dist-packages (from requests[socks]->gdown) (1.24.3)\n",
            "Requirement already satisfied: PySocks!=1.5.7,>=1.5.6 in /usr/local/lib/python3.8/dist-packages (from requests[socks]->gdown) (1.7.1)\n",
            "Installing collected packages: gdown\n",
            "  Attempting uninstall: gdown\n",
            "    Found existing installation: gdown 4.4.0\n",
            "    Uninstalling gdown-4.4.0:\n",
            "      Successfully uninstalled gdown-4.4.0\n",
            "Successfully installed gdown-4.6.0\n",
            "/usr/local/lib/python3.8/dist-packages/gdown/cli.py:121: FutureWarning: Option `--id` was deprecated in version 4.3.1 and will be removed in 5.0. You don't need to pass it anymore to use a file ID.\n",
            "  warnings.warn(\n",
            "Downloading...\n",
            "From: https://drive.google.com/uc?id=1SGxB0031J3pXsi0vq-8dvu5ONDA9Ea0a\n",
            "To: /content/data.zip\n",
            "100% 500M/500M [00:14<00:00, 35.7MB/s]\n",
            "Reading package lists... Done\n",
            "Building dependency tree       \n",
            "Reading state information... Done\n",
            "p7zip-full is already the newest version (16.02+dfsg-6).\n",
            "The following package was automatically installed and is no longer required:\n",
            "  libnvidia-common-460\n",
            "Use 'sudo apt autoremove' to remove it.\n",
            "0 upgraded, 0 newly installed, 0 to remove and 21 not upgraded.\n",
            "\n",
            "7-Zip [64] 16.02 : Copyright (c) 1999-2016 Igor Pavlov : 2016-05-21\n",
            "p7zip Version 16.02 (locale=en_US.UTF-8,Utf16=on,HugeFiles=on,64 bits,2 CPUs Intel(R) Xeon(R) CPU @ 2.00GHz (50653),ASM,AES-NI)\n",
            "\n",
            "Scanning the drive for archives:\n",
            "  0M Scan\b\b\b\b\b\b\b\b\b         \b\b\b\b\b\b\b\b\b1 file, 500037720 bytes (477 MiB)\n",
            "\n",
            "Extracting archive: data.zip\n",
            " 89% 4096 Open\b\b\b\b\b\b\b\b\b\b\b\b\b\b              \b\b\b\b\b\b\b\b\b\b\b\b\b\b--\n",
            "Path = data.zip\n",
            "Type = zip\n",
            "Physical Size = 500037720\n",
            "\n",
            "  0%\b\b\b\b    \b\b\b\b  0% 20\b\b\b\b\b\b\b       \b\b\b\b\b\b\b  1% 37\b\b\b\b\b\b\b       \b\b\b\b\b\b\b  1% 55\b\b\b\b\b\b\b       \b\b\b\b\b\b\b  2% 72\b\b\b\b\b\b\b       \b\b\b\b\b\b\b  3% 89\b\b\b\b\b\b\b       \b\b\b\b\b\b\b  3% 107\b\b\b\b\b\b\b\b        \b\b\b\b\b\b\b\b  4% 126\b\b\b\b\b\b\b\b        \b\b\b\b\b\b\b\b  5% 143\b\b\b\b\b\b\b\b        \b\b\b\b\b\b\b\b  5% 160\b\b\b\b\b\b\b\b        \b\b\b\b\b\b\b\b  6% 178\b\b\b\b\b\b\b\b        \b\b\b\b\b\b\b\b  7% 196\b\b\b\b\b\b\b\b        \b\b\b\b\b\b\b\b  7% 215\b\b\b\b\b\b\b\b        \b\b\b\b\b\b\b\b  8% 231\b\b\b\b\b\b\b\b        \b\b\b\b\b\b\b\b  9% 247\b\b\b\b\b\b\b\b        \b\b\b\b\b\b\b\b  9% 265\b\b\b\b\b\b\b\b        \b\b\b\b\b\b\b\b 10% 282\b\b\b\b\b\b\b\b        \b\b\b\b\b\b\b\b 10% 299\b\b\b\b\b\b\b\b        \b\b\b\b\b\b\b\b 11% 316\b\b\b\b\b\b\b\b        \b\b\b\b\b\b\b\b 12% 333\b\b\b\b\b\b\b\b        \b\b\b\b\b\b\b\b 12% 351\b\b\b\b\b\b\b\b        \b\b\b\b\b\b\b\b 13% 369\b\b\b\b\b\b\b\b        \b\b\b\b\b\b\b\b 14% 386\b\b\b\b\b\b\b\b        \b\b\b\b\b\b\b\b 14% 404\b\b\b\b\b\b\b\b        \b\b\b\b\b\b\b\b 15% 421\b\b\b\b\b\b\b\b        \b\b\b\b\b\b\b\b 16% 438\b\b\b\b\b\b\b\b        \b\b\b\b\b\b\b\b 16% 455\b\b\b\b\b\b\b\b        \b\b\b\b\b\b\b\b 17% 472\b\b\b\b\b\b\b\b        \b\b\b\b\b\b\b\b 18% 490\b\b\b\b\b\b\b\b        \b\b\b\b\b\b\b\b 18% 509\b\b\b\b\b\b\b\b        \b\b\b\b\b\b\b\b 19% 526\b\b\b\b\b\b\b\b        \b\b\b\b\b\b\b\b 19% 544\b\b\b\b\b\b\b\b        \b\b\b\b\b\b\b\b 20% 562\b\b\b\b\b\b\b\b        \b\b\b\b\b\b\b\b 21% 582\b\b\b\b\b\b\b\b        \b\b\b\b\b\b\b\b 21% 601\b\b\b\b\b\b\b\b        \b\b\b\b\b\b\b\b 22% 618\b\b\b\b\b\b\b\b        \b\b\b\b\b\b\b\b 23% 636\b\b\b\b\b\b\b\b        \b\b\b\b\b\b\b\b 23% 653\b\b\b\b\b\b\b\b        \b\b\b\b\b\b\b\b 24% 668\b\b\b\b\b\b\b\b        \b\b\b\b\b\b\b\b 24% 686\b\b\b\b\b\b\b\b        \b\b\b\b\b\b\b\b 25% 704\b\b\b\b\b\b\b\b        \b\b\b\b\b\b\b\b 26% 722\b\b\b\b\b\b\b\b        \b\b\b\b\b\b\b\b 26% 738\b\b\b\b\b\b\b\b        \b\b\b\b\b\b\b\b 27% 755\b\b\b\b\b\b\b\b        \b\b\b\b\b\b\b\b 28% 773\b\b\b\b\b\b\b\b        \b\b\b\b\b\b\b\b 28% 791\b\b\b\b\b\b\b\b        \b\b\b\b\b\b\b\b 29% 809\b\b\b\b\b\b\b\b        \b\b\b\b\b\b\b\b 29% 828\b\b\b\b\b\b\b\b        \b\b\b\b\b\b\b\b 30% 845\b\b\b\b\b\b\b\b        \b\b\b\b\b\b\b\b 31% 862\b\b\b\b\b\b\b\b        \b\b\b\b\b\b\b\b 31% 879\b\b\b\b\b\b\b\b        \b\b\b\b\b\b\b\b 32% 897\b\b\b\b\b\b\b\b        \b\b\b\b\b\b\b\b 33% 914\b\b\b\b\b\b\b\b        \b\b\b\b\b\b\b\b 33% 931\b\b\b\b\b\b\b\b        \b\b\b\b\b\b\b\b 34% 949\b\b\b\b\b\b\b\b        \b\b\b\b\b\b\b\b 35% 967\b\b\b\b\b\b\b\b        \b\b\b\b\b\b\b\b 35% 985\b\b\b\b\b\b\b\b        \b\b\b\b\b\b\b\b 36% 1004\b\b\b\b\b\b\b\b\b         \b\b\b\b\b\b\b\b\b 37% 1023\b\b\b\b\b\b\b\b\b         \b\b\b\b\b\b\b\b\b 37% 1041\b\b\b\b\b\b\b\b\b         \b\b\b\b\b\b\b\b\b 38% 1059\b\b\b\b\b\b\b\b\b         \b\b\b\b\b\b\b\b\b 39% 1077\b\b\b\b\b\b\b\b\b         \b\b\b\b\b\b\b\b\b 39% 1094\b\b\b\b\b\b\b\b\b         \b\b\b\b\b\b\b\b\b 40% 1109\b\b\b\b\b\b\b\b\b         \b\b\b\b\b\b\b\b\b 41% 1127\b\b\b\b\b\b\b\b\b         \b\b\b\b\b\b\b\b\b 41% 1144\b\b\b\b\b\b\b\b\b         \b\b\b\b\b\b\b\b\b 42% 1162\b\b\b\b\b\b\b\b\b         \b\b\b\b\b\b\b\b\b 42% 1179\b\b\b\b\b\b\b\b\b         \b\b\b\b\b\b\b\b\b 43% 1197\b\b\b\b\b\b\b\b\b         \b\b\b\b\b\b\b\b\b 44% 1214\b\b\b\b\b\b\b\b\b         \b\b\b\b\b\b\b\b\b 44% 1231\b\b\b\b\b\b\b\b\b         \b\b\b\b\b\b\b\b\b 45% 1248\b\b\b\b\b\b\b\b\b         \b\b\b\b\b\b\b\b\b 46% 1267\b\b\b\b\b\b\b\b\b         \b\b\b\b\b\b\b\b\b 46% 1284\b\b\b\b\b\b\b\b\b         \b\b\b\b\b\b\b\b\b 47% 1302\b\b\b\b\b\b\b\b\b         \b\b\b\b\b\b\b\b\b 48% 1322\b\b\b\b\b\b\b\b\b         \b\b\b\b\b\b\b\b\b 48% 1338\b\b\b\b\b\b\b\b\b         \b\b\b\b\b\b\b\b\b 49% 1354\b\b\b\b\b\b\b\b\b         \b\b\b\b\b\b\b\b\b 50% 1370\b\b\b\b\b\b\b\b\b         \b\b\b\b\b\b\b\b\b 50% 1387\b\b\b\b\b\b\b\b\b         \b\b\b\b\b\b\b\b\b 51% 1404\b\b\b\b\b\b\b\b\b         \b\b\b\b\b\b\b\b\b 51% 1422\b\b\b\b\b\b\b\b\b         \b\b\b\b\b\b\b\b\b 52% 1439\b\b\b\b\b\b\b\b\b         \b\b\b\b\b\b\b\b\b 53% 1456\b\b\b\b\b\b\b\b\b         \b\b\b\b\b\b\b\b\b 53% 1474\b\b\b\b\b\b\b\b\b         \b\b\b\b\b\b\b\b\b 54% 1491\b\b\b\b\b\b\b\b\b         \b\b\b\b\b\b\b\b\b 55% 1508\b\b\b\b\b\b\b\b\b         \b\b\b\b\b\b\b\b\b 55% 1526\b\b\b\b\b\b\b\b\b         \b\b\b\b\b\b\b\b\b 56% 1543\b\b\b\b\b\b\b\b\b         \b\b\b\b\b\b\b\b\b 57% 1560\b\b\b\b\b\b\b\b\b         \b\b\b\b\b\b\b\b\b 57% 1578\b\b\b\b\b\b\b\b\b         \b\b\b\b\b\b\b\b\b 58% 1596\b\b\b\b\b\b\b\b\b         \b\b\b\b\b\b\b\b\b 58% 1613\b\b\b\b\b\b\b\b\b         \b\b\b\b\b\b\b\b\b 59% 1630 - image/train/23578990_15_3_4.tiff\b\b\b\b\b\b\b\b\b\b\b\b\b\b\b\b\b\b\b\b\b\b\b\b\b\b\b\b\b\b\b\b\b\b\b\b\b\b\b\b\b\b\b\b                                            \b\b\b\b\b\b\b\b\b\b\b\b\b\b\b\b\b\b\b\b\b\b\b\b\b\b\b\b\b\b\b\b\b\b\b\b\b\b\b\b\b\b\b\b 60% 1649\b\b\b\b\b\b\b\b\b         \b\b\b\b\b\b\b\b\b 60% 1669\b\b\b\b\b\b\b\b\b         \b\b\b\b\b\b\b\b\b 61% 1687\b\b\b\b\b\b\b\b\b         \b\b\b\b\b\b\b\b\b 62% 1704\b\b\b\b\b\b\b\b\b         \b\b\b\b\b\b\b\b\b 62% 1724\b\b\b\b\b\b\b\b\b         \b\b\b\b\b\b\b\b\b 63% 1742\b\b\b\b\b\b\b\b\b         \b\b\b\b\b\b\b\b\b 64% 1761\b\b\b\b\b\b\b\b\b         \b\b\b\b\b\b\b\b\b 64% 1780\b\b\b\b\b\b\b\b\b         \b\b\b\b\b\b\b\b\b 65% 1801\b\b\b\b\b\b\b\b\b         \b\b\b\b\b\b\b\b\b 65% 1818\b\b\b\b\b\b\b\b\b         \b\b\b\b\b\b\b\b\b 66% 1835\b\b\b\b\b\b\b\b\b         \b\b\b\b\b\b\b\b\b 67% 1854\b\b\b\b\b\b\b\b\b         \b\b\b\b\b\b\b\b\b 67% 1872\b\b\b\b\b\b\b\b\b         \b\b\b\b\b\b\b\b\b 68% 1890\b\b\b\b\b\b\b\b\b         \b\b\b\b\b\b\b\b\b 69% 1908\b\b\b\b\b\b\b\b\b         \b\b\b\b\b\b\b\b\b 69% 1926\b\b\b\b\b\b\b\b\b         \b\b\b\b\b\b\b\b\b 70% 1945 - image/train/24029050_15_2_1.tiff\b\b\b\b\b\b\b\b\b\b\b\b\b\b\b\b\b\b\b\b\b\b\b\b\b\b\b\b\b\b\b\b\b\b\b\b\b\b\b\b\b\b\b\b                                            \b\b\b\b\b\b\b\b\b\b\b\b\b\b\b\b\b\b\b\b\b\b\b\b\b\b\b\b\b\b\b\b\b\b\b\b\b\b\b\b\b\b\b\b 71% 1963\b\b\b\b\b\b\b\b\b         \b\b\b\b\b\b\b\b\b 71% 1980\b\b\b\b\b\b\b\b\b         \b\b\b\b\b\b\b\b\b 72% 1996\b\b\b\b\b\b\b\b\b         \b\b\b\b\b\b\b\b\b 72% 2014\b\b\b\b\b\b\b\b\b         \b\b\b\b\b\b\b\b\b 73% 2031\b\b\b\b\b\b\b\b\b         \b\b\b\b\b\b\b\b\b 74% 2048\b\b\b\b\b\b\b\b\b         \b\b\b\b\b\b\b\b\b 74% 2065\b\b\b\b\b\b\b\b\b         \b\b\b\b\b\b\b\b\b 75% 2083\b\b\b\b\b\b\b\b\b         \b\b\b\b\b\b\b\b\b 75% 2100\b\b\b\b\b\b\b\b\b         \b\b\b\b\b\b\b\b\b 76% 2117\b\b\b\b\b\b\b\b\b         \b\b\b\b\b\b\b\b\b 77% 2136\b\b\b\b\b\b\b\b\b         \b\b\b\b\b\b\b\b\b 77% 2153 - image/train/24479005_15_2_1.tiff\b\b\b\b\b\b\b\b\b\b\b\b\b\b\b\b\b\b\b\b\b\b\b\b\b\b\b\b\b\b\b\b\b\b\b\b\b\b\b\b\b\b\b\b                                            \b\b\b\b\b\b\b\b\b\b\b\b\b\b\b\b\b\b\b\b\b\b\b\b\b\b\b\b\b\b\b\b\b\b\b\b\b\b\b\b\b\b\b\b 78% 2173\b\b\b\b\b\b\b\b\b         \b\b\b\b\b\b\b\b\b 79% 2191\b\b\b\b\b\b\b\b\b         \b\b\b\b\b\b\b\b\b 79% 2208\b\b\b\b\b\b\b\b\b         \b\b\b\b\b\b\b\b\b 80% 2226\b\b\b\b\b\b\b\b\b         \b\b\b\b\b\b\b\b\b 81% 2244\b\b\b\b\b\b\b\b\b         \b\b\b\b\b\b\b\b\b 81% 2262\b\b\b\b\b\b\b\b\b         \b\b\b\b\b\b\b\b\b 82% 2279 - image/val/22978945_15_0_1.tiff\b\b\b\b\b\b\b\b\b\b\b\b\b\b\b\b\b\b\b\b\b\b\b\b\b\b\b\b\b\b\b\b\b\b\b\b\b\b\b\b\b\b                                          \b\b\b\b\b\b\b\b\b\b\b\b\b\b\b\b\b\b\b\b\b\b\b\b\b\b\b\b\b\b\b\b\b\b\b\b\b\b\b\b\b\b 83% 2297\b\b\b\b\b\b\b\b\b         \b\b\b\b\b\b\b\b\b 83% 2314\b\b\b\b\b\b\b\b\b         \b\b\b\b\b\b\b\b\b 84% 2330\b\b\b\b\b\b\b\b\b         \b\b\b\b\b\b\b\b\b 84% 2349\b\b\b\b\b\b\b\b\b         \b\b\b\b\b\b\b\b\b 85% 2368\b\b\b\b\b\b\b\b\b         \b\b\b\b\b\b\b\b\b 86% 2385\b\b\b\b\b\b\b\b\b         \b\b\b\b\b\b\b\b\b 86% 2402\b\b\b\b\b\b\b\b\b         \b\b\b\b\b\b\b\b\b 87% 2420\b\b\b\b\b\b\b\b\b         \b\b\b\b\b\b\b\b\b 88% 2436\b\b\b\b\b\b\b\b\b         \b\b\b\b\b\b\b\b\b 88% 2453\b\b\b\b\b\b\b\b\b         \b\b\b\b\b\b\b\b\b 89% 2470\b\b\b\b\b\b\b\b\b         \b\b\b\b\b\b\b\b\b 90% 2487\b\b\b\b\b\b\b\b\b         \b\b\b\b\b\b\b\b\b 90% 2505\b\b\b\b\b\b\b\b\b         \b\b\b\b\b\b\b\b\b 91% 2524\b\b\b\b\b\b\b\b\b         \b\b\b\b\b\b\b\b\b 92% 2542\b\b\b\b\b\b\b\b\b         \b\b\b\b\b\b\b\b\b 92% 2561\b\b\b\b\b\b\b\b\b         \b\b\b\b\b\b\b\b\b 93% 2579\b\b\b\b\b\b\b\b\b         \b\b\b\b\b\b\b\b\b 93% 2599\b\b\b\b\b\b\b\b\b         \b\b\b\b\b\b\b\b\b 94% 2617\b\b\b\b\b\b\b\b\b         \b\b\b\b\b\b\b\b\b 95% 2636\b\b\b\b\b\b\b\b\b         \b\b\b\b\b\b\b\b\b 95% 2654\b\b\b\b\b\b\b\b\b         \b\b\b\b\b\b\b\b\b 96% 2673\b\b\b\b\b\b\b\b\b         \b\b\b\b\b\b\b\b\b 97% 2691\b\b\b\b\b\b\b\b\b         \b\b\b\b\b\b\b\b\b 97% 2814\b\b\b\b\b\b\b\b\b         \b\b\b\b\b\b\b\b\b 98% 3261 - label/train/23278945_15_1_0.tif\b\b\b\b\b\b\b\b\b\b\b\b\b\b\b\b\b\b\b\b\b\b\b\b\b\b\b\b\b\b\b\b\b\b\b\b\b\b\b\b\b\b\b                                           \b\b\b\b\b\b\b\b\b\b\b\b\b\b\b\b\b\b\b\b\b\b\b\b\b\b\b\b\b\b\b\b\b\b\b\b\b\b\b\b\b\b\b 98% 3602 - label/train/23728930_15_4_2.tif\b\b\b\b\b\b\b\b\b\b\b\b\b\b\b\b\b\b\b\b\b\b\b\b\b\b\b\b\b\b\b\b\b\b\b\b\b\b\b\b\b\b\b                                           \b\b\b\b\b\b\b\b\b\b\b\b\b\b\b\b\b\b\b\b\b\b\b\b\b\b\b\b\b\b\b\b\b\b\b\b\b\b\b\b\b\b\b 99% 3917 - label/train/24328840_15_2_2.tif\b\b\b\b\b\b\b\b\b\b\b\b\b\b\b\b\b\b\b\b\b\b\b\b\b\b\b\b\b\b\b\b\b\b\b\b\b\b\b\b\b\b\b                                           \b\b\b\b\b\b\b\b\b\b\b\b\b\b\b\b\b\b\b\b\b\b\b\b\b\b\b\b\b\b\b\b\b\b\b\b\b\b\b\b\b\b\b 99% 4330 - label/val/23428945_15_3_2.tif\b\b\b\b\b\b\b\b\b\b\b\b\b\b\b\b\b\b\b\b\b\b\b\b\b\b\b\b\b\b\b\b\b\b\b\b\b\b\b\b\b                                         \b\b\b\b\b\b\b\b\b\b\b\b\b\b\b\b\b\b\b\b\b\b\b\b\b\b\b\b\b\b\b\b\b\b\b\b\b\b\b\b\bEverything is Ok\n",
            "\n",
            "Folders: 7\n",
            "Files: 4590\n",
            "Size:       519898232\n",
            "Compressed: 500037720\n"
          ]
        }
      ],
      "source": [
        "!pip install imagecodecs-lite\n",
        "!pip install -U --no-cache-dir gdown --pre\n",
        "# 获取数据\n",
        "!gdown --id 1SGxB0031J3pXsi0vq-8dvu5ONDA9Ea0a --output \"data.zip\"\n",
        "# 解压\n",
        "root = \"data\"\n",
        "!sudo apt-get install p7zip-full\n",
        "!7z x data.zip -odata"
      ]
    },
    {
      "attachments": {},
      "cell_type": "markdown",
      "metadata": {
        "id": "25YeHA2cvAxQ"
      },
      "source": [
        "### **环境配置**"
      ]
    },
    {
      "cell_type": "code",
      "execution_count": null,
      "metadata": {
        "colab": {
          "base_uri": "https://localhost:8080/"
        },
        "id": "nIAMhnebmbQY",
        "outputId": "95e8dd20-72a4-48f8-b422-5b3178a5739d"
      },
      "outputs": [
        {
          "data": {
            "text/plain": [
              "device(type='cuda')"
            ]
          },
          "execution_count": 3,
          "metadata": {},
          "output_type": "execute_result"
        }
      ],
      "source": [
        "# 如果你引入了新的库，可以从这里导入\n",
        "import torch # pytorch，目前主流的深度学习框架\n",
        "from torch.utils import data # 从torch.utils导入data模块，用来构建pytorch中的数据结构--->dataloader\n",
        "from torch import nn # 从torch导入nn模块，用来提供基本的神经网络接口，如全连接层nn.Linear()\n",
        "import numpy as np # 导入numpy，并将其重命名为np，numpy是一个高效的用来处理矩阵的库\n",
        "from tqdm import tqdm # tqdm是一个可视化代码进程的模块\n",
        "import skimage.io # skimage.io 可以用来读取图像\n",
        "import cv2 # 用来处理图像的库\n",
        "import os # os库用来处理磁盘读写过程\n",
        "import csv # 读写csv文件的库\n",
        "import torchvision.transforms.functional as TF # 用于进行图像变换的库\n",
        "import torch.nn.functional as F\n",
        "import matplotlib.pyplot as plt\n",
        "\n",
        "# 为了处理大批量数据，在目前主流的深度学习框架下，数据都是以矩阵的形式表示的\n",
        "# 而对于CPU来讲，其对于矩阵数据处理效率欠佳，而GPU(显卡）则擅长处理矩阵，因此深度学习模型都会部署到GPU上\n",
        "# 这段代码的意思是，判断目前的设备中是否有安装CUDA（GPU加速模块）。\n",
        "# 如果有的话，我们就让模型部署到GPU上，如果没有，我们继续用CPU（速度会慢一点）\n",
        "device = torch.device(\"cuda\" if torch.cuda.is_available() else \"cpu\") \n",
        "device"
      ]
    },
    {
      "attachments": {},
      "cell_type": "markdown",
      "metadata": {
        "id": "gcAwNdiPm1IT"
      },
      "source": [
        "### **数据说明**\n",
        "\n",
        "本次作业我们的任务是从遥感影像中提取建筑物的足迹(footprint)。建筑足迹提供了沿外墙绘制的建筑轮廓，并对其基础的确切大小、形状和位置进行了描述。你也可以近似理解其为建筑物屋顶的分布。\n",
        "\n",
        "我们提供了三波段(RGB)遥感影像(分辨率为1米),以及其对应的建筑物足迹分布,如下所示\n",
        "\n",
        "我们可以发现，建筑物足迹分布图实际上是一个二值图，即背景的像素值为0(黑色)，建筑物区域的像素值为255(红色)。本次作业我们的任务就是，训练一个模型，这个模型的输入是影像，输出是对应的足迹分布，我们要尽可能地让这个模型的预测结果准确。\n"
      ]
    },
    {
      "cell_type": "code",
      "execution_count": null,
      "metadata": {
        "colab": {
          "base_uri": "https://localhost:8080/",
          "height": 222
        },
        "id": "k-I_I8o0qeD7",
        "outputId": "0e596301-5369-4ee8-d9f1-29225e7d39cd"
      },
      "outputs": [
        {
          "data": {
            "text/plain": [
              "<matplotlib.image.AxesImage at 0x7efc99a629d0>"
            ]
          },
          "execution_count": 4,
          "metadata": {},
          "output_type": "execute_result"
        },
        {
          "data": {
            "image/png": "[encoded data removed]",
            "text/plain": [
              "<Figure size 432x288 with 2 Axes>"
            ]
          },
          "metadata": {
            "needs_background": "light"
          },
          "output_type": "display_data"
        }
      ],
      "source": [
        "# 可视化我们用于训练的遥感影像及其对应的建筑物标签\n",
        "image = skimage.io.imread(\"/content/data/image/train/22678915_15_1_4.tiff\")\n",
        "label = skimage.io.imread(\"/content/data/label/train/22678915_15_1_4.tif\")\n",
        "fig, (ax1, ax2) = plt.subplots(nrows=1, ncols=2)\n",
        "ax1.imshow(image)\n",
        "ax2.imshow(label)"
      ]
    },
    {
      "attachments": {},
      "cell_type": "markdown",
      "metadata": {},
      "source": [
        "## 进行实验"
      ]
    },
    {
      "attachments": {},
      "cell_type": "markdown",
      "metadata": {
        "id": "o3tM14MFvHxR"
      },
      "source": [
        "### **构建数据**"
      ]
    },
    {
      "cell_type": "code",
      "execution_count": null,
      "metadata": {
        "id": "ICVrVPvLu6bc"
      },
      "outputs": [],
      "source": [
        "def makeDataset(mode):\n",
        "\n",
        "    all_tokens = []\n",
        "\n",
        "    assert mode in ['train', 'val', 'test']\n",
        "    image_path = os.path.join(root, \"image\", mode)\n",
        "\n",
        "    if mode == \"test\":\n",
        "      \n",
        "      img_tokens = os.listdir(image_path)\n",
        "      for img_token in img_tokens:\n",
        "        all_tokens.append(os.path.join(image_path, img_token))\n",
        "      return all_tokens\n",
        "    else:\n",
        "      label_path = os.path.join(root, \"label\", mode)\n",
        "\n",
        "      img_tokens = os.listdir(image_path)\n",
        "      img_tokens.sort()\n",
        "\n",
        "      label_tokens = os.listdir(label_path)\n",
        "      label_tokens.sort()\n",
        "\n",
        "      assert len(img_tokens) == len(label_tokens), \"The number of images is inconsistent with the number of labels\"\n",
        "\n",
        "      for img_token, label_token in zip(img_tokens, label_tokens):\n",
        "          token = (os.path.join(image_path, img_token), os.path.join(label_path, label_token))\n",
        "          all_tokens.append(token)\n",
        "\n",
        "    print(f' 在{mode}阶段，我们有{len(all_tokens)}个样本')\n",
        "\n",
        "    return all_tokens\n",
        "\n",
        "\n",
        "class BuildingDataset(data.Dataset):\n",
        "    def __init__(self, mode):\n",
        "\n",
        "        self.mode = mode\n",
        "        self.data_tokens = makeDataset(mode)\n",
        "        assert len(self.data_tokens), \"the data is empty!Please check the root\"\n",
        "\n",
        "    def __getitem__(self, index):\n",
        "        token = self.data_tokens[index]\n",
        "        if self.mode == \"test\":\n",
        "          image_path = token\n",
        "          image = skimage.io.imread(image_path)\n",
        "          image = TF.to_pil_image(image)\n",
        "          image_name = os.path.splitext(os.path.basename(image_path))[0]\n",
        "          image = TF.to_tensor(image)\n",
        "          image = TF.normalize(image, mean=[0.33, 0.34, 0.30], std=[0.17, 0.165, 0.17])\n",
        "          return image, image_name\n",
        "\n",
        "        else:\n",
        "          image_path, label_path = token\n",
        "          image, label = skimage.io.imread(image_path), skimage.io.imread(label_path)\n",
        "          image = TF.to_pil_image(image)\n",
        "          label = TF.to_pil_image(label)\n",
        "          image_name = os.path.splitext(os.path.basename(image_path))[0]\n",
        "          if self.mode in [\"val\"]:\n",
        "              image = TF.to_tensor(image)\n",
        "              label = TF.to_tensor(label)\n",
        "              image = TF.normalize(image, mean=[0.33, 0.34, 0.30], std=[0.17, 0.165, 0.17]) # 图像标准化\n",
        "          else:\n",
        "              \"\"\"\n",
        "              TODO:一般来讲，增加数据多样性会提高模型的泛化性能，这一操作叫做即数据增强(data augumentation)。常用的图像增强的方法有：color jittering, roate, vflip和hflip等。\n",
        "              请查阅如何用TF库实现数据增强，并在此处进行修改，来增加数据的多样性\n",
        "              \"\"\"\n",
        "              image = TF.to_tensor(image)\n",
        "              label = TF.to_tensor(label)\n",
        "              image = TF.normalize(image, mean=[0.33, 0.34, 0.30], std=[0.17, 0.165, 0.17]) \n",
        "          label = label[0, :, :]\n",
        "          label = torch.unsqueeze(label, 0)\n",
        "          return image, label\n",
        "\n",
        "    def __len__(self):\n",
        "        return len(self.data_tokens)\n",
        "    # 该函数可以用来提取建筑物的轮廓\n",
        "    # 将轮廓信息，做为辅助的监督信息会提升模型对建筑物预测的精度，一种简单的设计是这样↓，即我们让模型有两个预测分支，一个是建筑物足迹掩膜（我们所需要的），另一个是建筑物边缘掩膜，并对这两个结果同时计算损失并反向传播\n",
        "    #         -----> building prediction <-> building ground truth\n",
        "    # image->model->\n",
        "    #         -----> boundary prediction <-> boundary ground truth\n",
        "    @staticmethod\n",
        "    def get_boundary(mask, thicky=8): # thicky即轮廓的\"厚度\"\n",
        "        tmp = mask.data.numpy().astype('uint8')\n",
        "        tmp = tmp[0]  # 从 [1,w,h] to [w,h]\n",
        "        contour, _, = cv2.findContours(tmp, cv2.RETR_TREE, cv2.CHAIN_APPROX_SIMPLE)\n",
        "        boundary = np.zeros_like(tmp)\n",
        "        boundary = cv2.drawContours(boundary, contour, -1, 1, thicky)\n",
        "        boundary = boundary.astype(np.float)\n",
        "        boundary = TF.to_tensor(boundary)\n",
        "        return boundary"
      ]
    },
    {
      "attachments": {},
      "cell_type": "markdown",
      "metadata": {
        "id": "uLpSczzDv7Tp"
      },
      "source": [
        "### **搭建模型**"
      ]
    },
    {
      "cell_type": "code",
      "execution_count": null,
      "metadata": {
        "id": "DgaQse7LuuzT"
      },
      "outputs": [],
      "source": [
        "class MyCNN(nn.Module):\n",
        "  \"\"\"\n",
        "  我们使用的模型是一个我加以改进的FCN模型, FCN(Fully Convolutional Networks)是利用卷积神经网络实现语义分割的开山之作。\n",
        "  在使用这个模型的时候，请思考：\n",
        "  （1）什么是语义分割？它的特点是什么？\n",
        "  （2）FCN为什么这样设计？这样设计的目的是什么？\n",
        "  \"\"\"\n",
        "  def __init__(self):\n",
        "    super().__init__()\n",
        "        # 第一层卷积\n",
        "    self.layer1 = nn.Sequential(\n",
        "        nn.Conv2d(3, 48, (3, 3), padding=1),\n",
        "        nn.ReLU(inplace=True),\n",
        "        nn.Conv2d(48, 48, (3, 3), padding=1),\n",
        "        nn.ReLU(inplace=True),\n",
        "        nn.MaxPool2d(2, stride=2, ceil_mode=True)  # Downsampling 1/2\n",
        "    )\n",
        "\n",
        "    # 第二层卷积\n",
        "    self.layer2 = nn.Sequential(\n",
        "        nn.Conv2d(48, 128, (3, 3), padding=1),\n",
        "        nn.ReLU(inplace=True),\n",
        "        nn.Conv2d(128, 128, (3, 3), padding=1),\n",
        "        nn.ReLU(inplace=True),\n",
        "        nn.MaxPool2d(2, stride=2, ceil_mode=True)  # Downsampling 1/4\n",
        "    )\n",
        "\n",
        "    # 第三层卷积\n",
        "    self.layer3 = nn.Sequential(\n",
        "        nn.Conv2d(128, 192, (3, 3), padding=1),\n",
        "        nn.ReLU(inplace=True),\n",
        "        nn.Conv2d(192, 192, (3, 3), padding=1),\n",
        "        nn.ReLU(inplace=True),\n",
        "        nn.MaxPool2d(2, stride=2, ceil_mode=True)  # Downsampling 1/8\n",
        "    )\n",
        "\n",
        "    # 第四层卷积\n",
        "    self.layer4 = nn.Sequential(\n",
        "        nn.Conv2d(192, 256, (3, 3), padding=1),\n",
        "        nn.ReLU(inplace=True),\n",
        "        nn.Conv2d(256, 256, (3, 3), padding=1),\n",
        "        nn.ReLU(inplace=True),\n",
        "        nn.MaxPool2d(2, stride=2, ceil_mode=True)  # Downsampling 1/16\n",
        "    )\n",
        "\n",
        "    # 第五层卷积\n",
        "    self.layer5 = nn.Sequential(\n",
        "        nn.Conv2d(256, 512, (3, 3), padding=1),\n",
        "        nn.ReLU(inplace=True),\n",
        "        nn.Conv2d(512, 512, (3, 3), padding=1),\n",
        "        nn.ReLU(inplace=True),\n",
        "        nn.MaxPool2d(2, stride=2, ceil_mode=True)  # Downsampling 1/32\n",
        "    )\n",
        "\n",
        "    self.score_1 = nn.Conv2d(512, 128, (1, 1))\n",
        "    self.score_2 = nn.Conv2d(256, 128, (1, 1))\n",
        "    self.score_3 = nn.Conv2d(192, 128, (1, 1))\n",
        "    self.score_4 = nn.Conv2d(128, 128, (1, 1))\n",
        "\n",
        "    self.final_layer = nn.Conv2d(128, 1, (1, 1))\n",
        "  def forward(self,x):\n",
        "    _,_,h,w = x.shape\n",
        "    # 输入的图像为x，通过下面的五个layer的操作，我们发现特征的尺寸在逐渐变小，为什么我们要这么做，这样做的目的是什么？\n",
        "    # (提示：从物体尺度和模型计算量角度思考）\n",
        "    x1 = self.layer1(x) # (B,C,H/2,W/2)\n",
        "    x2 = self.layer2(x1) # (B,C,H/4,W/4)\n",
        "    x3 = self.layer3(x2) # (B,C,H/8,W/8)\n",
        "    x4 = self.layer4(x3) # (B,C,H/16,W/16)\n",
        "    x5 = self.layer5(x4) # (B,C,H/32,W/32)\n",
        "\n",
        "    # 上述操作让我们的特征图尺寸逐渐变小，我们为了得到原始分辨率的预测，在这里我们逐步恢复图像分辨率\n",
        "    x5 = self.score_1(x5) # 在这里，我们在恢复特征图分辨率之前，先用一个卷积进行特征提取，目的有1）保证不同尺度特征图通道数相同2）将不同尺度特征图映射到相同的特征空间，使得相加有意义。\n",
        "    # 代码默认的方法是双线性插值上采样，你有更好的办法吗，如反卷积等？这些方法会提高模型的精度吗？\n",
        "    x5 = F.upsample(input=x5, size=(int(h/16), int(w/16)), mode='bilinear')\n",
        "    x4 = self.score_2(x4)\n",
        "    x4 += x5\n",
        "\n",
        "    x4 = F.upsample(input=x4, size=(int(h/8), int(w/8)), mode='bilinear')\n",
        "    x3 = self.score_3(x3)\n",
        "    x3 +=x4\n",
        "    \n",
        "    x3 = F.upsample(input=x3, size=(int(h/4), int(w/4)), mode='bilinear')\n",
        "    x2 = self.score_4(x2)\n",
        "    x2 += x3\n",
        "    \n",
        "    final_score = self.final_layer(x2)\n",
        "    final = F.upsample(input=final_score, size=(h, w), mode='bilinear')\n",
        "\n",
        "    return final\n",
        "  \n",
        "# TODO: 事实上，语义分割领域目前有非常多的网络可供选择，你会使用它们，并将它们应用到建筑物足迹提取上来吗？\n"
      ]
    },
    {
      "attachments": {},
      "cell_type": "markdown",
      "metadata": {
        "id": "wE6yCDl1v_mr"
      },
      "source": [
        "### **评价方式**\n",
        "\n",
        "在这里，我们直接提供一个评价预测结果的类，里面包含很多评价指标。这部分你不需要修改，因为这些评价指标足够本次作业的使用了"
      ]
    },
    {
      "cell_type": "code",
      "execution_count": null,
      "metadata": {
        "id": "Vg_sFUaDwu_a"
      },
      "outputs": [],
      "source": [
        "class Evaluator(object):\n",
        "    \"\"\"\n",
        "    Code is modified based on  https://github.com/jfzhang95/pytorch-deeplab-xception/blob/master/utils/metrics.py#L33\n",
        "    \"\"\"\n",
        "\n",
        "    def __init__(self, num_class):\n",
        "        self.num_class = num_class\n",
        "        self.confusion_matrix = np.zeros((self.num_class,) * 2)\n",
        "\n",
        "        self.TP = 0\n",
        "        self.FN = 0\n",
        "        self.FP = 0\n",
        "        self.TN = 0\n",
        "\n",
        "    def Pixel_Accuracy(self):\n",
        "        Acc = np.diag(self.confusion_matrix).sum() / self.confusion_matrix.sum()  # (TP+TN)/(ALL)\n",
        "        return Acc\n",
        "\n",
        "    def Pixel_Accuracy_Class(self):\n",
        "        Acc = np.diag(self.confusion_matrix) / self.confusion_matrix.sum(axis=1)\n",
        "        Acc = np.nanmean(Acc)\n",
        "        return Acc\n",
        "\n",
        "    def Mean_Intersection_over_Union(self):\n",
        "        MIoU = np.diag(self.confusion_matrix) / (\n",
        "                np.sum(self.confusion_matrix, axis=1) + np.sum(self.confusion_matrix, axis=0) -\n",
        "                np.diag(self.confusion_matrix))\n",
        "\n",
        "        MIoU = np.nanmean(MIoU)\n",
        "\n",
        "        return MIoU\n",
        "\n",
        "    def Frequency_Weighted_Intersection_over_Union(self):\n",
        "        freq = np.sum(self.confusion_matrix, axis=1) / np.sum(self.confusion_matrix)\n",
        "        iu = np.diag(self.confusion_matrix) / (\n",
        "                np.sum(self.confusion_matrix, axis=1) + np.sum(self.confusion_matrix, axis=0) -\n",
        "                np.diag(self.confusion_matrix))\n",
        "\n",
        "        FWIoU = (freq[freq > 0] * iu[freq > 0]).sum()\n",
        "        return FWIoU\n",
        "\n",
        "    def _generate_matrix(self, gt_image, pre_image):\n",
        "        mask = (gt_image >= 0) & (gt_image < self.num_class)\n",
        "        label = self.num_class * gt_image[mask].astype('int') + pre_image[mask]\n",
        "        count = np.bincount(label, minlength=self.num_class ** 2)\n",
        "        confusion_matrix = count.reshape(self.num_class, self.num_class)\n",
        "        return confusion_matrix\n",
        "\n",
        "    def add_batch(self, gt_image, pre_image):\n",
        "        assert gt_image.shape == pre_image.shape, f\"gt shape is {gt_image.shape}, while pre shape is {pre_image.shape}\"\n",
        "\n",
        "        # gt_image=gt_image.astype(np.int8)\n",
        "        # pre_image = pre_image.astype(np.int8)\n",
        "        self.confusion_matrix += self._generate_matrix(gt_image, pre_image)\n",
        "        self.TP = self.confusion_matrix[1, 1]\n",
        "        self.FN = self.confusion_matrix[1, 0]\n",
        "        self.FP = self.confusion_matrix[0, 1]\n",
        "        self.TN = self.confusion_matrix[0, 0]\n",
        "\n",
        "    def F1(self):\n",
        "        return (2 * self.TP) / (2 * self.TP + self.FP + self.FN)\n",
        "\n",
        "    def Precision(self):\n",
        "        return self.TP / (self.TP + self.FP)\n",
        "\n",
        "    def Recall(self):\n",
        "        return self.TP / (self.TP + self.FN)\n",
        "\n",
        "    def OA(self):\n",
        "        return (self.TP + self.TN) / (self.TP + self.FP + self.TN + self.FN)\n",
        "\n",
        "    def IoU(self):\n",
        "        \"\"\"只算前景(1)类的IoU\"\"\"\n",
        "        return self.TP / (self.TP + self.FP + self.FN)\n",
        "\n",
        "    def reset(self):\n",
        "        self.confusion_matrix = np.zeros((self.num_class,) * 2)"
      ]
    },
    {
      "attachments": {},
      "cell_type": "markdown",
      "metadata": {
        "id": "WFWjrC7ux4Ba"
      },
      "source": [
        "### **处理输出**\n",
        "\n",
        "在这里，我们定义一些函数用来处理我们模型的输出：\n",
        "\n",
        "\n",
        "\n",
        "*   rle_encoding：将预测结果（二值掩膜）进行游程长度编码，从而压缩其大小，方便大家提交到Kaggle上\n",
        "*   process_output和process_testOutput：用于处理模型的输出\n",
        "\n",
        "\n",
        "\n",
        "\n"
      ]
    },
    {
      "cell_type": "code",
      "execution_count": null,
      "metadata": {
        "id": "mRMk9sFwu2VZ"
      },
      "outputs": [],
      "source": [
        "def rle_encoding(img):\n",
        "      # 游程长度编码程序\n",
        "      pixels = img.T.flatten()\n",
        "      pixels = np.concatenate([[0], pixels, [0]])\n",
        "      runs = np.where(pixels[1:] != pixels[:-1])[0] + 1\n",
        "      runs[1::2] -= runs[::2]\n",
        "      return ' '.join(str(x) for x in runs)\n",
        "# 模型的输出是建筑物概率值(0-1)，我们需要二值化输出来得到最终的预测结果\n",
        "def process_output(model_out,threshold=0.5): \n",
        "  model_out = torch.sigmoid(model_out) # 利用sigmoid 将预测结果转换为概率\n",
        "  out_new = model_out.detach().cpu().numpy()\n",
        "  out_new = np.where(out_new > threshold, 1, 0)\n",
        "  return out_new\n",
        "\n",
        "def process_testOutput(model_out,image_name,threshold=0.5): \n",
        "  model_out = torch.sigmoid(model_out) # 利用sigmoid 将预测结果转换为概率\n",
        "  out_new = model_out.detach().cpu().numpy()\n",
        "  out_new = np.where(out_new > threshold, 1, 0)\n",
        "  out_new = out_new[0][0]\n",
        "  out_new = out_new.astype(np.uint8)\n",
        "  # 在这里，我们用两种方式处理预测结果\n",
        "  # (1) 保存成二值图，方便我们肉眼观察\n",
        "  skimage.io.imsave(f\"pre/{image_name[0]}.png\",out_new)\n",
        "  # (2) 利用游程长度编码进行压缩，存储为csv格式，用于最终Kaggle平台上的提交\n",
        "  pre_encoding = rle_encoding(out_new)\n",
        "  return pre_encoding"
      ]
    },
    {
      "attachments": {},
      "cell_type": "markdown",
      "metadata": {
        "id": "51f5_MEAB9wL"
      },
      "source": [
        "### **训练、验证和测试**"
      ]
    },
    {
      "cell_type": "code",
      "execution_count": null,
      "metadata": {
        "id": "YUd5qUPZuxqC"
      },
      "outputs": [],
      "source": [
        "def train(train_dataset, val_dataset, config, model, evaluator):\n",
        "  \"\"\"训练代码\"\"\"\n",
        "  n_epochs = config['n_epochs'] # 训练次数\n",
        "  optimizer = getattr(torch.optim, config['optimizer'])(model.parameters(), **config['optim_hparas']) # 优化器\n",
        "  model.train() # 设置模型为训练模式（梯度可以回传）\n",
        "  pbar = tqdm(total=n_epochs, desc=\"Train Mode\", unit=\"epoch\") \n",
        "  loss = nn.BCEWithLogitsLoss() # 损失函数为二分类交叉熵\n",
        "  loss_log = {\"train_loss\": [], \"val_loss\": []}\n",
        "  iou_log =  {\"train_iou\": [], \"val_iou\": []}\n",
        "  f1_log = {\"train_f1\": [], \"val_f1\": []}\n",
        "  oa_log = {\"train_oa\": [], \"val_oa\": []}\n",
        "  best_accuracy = 0.0\n",
        "  best_state_dict = None\n",
        "  for epoch in range(n_epochs):\n",
        "      pbar.update()\n",
        "      epoch_loss = 0.0\n",
        "      for i,(x, label) in enumerate(train_dataset):\n",
        "          optimizer.zero_grad() # 将优化器里储存的梯度清零\n",
        "          x, label = x.to(device).float(), label.to(device).float()\n",
        "          pred = model(x)\n",
        "          ce_loss = loss(pred, label) # 计算损失\n",
        "          batch_loss = ce_loss.detach().cpu().item()\n",
        "          ce_loss.backward() # 损失回传\n",
        "          optimizer.step() # 梯度更新\n",
        "          loss_log[\"train_loss\"].append(ce_loss.detach().cpu().item())\n",
        "          epoch_loss += ce_loss.detach().cpu().item()\n",
        "          pred_processed = process_output(pred)\n",
        "          evaluator.add_batch(label.detach().cpu().numpy(), pred_processed)\n",
        "          pbar.set_postfix(\n",
        "              batch=f\"{i}/{len(train_dataset)}\",\n",
        "              batch_loss=f\"{batch_loss:.4f}\",\n",
        "              epoch=epoch+1\n",
        "          )\n",
        "      IoU = evaluator.IoU()\n",
        "      OA = evaluator.OA()\n",
        "      F1 = evaluator.F1()\n",
        "      f1_log[\"train_f1\"].append(F1)\n",
        "      oa_log[\"train_oa\"].append(OA)\n",
        "      iou_log[\"train_iou\"].append(IoU)\n",
        "      pbar.set_postfix(\n",
        "          epoch_sum_loss=f\"{epoch_loss:.4f}\",\n",
        "          epoch_IoU=f\"{IoU:.4f}\",\n",
        "          epoch_OA=f\"{OA:.4f}\",\n",
        "          epoch_F1=f\"{F1:.4f}\",\n",
        "          epoch=epoch + 1\n",
        "      )\n",
        "      evaluator.reset()\n",
        "      pbar.close()\n",
        "      val_loss, val_IoU, val_OA, val_F1 = val(val_dataset, model, evaluator)\n",
        "      loss_log[\"val_loss\"].append(val_loss)\n",
        "      f1_log[\"val_f1\"].append(val_F1)\n",
        "      oa_log[\"val_oa\"].append(val_OA)\n",
        "      iou_log[\"val_iou\"].append(val_IoU)\n",
        "      if val_IoU>best_accuracy:\n",
        "          best_accuracy = val_IoU\n",
        "          best_state_dict = model.state_dict()\n",
        "      pbar = tqdm(total=n_epochs, desc=\"Train Mode\", unit=\"step\", initial=epoch + 1)  # 重启 pbar\n",
        "      if best_state_dict is not None:\n",
        "          torch.save(best_state_dict, config[\"save_path\"] + \".ckpt\")\n",
        "          pbar.write(f\"epoch {epoch + 1}, best model saved. (accuracy={best_accuracy:.4f})\")\n",
        "          best_state_dict = None\n",
        "  return loss_log, iou_log,oa_log,f1_log,best_accuracy\n",
        "\n",
        "def val(dataloader,model,evaluator):\n",
        "  \"\"\"验证代码\"\"\"\n",
        "  model.eval()\n",
        "  pbar = tqdm(total=len(dataloader.dataset), ncols=0, desc=\"Valid Mode\", unit=\" uttr\")\n",
        "  loss = nn.BCEWithLogitsLoss() # 损失函数为二分类交叉熵\n",
        "  total_loss = 0.0\n",
        "  for i, (x,label) in enumerate(dataloader):\n",
        "      with torch.no_grad():\n",
        "          x, label = x.to(device).float(), label.to(device).float()\n",
        "          pred = model(x)\n",
        "          pred_processed = process_output(pred)\n",
        "          ce_loss = loss(pred,label)\n",
        "          total_loss += ce_loss.detach().cpu().item()\n",
        "          evaluator.add_batch(label.detach().cpu().numpy(), pred_processed)\n",
        "      pbar.update(dataloader.batch_size)\n",
        "  IoU = evaluator.IoU()\n",
        "  OA = evaluator.OA()\n",
        "  F1 = evaluator.F1()\n",
        "  pbar.set_postfix(\n",
        "      loss=f\"{total_loss :.4f}\",\n",
        "      IoU=f\"{IoU :.4f}\",\n",
        "      OA=f\"{OA :.4f}\",\n",
        "      F1=f\"{F1 :.4f}\",\n",
        "  )\n",
        "  evaluator.reset()\n",
        "  pbar.close()\n",
        "  model.train()\n",
        "\n",
        "  return total_loss / len(dataloader), IoU, OA, F1\n",
        "\n",
        "def test(dataloader,model):\n",
        "  \"\"\"测试代码\"\"\"\n",
        "  model.eval()\n",
        "  pbar = tqdm(total=len(dataloader.dataset), ncols=0, desc=\"Valid Mode\", unit=\" uttr\")\n",
        "  header = [\"ImageId\", \"EncodedPixels\"]\n",
        "  with open(\"pred.csv\", \"w\", newline=\"\") as f:\n",
        "    writer = csv.writer(f)\n",
        "    writer.writerow(header)\n",
        "    for i, (x,image_name) in enumerate(dataloader):\n",
        "      with torch.no_grad():\n",
        "        x = x.to(device).float()\n",
        "        pred = model(x)\n",
        "        pre_encoding = process_testOutput(pred,image_name)\n",
        "        in_data = [image_name[0], pre_encoding]\n",
        "        writer.writerow(in_data)\n",
        "      pbar.update(1)"
      ]
    },
    {
      "attachments": {},
      "cell_type": "markdown",
      "metadata": {
        "id": "BsVym88FCE_l"
      },
      "source": [
        "### 主程序"
      ]
    },
    {
      "cell_type": "code",
      "execution_count": null,
      "metadata": {
        "colab": {
          "base_uri": "https://localhost:8080/"
        },
        "id": "fjc0cL4ZYGFt",
        "outputId": "166c8b9b-9c63-4f69-daac-dc038fd44257"
      },
      "outputs": [
        {
          "name": "stdout",
          "output_type": "stream",
          "text": [
            " 在train阶段，我们有1350个样本\n",
            " 在val阶段，我们有540个样本\n"
          ]
        },
        {
          "name": "stderr",
          "output_type": "stream",
          "text": [
            "\rTrain Mode:   0%|          | 0/100 [00:00<?, ?epoch/s]/usr/local/lib/python3.7/dist-packages/torch/nn/functional.py:3722: UserWarning: nn.functional.upsample is deprecated. Use nn.functional.interpolate instead.\n",
            "  warnings.warn(\"nn.functional.upsample is deprecated. Use nn.functional.interpolate instead.\")\n",
            "Train Mode:   1%|          | 1/100 [00:27<45:15, 27.42s/epoch, epoch=1, epoch_F1=0.0378, epoch_IoU=0.0192, epoch_OA=0.8269, epoch_sum_loss=83.2719]\n",
            "Valid Mode: 544 uttr [00:05, 106.18 uttr/s, F1=0.0000, IoU=0.0000, OA=0.8639, loss=27.8098]\n",
            "Train Mode:   2%|▏         | 2/100 [00:20<32:41, 20.01s/step, epoch=2, epoch_F1=0.0000, epoch_IoU=0.0000, epoch_OA=0.8688, epoch_sum_loss=66.3071]\n",
            "Valid Mode: 544 uttr [00:05, 105.58 uttr/s, F1=0.0000, IoU=0.0000, OA=0.8639, loss=27.3184]\n",
            "Train Mode:   3%|▎         | 3/100 [00:20<32:51, 20.32s/step, epoch=3, epoch_F1=0.0000, epoch_IoU=0.0000, epoch_OA=0.8688, epoch_sum_loss=65.3047]\n",
            "Valid Mode: 544 uttr [00:05, 106.11 uttr/s, F1=0.0000, IoU=0.0000, OA=0.8639, loss=26.9280]\n",
            "Train Mode:   4%|▍         | 4/100 [00:20<33:19, 20.83s/step, epoch=4, epoch_F1=0.0000, epoch_IoU=0.0000, epoch_OA=0.8688, epoch_sum_loss=64.4196]\n",
            "Valid Mode: 544 uttr [00:05, 103.54 uttr/s, F1=0.0000, IoU=0.0000, OA=0.8639, loss=26.5910]\n",
            "Train Mode:   5%|▌         | 5/100 [00:20<32:59, 20.84s/step, epoch=5, epoch_F1=0.0000, epoch_IoU=0.0000, epoch_OA=0.8688, epoch_sum_loss=63.3083]\n",
            "Valid Mode: 544 uttr [00:05, 104.36 uttr/s, F1=0.0000, IoU=0.0000, OA=0.8639, loss=26.2731]\n",
            "Train Mode:   6%|▌         | 6/100 [00:21<33:25, 21.34s/step, epoch=6, epoch_F1=0.0000, epoch_IoU=0.0000, epoch_OA=0.8688, epoch_sum_loss=61.5677]\n",
            "Valid Mode: 544 uttr [00:05, 103.80 uttr/s, F1=0.0000, IoU=0.0000, OA=0.8639, loss=26.0906]\n",
            "Train Mode:   7%|▋         | 7/100 [00:21<32:49, 21.17s/step, epoch=7, epoch_F1=0.0000, epoch_IoU=0.0000, epoch_OA=0.8688, epoch_sum_loss=58.8734]\n",
            "Valid Mode: 544 uttr [00:05, 105.33 uttr/s, F1=0.0000, IoU=0.0000, OA=0.8639, loss=26.2591]\n",
            "Train Mode:   8%|▊         | 8/100 [00:21<32:43, 21.34s/step, epoch=8, epoch_F1=0.0023, epoch_IoU=0.0012, epoch_OA=0.8689, epoch_sum_loss=55.0037]\n",
            "Valid Mode: 544 uttr [00:05, 102.94 uttr/s, F1=0.0000, IoU=0.0000, OA=0.8639, loss=25.2477]\n",
            "Train Mode:   8%|▊         | 8/100 [00:00<?, ?step/s]"
          ]
        },
        {
          "name": "stdout",
          "output_type": "stream",
          "text": [
            "epoch 8, best model saved. (accuracy=0.0000)\n"
          ]
        },
        {
          "name": "stderr",
          "output_type": "stream",
          "text": [
            "Train Mode:   9%|▉         | 9/100 [00:21<32:47, 21.62s/step, epoch=9, epoch_F1=0.1137, epoch_IoU=0.0603, epoch_OA=0.8731, epoch_sum_loss=51.1830]\n",
            "Valid Mode: 544 uttr [00:05, 104.01 uttr/s, F1=0.0221, IoU=0.0112, OA=0.8648, loss=23.4217]\n",
            "Train Mode:   9%|▉         | 9/100 [00:00<?, ?step/s]"
          ]
        },
        {
          "name": "stdout",
          "output_type": "stream",
          "text": [
            "epoch 9, best model saved. (accuracy=0.0112)\n"
          ]
        },
        {
          "name": "stderr",
          "output_type": "stream",
          "text": [
            "Train Mode:  10%|█         | 10/100 [00:21<32:22, 21.58s/step, epoch=10, epoch_F1=0.3003, epoch_IoU=0.1767, epoch_OA=0.8801, epoch_sum_loss=48.9391]\n",
            "Valid Mode: 544 uttr [00:05, 105.61 uttr/s, F1=0.0768, IoU=0.0399, OA=0.8678, loss=22.7254]\n",
            "Train Mode:  10%|█         | 10/100 [00:00<?, ?step/s]"
          ]
        },
        {
          "name": "stdout",
          "output_type": "stream",
          "text": [
            "epoch 10, best model saved. (accuracy=0.0399)\n"
          ]
        },
        {
          "name": "stderr",
          "output_type": "stream",
          "text": [
            "Train Mode:  11%|█         | 11/100 [00:21<31:55, 21.53s/step, epoch=11, epoch_F1=0.3767, epoch_IoU=0.2321, epoch_OA=0.8850, epoch_sum_loss=47.5381]\n",
            "Valid Mode: 544 uttr [00:05, 103.77 uttr/s, F1=0.1468, IoU=0.0792, OA=0.8718, loss=22.0562]\n",
            "Train Mode:  11%|█         | 11/100 [00:00<?, ?step/s]"
          ]
        },
        {
          "name": "stdout",
          "output_type": "stream",
          "text": [
            "epoch 11, best model saved. (accuracy=0.0792)\n"
          ]
        },
        {
          "name": "stderr",
          "output_type": "stream",
          "text": [
            "Train Mode:  12%|█▏        | 12/100 [00:21<31:37, 21.57s/step, epoch=12, epoch_F1=0.4153, epoch_IoU=0.2621, epoch_OA=0.8885, epoch_sum_loss=46.5337]\n",
            "Valid Mode: 544 uttr [00:05, 104.61 uttr/s, F1=0.1894, IoU=0.1046, OA=0.8747, loss=21.5204]\n",
            "Train Mode:  12%|█▏        | 12/100 [00:00<?, ?step/s]"
          ]
        },
        {
          "name": "stdout",
          "output_type": "stream",
          "text": [
            "epoch 12, best model saved. (accuracy=0.1046)\n"
          ]
        },
        {
          "name": "stderr",
          "output_type": "stream",
          "text": [
            "Train Mode:  13%|█▎        | 13/100 [00:21<31:18, 21.59s/step, epoch=13, epoch_F1=0.4401, epoch_IoU=0.2821, epoch_OA=0.8909, epoch_sum_loss=45.7653]\n",
            "Valid Mode: 544 uttr [00:05, 104.32 uttr/s, F1=0.2232, IoU=0.1256, OA=0.8772, loss=21.0867]\n",
            "Train Mode:  13%|█▎        | 13/100 [00:00<?, ?step/s]"
          ]
        },
        {
          "name": "stdout",
          "output_type": "stream",
          "text": [
            "epoch 13, best model saved. (accuracy=0.1256)\n"
          ]
        },
        {
          "name": "stderr",
          "output_type": "stream",
          "text": [
            "Train Mode:  14%|█▍        | 14/100 [00:21<30:58, 21.61s/step, epoch=14, epoch_F1=0.4578, epoch_IoU=0.2968, epoch_OA=0.8926, epoch_sum_loss=45.1395]\n",
            "Valid Mode: 544 uttr [00:05, 105.22 uttr/s, F1=0.2503, IoU=0.1431, OA=0.8793, loss=20.7441]\n",
            "Train Mode:  14%|█▍        | 14/100 [00:00<?, ?step/s]"
          ]
        },
        {
          "name": "stdout",
          "output_type": "stream",
          "text": [
            "epoch 14, best model saved. (accuracy=0.1431)\n"
          ]
        },
        {
          "name": "stderr",
          "output_type": "stream",
          "text": [
            "Train Mode:  15%|█▌        | 15/100 [00:21<30:33, 21.57s/step, epoch=15, epoch_F1=0.4718, epoch_IoU=0.3087, epoch_OA=0.8941, epoch_sum_loss=44.6109]\n",
            "Valid Mode: 544 uttr [00:05, 103.36 uttr/s, F1=0.2714, IoU=0.1570, OA=0.8809, loss=20.4468]\n",
            "Train Mode:  15%|█▌        | 15/100 [00:00<?, ?step/s]"
          ]
        },
        {
          "name": "stdout",
          "output_type": "stream",
          "text": [
            "epoch 15, best model saved. (accuracy=0.1570)\n"
          ]
        },
        {
          "name": "stderr",
          "output_type": "stream",
          "text": [
            "Train Mode:  16%|█▌        | 16/100 [00:21<30:11, 21.57s/step, epoch=16, epoch_F1=0.4828, epoch_IoU=0.3182, epoch_OA=0.8953, epoch_sum_loss=44.1636]\n",
            "Valid Mode: 544 uttr [00:05, 105.12 uttr/s, F1=0.2904, IoU=0.1699, OA=0.8825, loss=20.1760]\n",
            "Train Mode:  16%|█▌        | 16/100 [00:00<?, ?step/s]"
          ]
        },
        {
          "name": "stdout",
          "output_type": "stream",
          "text": [
            "epoch 16, best model saved. (accuracy=0.1699)\n"
          ]
        },
        {
          "name": "stderr",
          "output_type": "stream",
          "text": [
            "Train Mode:  17%|█▋        | 17/100 [00:21<29:53, 21.61s/step, epoch=17, epoch_F1=0.4918, epoch_IoU=0.3261, epoch_OA=0.8964, epoch_sum_loss=43.7666]\n",
            "Valid Mode: 544 uttr [00:05, 105.99 uttr/s, F1=0.3088, IoU=0.1826, OA=0.8839, loss=19.9385]\n",
            "Train Mode:  17%|█▋        | 17/100 [00:00<?, ?step/s]"
          ]
        },
        {
          "name": "stdout",
          "output_type": "stream",
          "text": [
            "epoch 17, best model saved. (accuracy=0.1826)\n"
          ]
        },
        {
          "name": "stderr",
          "output_type": "stream",
          "text": [
            "Train Mode:  18%|█▊        | 18/100 [00:21<29:30, 21.59s/step, epoch=18, epoch_F1=0.4997, epoch_IoU=0.3331, epoch_OA=0.8973, epoch_sum_loss=43.4096]\n",
            "Valid Mode: 544 uttr [00:05, 103.63 uttr/s, F1=0.3252, IoU=0.1942, OA=0.8853, loss=19.7164]\n",
            "Train Mode:  18%|█▊        | 18/100 [00:00<?, ?step/s]"
          ]
        },
        {
          "name": "stdout",
          "output_type": "stream",
          "text": [
            "epoch 18, best model saved. (accuracy=0.1942)\n"
          ]
        },
        {
          "name": "stderr",
          "output_type": "stream",
          "text": [
            "Train Mode:  19%|█▉        | 19/100 [00:21<29:15, 21.68s/step, epoch=19, epoch_F1=0.5063, epoch_IoU=0.3389, epoch_OA=0.8980, epoch_sum_loss=43.0971]\n",
            "Valid Mode: 544 uttr [00:05, 105.33 uttr/s, F1=0.3399, IoU=0.2047, OA=0.8865, loss=19.5146]\n",
            "Train Mode:  19%|█▉        | 19/100 [00:00<?, ?step/s]"
          ]
        },
        {
          "name": "stdout",
          "output_type": "stream",
          "text": [
            "epoch 19, best model saved. (accuracy=0.2047)\n"
          ]
        },
        {
          "name": "stderr",
          "output_type": "stream",
          "text": [
            "Train Mode:  20%|██        | 20/100 [00:21<28:47, 21.60s/step, epoch=20, epoch_F1=0.5120, epoch_IoU=0.3441, epoch_OA=0.8987, epoch_sum_loss=42.8169]\n",
            "Valid Mode: 544 uttr [00:05, 103.78 uttr/s, F1=0.3507, IoU=0.2127, OA=0.8875, loss=19.3450]\n",
            "Train Mode:  20%|██        | 20/100 [00:00<?, ?step/s]"
          ]
        },
        {
          "name": "stdout",
          "output_type": "stream",
          "text": [
            "epoch 20, best model saved. (accuracy=0.2127)\n"
          ]
        },
        {
          "name": "stderr",
          "output_type": "stream",
          "text": [
            "Train Mode:  21%|██        | 21/100 [00:21<28:28, 21.62s/step, epoch=21, epoch_F1=0.5170, epoch_IoU=0.3486, epoch_OA=0.8993, epoch_sum_loss=42.5599]\n",
            "Valid Mode: 544 uttr [00:05, 104.37 uttr/s, F1=0.3595, IoU=0.2191, OA=0.8882, loss=19.1900]\n",
            "Train Mode:  21%|██        | 21/100 [00:00<?, ?step/s]"
          ]
        },
        {
          "name": "stdout",
          "output_type": "stream",
          "text": [
            "epoch 21, best model saved. (accuracy=0.2191)\n"
          ]
        },
        {
          "name": "stderr",
          "output_type": "stream",
          "text": [
            "Train Mode:  22%|██▏       | 22/100 [00:21<28:08, 21.65s/step, epoch=22, epoch_F1=0.5214, epoch_IoU=0.3527, epoch_OA=0.8999, epoch_sum_loss=42.3128]\n",
            "Valid Mode: 544 uttr [00:05, 104.68 uttr/s, F1=0.3706, IoU=0.2274, OA=0.8892, loss=19.0316]\n",
            "Train Mode:  22%|██▏       | 22/100 [00:00<?, ?step/s]"
          ]
        },
        {
          "name": "stdout",
          "output_type": "stream",
          "text": [
            "epoch 22, best model saved. (accuracy=0.2274)\n"
          ]
        },
        {
          "name": "stderr",
          "output_type": "stream",
          "text": [
            "Train Mode:  23%|██▎       | 23/100 [00:21<27:43, 21.60s/step, epoch=23, epoch_F1=0.5257, epoch_IoU=0.3566, epoch_OA=0.9005, epoch_sum_loss=42.0776]\n",
            "Valid Mode: 544 uttr [00:05, 104.67 uttr/s, F1=0.3782, IoU=0.2332, OA=0.8899, loss=18.8970]\n",
            "Train Mode:  23%|██▎       | 23/100 [00:00<?, ?step/s]"
          ]
        },
        {
          "name": "stdout",
          "output_type": "stream",
          "text": [
            "epoch 23, best model saved. (accuracy=0.2332)\n"
          ]
        },
        {
          "name": "stderr",
          "output_type": "stream",
          "text": [
            "Train Mode:  24%|██▍       | 24/100 [00:21<27:25, 21.65s/step, epoch=24, epoch_F1=0.5295, epoch_IoU=0.3600, epoch_OA=0.9010, epoch_sum_loss=41.8581]\n",
            "Valid Mode: 544 uttr [00:05, 103.97 uttr/s, F1=0.3846, IoU=0.2381, OA=0.8904, loss=18.7680]\n",
            "Train Mode:  24%|██▍       | 24/100 [00:00<?, ?step/s]"
          ]
        },
        {
          "name": "stdout",
          "output_type": "stream",
          "text": [
            "epoch 24, best model saved. (accuracy=0.2381)\n"
          ]
        },
        {
          "name": "stderr",
          "output_type": "stream",
          "text": [
            "Train Mode:  25%|██▌       | 25/100 [00:21<27:03, 21.65s/step, epoch=25, epoch_F1=0.5330, epoch_IoU=0.3633, epoch_OA=0.9014, epoch_sum_loss=41.6423]\n",
            "Valid Mode: 544 uttr [00:05, 105.02 uttr/s, F1=0.3938, IoU=0.2452, OA=0.8913, loss=18.6355]\n",
            "Train Mode:  25%|██▌       | 25/100 [00:00<?, ?step/s]"
          ]
        },
        {
          "name": "stdout",
          "output_type": "stream",
          "text": [
            "epoch 25, best model saved. (accuracy=0.2452)\n"
          ]
        },
        {
          "name": "stderr",
          "output_type": "stream",
          "text": [
            "Train Mode:  26%|██▌       | 26/100 [00:21<26:40, 21.63s/step, epoch=26, epoch_F1=0.5366, epoch_IoU=0.3667, epoch_OA=0.9019, epoch_sum_loss=41.4302]\n",
            "Valid Mode: 544 uttr [00:05, 103.67 uttr/s, F1=0.4007, IoU=0.2505, OA=0.8919, loss=18.5279]\n",
            "Train Mode:  26%|██▌       | 26/100 [00:00<?, ?step/s]"
          ]
        },
        {
          "name": "stdout",
          "output_type": "stream",
          "text": [
            "epoch 26, best model saved. (accuracy=0.2505)\n"
          ]
        },
        {
          "name": "stderr",
          "output_type": "stream",
          "text": [
            "Train Mode:  27%|██▋       | 27/100 [00:21<26:16, 21.60s/step, epoch=27, epoch_F1=0.5398, epoch_IoU=0.3697, epoch_OA=0.9024, epoch_sum_loss=41.2319]\n",
            "Valid Mode: 544 uttr [00:05, 104.18 uttr/s, F1=0.4030, IoU=0.2523, OA=0.8922, loss=18.4414]\n",
            "Train Mode:  27%|██▋       | 27/100 [00:00<?, ?step/s]"
          ]
        },
        {
          "name": "stdout",
          "output_type": "stream",
          "text": [
            "epoch 27, best model saved. (accuracy=0.2523)\n"
          ]
        },
        {
          "name": "stderr",
          "output_type": "stream",
          "text": [
            "Train Mode:  28%|██▊       | 28/100 [00:21<26:05, 21.74s/step, epoch=28, epoch_F1=0.5426, epoch_IoU=0.3723, epoch_OA=0.9028, epoch_sum_loss=41.0415]\n",
            "Valid Mode: 544 uttr [00:05, 98.75 uttr/s, F1=0.4098, IoU=0.2577, OA=0.8928, loss=18.3328]\n",
            "Train Mode:  28%|██▊       | 28/100 [00:00<?, ?step/s]"
          ]
        },
        {
          "name": "stdout",
          "output_type": "stream",
          "text": [
            "epoch 28, best model saved. (accuracy=0.2577)\n"
          ]
        },
        {
          "name": "stderr",
          "output_type": "stream",
          "text": [
            "Train Mode:  29%|██▉       | 29/100 [00:23<28:12, 23.83s/step, epoch=29, epoch_F1=0.5455, epoch_IoU=0.3750, epoch_OA=0.9032, epoch_sum_loss=40.8571]\n",
            "Valid Mode: 544 uttr [00:05, 102.87 uttr/s, F1=0.4143, IoU=0.2613, OA=0.8932, loss=18.2380]\n",
            "Train Mode:  29%|██▉       | 29/100 [00:00<?, ?step/s]"
          ]
        },
        {
          "name": "stdout",
          "output_type": "stream",
          "text": [
            "epoch 29, best model saved. (accuracy=0.2613)\n"
          ]
        },
        {
          "name": "stderr",
          "output_type": "stream",
          "text": [
            "Train Mode:  30%|███       | 30/100 [00:21<25:17, 21.68s/step, epoch=30, epoch_F1=0.5481, epoch_IoU=0.3775, epoch_OA=0.9036, epoch_sum_loss=40.6756]\n",
            "Valid Mode: 544 uttr [00:05, 104.47 uttr/s, F1=0.4187, IoU=0.2648, OA=0.8937, loss=18.1473]\n",
            "Train Mode:  30%|███       | 30/100 [00:00<?, ?step/s]"
          ]
        },
        {
          "name": "stdout",
          "output_type": "stream",
          "text": [
            "epoch 30, best model saved. (accuracy=0.2648)\n"
          ]
        },
        {
          "name": "stderr",
          "output_type": "stream",
          "text": [
            "Train Mode:  31%|███       | 31/100 [00:21<24:54, 21.65s/step, epoch=31, epoch_F1=0.5507, epoch_IoU=0.3800, epoch_OA=0.9040, epoch_sum_loss=40.4875]\n",
            "Valid Mode: 544 uttr [00:05, 103.65 uttr/s, F1=0.4230, IoU=0.2683, OA=0.8941, loss=18.0634]\n",
            "Train Mode:  31%|███       | 31/100 [00:00<?, ?step/s]"
          ]
        },
        {
          "name": "stdout",
          "output_type": "stream",
          "text": [
            "epoch 31, best model saved. (accuracy=0.2683)\n"
          ]
        },
        {
          "name": "stderr",
          "output_type": "stream",
          "text": [
            "Train Mode:  32%|███▏      | 32/100 [00:21<24:42, 21.80s/step, epoch=32, epoch_F1=0.5534, epoch_IoU=0.3826, epoch_OA=0.9045, epoch_sum_loss=40.3013]\n",
            "Valid Mode: 544 uttr [00:05, 104.72 uttr/s, F1=0.4269, IoU=0.2714, OA=0.8945, loss=17.9838]\n",
            "Train Mode:  32%|███▏      | 32/100 [00:00<?, ?step/s]"
          ]
        },
        {
          "name": "stdout",
          "output_type": "stream",
          "text": [
            "epoch 32, best model saved. (accuracy=0.2714)\n"
          ]
        },
        {
          "name": "stderr",
          "output_type": "stream",
          "text": [
            "Train Mode:  33%|███▎      | 33/100 [00:21<24:10, 21.64s/step, epoch=33, epoch_F1=0.5560, epoch_IoU=0.3850, epoch_OA=0.9048, epoch_sum_loss=40.1281]\n",
            "Valid Mode: 544 uttr [00:05, 103.03 uttr/s, F1=0.4312, IoU=0.2748, OA=0.8949, loss=17.9034]\n",
            "Train Mode:  33%|███▎      | 33/100 [00:00<?, ?step/s]"
          ]
        },
        {
          "name": "stdout",
          "output_type": "stream",
          "text": [
            "epoch 33, best model saved. (accuracy=0.2748)\n"
          ]
        },
        {
          "name": "stderr",
          "output_type": "stream",
          "text": [
            "Train Mode:  34%|███▍      | 34/100 [00:21<23:51, 21.69s/step, epoch=34, epoch_F1=0.5583, epoch_IoU=0.3873, epoch_OA=0.9052, epoch_sum_loss=39.9671]\n",
            "Valid Mode: 544 uttr [00:05, 103.78 uttr/s, F1=0.4346, IoU=0.2776, OA=0.8953, loss=17.8250]\n",
            "Train Mode:  34%|███▍      | 34/100 [00:00<?, ?step/s]"
          ]
        },
        {
          "name": "stdout",
          "output_type": "stream",
          "text": [
            "epoch 34, best model saved. (accuracy=0.2776)\n"
          ]
        },
        {
          "name": "stderr",
          "output_type": "stream",
          "text": [
            "Train Mode:  35%|███▌      | 35/100 [00:21<23:24, 21.60s/step, epoch=35, epoch_F1=0.5606, epoch_IoU=0.3894, epoch_OA=0.9056, epoch_sum_loss=39.8066]\n",
            "Valid Mode: 544 uttr [00:05, 103.74 uttr/s, F1=0.4390, IoU=0.2813, OA=0.8957, loss=17.7397]\n",
            "Train Mode:  35%|███▌      | 35/100 [00:00<?, ?step/s]"
          ]
        },
        {
          "name": "stdout",
          "output_type": "stream",
          "text": [
            "epoch 35, best model saved. (accuracy=0.2813)\n"
          ]
        },
        {
          "name": "stderr",
          "output_type": "stream",
          "text": [
            "Train Mode:  36%|███▌      | 36/100 [00:21<23:04, 21.63s/step, epoch=36, epoch_F1=0.5628, epoch_IoU=0.3916, epoch_OA=0.9059, epoch_sum_loss=39.6498]\n",
            "Valid Mode: 544 uttr [00:05, 103.46 uttr/s, F1=0.4420, IoU=0.2837, OA=0.8960, loss=17.6619]\n",
            "Train Mode:  36%|███▌      | 36/100 [00:00<?, ?step/s]"
          ]
        },
        {
          "name": "stdout",
          "output_type": "stream",
          "text": [
            "epoch 36, best model saved. (accuracy=0.2837)\n"
          ]
        },
        {
          "name": "stderr",
          "output_type": "stream",
          "text": [
            "Train Mode:  37%|███▋      | 37/100 [00:21<22:44, 21.65s/step, epoch=37, epoch_F1=0.5649, epoch_IoU=0.3936, epoch_OA=0.9062, epoch_sum_loss=39.4944]\n",
            "Valid Mode: 544 uttr [00:05, 104.81 uttr/s, F1=0.4457, IoU=0.2867, OA=0.8964, loss=17.5821]\n",
            "Train Mode:  37%|███▋      | 37/100 [00:00<?, ?step/s]"
          ]
        },
        {
          "name": "stdout",
          "output_type": "stream",
          "text": [
            "epoch 37, best model saved. (accuracy=0.2867)\n"
          ]
        },
        {
          "name": "stderr",
          "output_type": "stream",
          "text": [
            "Train Mode:  38%|███▊      | 38/100 [00:21<22:19, 21.61s/step, epoch=38, epoch_F1=0.5670, epoch_IoU=0.3956, epoch_OA=0.9066, epoch_sum_loss=39.3408]\n",
            "Valid Mode: 544 uttr [00:05, 104.05 uttr/s, F1=0.4498, IoU=0.2901, OA=0.8968, loss=17.5029]\n",
            "Train Mode:  38%|███▊      | 38/100 [00:00<?, ?step/s]"
          ]
        },
        {
          "name": "stdout",
          "output_type": "stream",
          "text": [
            "epoch 38, best model saved. (accuracy=0.2901)\n"
          ]
        },
        {
          "name": "stderr",
          "output_type": "stream",
          "text": [
            "Train Mode:  39%|███▉      | 39/100 [00:21<21:51, 21.51s/step, epoch=39, epoch_F1=0.5690, epoch_IoU=0.3976, epoch_OA=0.9069, epoch_sum_loss=39.1909]\n",
            "Valid Mode: 544 uttr [00:05, 104.97 uttr/s, F1=0.4535, IoU=0.2933, OA=0.8972, loss=17.4252]\n",
            "Train Mode:  39%|███▉      | 39/100 [00:00<?, ?step/s]"
          ]
        },
        {
          "name": "stdout",
          "output_type": "stream",
          "text": [
            "epoch 39, best model saved. (accuracy=0.2933)\n"
          ]
        },
        {
          "name": "stderr",
          "output_type": "stream",
          "text": [
            "Train Mode:  40%|████      | 40/100 [00:21<21:33, 21.56s/step, epoch=40, epoch_F1=0.5711, epoch_IoU=0.3996, epoch_OA=0.9072, epoch_sum_loss=39.0432]\n",
            "Valid Mode: 544 uttr [00:05, 104.24 uttr/s, F1=0.4576, IoU=0.2967, OA=0.8976, loss=17.3502]\n",
            "Train Mode:  40%|████      | 40/100 [00:00<?, ?step/s]"
          ]
        },
        {
          "name": "stdout",
          "output_type": "stream",
          "text": [
            "epoch 40, best model saved. (accuracy=0.2967)\n"
          ]
        },
        {
          "name": "stderr",
          "output_type": "stream",
          "text": [
            "Train Mode:  41%|████      | 41/100 [00:21<21:16, 21.63s/step, epoch=41, epoch_F1=0.5730, epoch_IoU=0.4016, epoch_OA=0.9075, epoch_sum_loss=38.8996]\n",
            "Valid Mode: 544 uttr [00:05, 105.23 uttr/s, F1=0.4615, IoU=0.2999, OA=0.8980, loss=17.2775]\n",
            "Train Mode:  41%|████      | 41/100 [00:00<?, ?step/s]"
          ]
        },
        {
          "name": "stdout",
          "output_type": "stream",
          "text": [
            "epoch 41, best model saved. (accuracy=0.2999)\n"
          ]
        },
        {
          "name": "stderr",
          "output_type": "stream",
          "text": [
            "Train Mode:  42%|████▏     | 42/100 [00:21<20:51, 21.58s/step, epoch=42, epoch_F1=0.5750, epoch_IoU=0.4035, epoch_OA=0.9078, epoch_sum_loss=38.7589]\n",
            "Valid Mode: 544 uttr [00:05, 103.61 uttr/s, F1=0.4656, IoU=0.3034, OA=0.8984, loss=17.2069]\n",
            "Train Mode:  42%|████▏     | 42/100 [00:00<?, ?step/s]"
          ]
        },
        {
          "name": "stdout",
          "output_type": "stream",
          "text": [
            "epoch 42, best model saved. (accuracy=0.3034)\n"
          ]
        },
        {
          "name": "stderr",
          "output_type": "stream",
          "text": [
            "Train Mode:  43%|████▎     | 43/100 [00:21<20:25, 21.50s/step, epoch=43, epoch_F1=0.5769, epoch_IoU=0.4054, epoch_OA=0.9081, epoch_sum_loss=38.6243]\n",
            "Valid Mode: 544 uttr [00:05, 106.45 uttr/s, F1=0.4691, IoU=0.3064, OA=0.8988, loss=17.1390]\n",
            "Train Mode:  43%|████▎     | 43/100 [00:00<?, ?step/s]"
          ]
        },
        {
          "name": "stdout",
          "output_type": "stream",
          "text": [
            "epoch 43, best model saved. (accuracy=0.3064)\n"
          ]
        },
        {
          "name": "stderr",
          "output_type": "stream",
          "text": [
            "Train Mode:  44%|████▍     | 44/100 [00:21<20:07, 21.56s/step, epoch=44, epoch_F1=0.5788, epoch_IoU=0.4073, epoch_OA=0.9084, epoch_sum_loss=38.4939]\n",
            "Valid Mode: 544 uttr [00:05, 105.49 uttr/s, F1=0.4729, IoU=0.3097, OA=0.8991, loss=17.0718]\n",
            "Train Mode:  44%|████▍     | 44/100 [00:00<?, ?step/s]"
          ]
        },
        {
          "name": "stdout",
          "output_type": "stream",
          "text": [
            "epoch 44, best model saved. (accuracy=0.3097)\n"
          ]
        },
        {
          "name": "stderr",
          "output_type": "stream",
          "text": [
            "Train Mode:  45%|████▌     | 45/100 [00:21<19:46, 21.57s/step, epoch=45, epoch_F1=0.5807, epoch_IoU=0.4091, epoch_OA=0.9087, epoch_sum_loss=38.3662]\n",
            "Valid Mode: 544 uttr [00:05, 104.61 uttr/s, F1=0.4770, IoU=0.3132, OA=0.8996, loss=17.0103]\n",
            "Train Mode:  45%|████▌     | 45/100 [00:00<?, ?step/s]"
          ]
        },
        {
          "name": "stdout",
          "output_type": "stream",
          "text": [
            "epoch 45, best model saved. (accuracy=0.3132)\n"
          ]
        },
        {
          "name": "stderr",
          "output_type": "stream",
          "text": [
            "Train Mode:  46%|████▌     | 46/100 [00:21<19:22, 21.53s/step, epoch=46, epoch_F1=0.5825, epoch_IoU=0.4109, epoch_OA=0.9089, epoch_sum_loss=38.2445]\n",
            "Valid Mode: 544 uttr [00:05, 106.15 uttr/s, F1=0.4801, IoU=0.3158, OA=0.8999, loss=16.9514]\n",
            "Train Mode:  46%|████▌     | 46/100 [00:00<?, ?step/s]"
          ]
        },
        {
          "name": "stdout",
          "output_type": "stream",
          "text": [
            "epoch 46, best model saved. (accuracy=0.3158)\n"
          ]
        },
        {
          "name": "stderr",
          "output_type": "stream",
          "text": [
            "Train Mode:  47%|████▋     | 47/100 [00:21<19:03, 21.58s/step, epoch=47, epoch_F1=0.5842, epoch_IoU=0.4126, epoch_OA=0.9092, epoch_sum_loss=38.1277]\n",
            "Valid Mode: 544 uttr [00:05, 105.69 uttr/s, F1=0.4833, IoU=0.3186, OA=0.9002, loss=16.8936]\n",
            "Train Mode:  47%|████▋     | 47/100 [00:00<?, ?step/s]"
          ]
        },
        {
          "name": "stdout",
          "output_type": "stream",
          "text": [
            "epoch 47, best model saved. (accuracy=0.3186)\n"
          ]
        },
        {
          "name": "stderr",
          "output_type": "stream",
          "text": [
            "Train Mode:  48%|████▊     | 48/100 [00:21<18:43, 21.60s/step, epoch=48, epoch_F1=0.5860, epoch_IoU=0.4144, epoch_OA=0.9094, epoch_sum_loss=38.0136]\n",
            "Valid Mode: 544 uttr [00:05, 104.77 uttr/s, F1=0.4864, IoU=0.3214, OA=0.9005, loss=16.8420]\n",
            "Train Mode:  48%|████▊     | 48/100 [00:00<?, ?step/s]"
          ]
        },
        {
          "name": "stdout",
          "output_type": "stream",
          "text": [
            "epoch 48, best model saved. (accuracy=0.3214)\n"
          ]
        },
        {
          "name": "stderr",
          "output_type": "stream",
          "text": [
            "Train Mode:  49%|████▉     | 49/100 [00:21<18:23, 21.63s/step, epoch=49, epoch_F1=0.5877, epoch_IoU=0.4161, epoch_OA=0.9097, epoch_sum_loss=37.9042]\n",
            "Valid Mode: 544 uttr [00:05, 105.87 uttr/s, F1=0.4892, IoU=0.3238, OA=0.9008, loss=16.7893]\n",
            "Train Mode:  49%|████▉     | 49/100 [00:00<?, ?step/s]"
          ]
        },
        {
          "name": "stdout",
          "output_type": "stream",
          "text": [
            "epoch 49, best model saved. (accuracy=0.3238)\n"
          ]
        },
        {
          "name": "stderr",
          "output_type": "stream",
          "text": [
            "Train Mode:  50%|█████     | 50/100 [00:21<17:58, 21.58s/step, epoch=50, epoch_F1=0.5894, epoch_IoU=0.4179, epoch_OA=0.9100, epoch_sum_loss=37.7978]\n",
            "Valid Mode: 544 uttr [00:05, 106.64 uttr/s, F1=0.4922, IoU=0.3265, OA=0.9011, loss=16.7414]\n",
            "Train Mode:  50%|█████     | 50/100 [00:00<?, ?step/s]"
          ]
        },
        {
          "name": "stdout",
          "output_type": "stream",
          "text": [
            "epoch 50, best model saved. (accuracy=0.3265)\n"
          ]
        },
        {
          "name": "stderr",
          "output_type": "stream",
          "text": [
            "Train Mode:  51%|█████     | 51/100 [00:21<17:38, 21.60s/step, epoch=51, epoch_F1=0.5911, epoch_IoU=0.4195, epoch_OA=0.9102, epoch_sum_loss=37.6921]\n",
            "Valid Mode: 544 uttr [00:05, 105.65 uttr/s, F1=0.4953, IoU=0.3291, OA=0.9015, loss=16.6925]\n",
            "Train Mode:  51%|█████     | 51/100 [00:00<?, ?step/s]"
          ]
        },
        {
          "name": "stdout",
          "output_type": "stream",
          "text": [
            "epoch 51, best model saved. (accuracy=0.3291)\n"
          ]
        },
        {
          "name": "stderr",
          "output_type": "stream",
          "text": [
            "Train Mode:  52%|█████▏    | 52/100 [00:21<17:14, 21.55s/step, epoch=52, epoch_F1=0.5926, epoch_IoU=0.4211, epoch_OA=0.9104, epoch_sum_loss=37.5921]\n",
            "Valid Mode: 544 uttr [00:05, 105.63 uttr/s, F1=0.4979, IoU=0.3315, OA=0.9017, loss=16.6455]\n",
            "Train Mode:  52%|█████▏    | 52/100 [00:00<?, ?step/s]"
          ]
        },
        {
          "name": "stdout",
          "output_type": "stream",
          "text": [
            "epoch 52, best model saved. (accuracy=0.3315)\n"
          ]
        },
        {
          "name": "stderr",
          "output_type": "stream",
          "text": [
            "Train Mode:  53%|█████▎    | 53/100 [00:21<16:55, 21.60s/step, epoch=53, epoch_F1=0.5941, epoch_IoU=0.4226, epoch_OA=0.9106, epoch_sum_loss=37.4963]\n",
            "Valid Mode: 544 uttr [00:05, 104.93 uttr/s, F1=0.5004, IoU=0.3337, OA=0.9020, loss=16.5973]\n",
            "Train Mode:  53%|█████▎    | 53/100 [00:00<?, ?step/s]"
          ]
        },
        {
          "name": "stdout",
          "output_type": "stream",
          "text": [
            "epoch 53, best model saved. (accuracy=0.3337)\n"
          ]
        },
        {
          "name": "stderr",
          "output_type": "stream",
          "text": [
            "Train Mode:  54%|█████▍    | 54/100 [00:21<16:30, 21.52s/step, epoch=54, epoch_F1=0.5955, epoch_IoU=0.4240, epoch_OA=0.9109, epoch_sum_loss=37.4034]\n",
            "Valid Mode: 544 uttr [00:05, 105.95 uttr/s, F1=0.5028, IoU=0.3358, OA=0.9022, loss=16.5535]\n",
            "Train Mode:  54%|█████▍    | 54/100 [00:00<?, ?step/s]"
          ]
        },
        {
          "name": "stdout",
          "output_type": "stream",
          "text": [
            "epoch 54, best model saved. (accuracy=0.3358)\n"
          ]
        },
        {
          "name": "stderr",
          "output_type": "stream",
          "text": [
            "Train Mode:  55%|█████▌    | 55/100 [00:21<16:09, 21.55s/step, epoch=55, epoch_F1=0.5970, epoch_IoU=0.4255, epoch_OA=0.9111, epoch_sum_loss=37.3114]\n",
            "Valid Mode: 544 uttr [00:05, 105.71 uttr/s, F1=0.5054, IoU=0.3382, OA=0.9025, loss=16.5098]\n",
            "Train Mode:  55%|█████▌    | 55/100 [00:00<?, ?step/s]"
          ]
        },
        {
          "name": "stdout",
          "output_type": "stream",
          "text": [
            "epoch 55, best model saved. (accuracy=0.3382)\n"
          ]
        },
        {
          "name": "stderr",
          "output_type": "stream",
          "text": [
            "Train Mode:  56%|█████▌    | 56/100 [00:21<15:47, 21.53s/step, epoch=56, epoch_F1=0.5983, epoch_IoU=0.4268, epoch_OA=0.9112, epoch_sum_loss=37.2243]\n",
            "Valid Mode: 544 uttr [00:05, 106.94 uttr/s, F1=0.5078, IoU=0.3403, OA=0.9027, loss=16.4629]\n",
            "Train Mode:  56%|█████▌    | 56/100 [00:00<?, ?step/s]"
          ]
        },
        {
          "name": "stdout",
          "output_type": "stream",
          "text": [
            "epoch 56, best model saved. (accuracy=0.3403)\n"
          ]
        },
        {
          "name": "stderr",
          "output_type": "stream",
          "text": [
            "Train Mode:  57%|█████▋    | 57/100 [00:21<15:25, 21.52s/step, epoch=57, epoch_F1=0.5996, epoch_IoU=0.4281, epoch_OA=0.9114, epoch_sum_loss=37.1386]\n",
            "Valid Mode: 544 uttr [00:05, 106.05 uttr/s, F1=0.5099, IoU=0.3422, OA=0.9029, loss=16.4214]\n",
            "Train Mode:  57%|█████▋    | 57/100 [00:00<?, ?step/s]"
          ]
        },
        {
          "name": "stdout",
          "output_type": "stream",
          "text": [
            "epoch 57, best model saved. (accuracy=0.3422)\n"
          ]
        },
        {
          "name": "stderr",
          "output_type": "stream",
          "text": [
            "Train Mode:  58%|█████▊    | 58/100 [00:21<15:06, 21.59s/step, epoch=58, epoch_F1=0.6008, epoch_IoU=0.4294, epoch_OA=0.9116, epoch_sum_loss=37.0548]\n",
            "Valid Mode: 544 uttr [00:05, 106.74 uttr/s, F1=0.5121, IoU=0.3441, OA=0.9032, loss=16.3792]\n",
            "Train Mode:  58%|█████▊    | 58/100 [00:00<?, ?step/s]"
          ]
        },
        {
          "name": "stdout",
          "output_type": "stream",
          "text": [
            "epoch 58, best model saved. (accuracy=0.3441)\n"
          ]
        },
        {
          "name": "stderr",
          "output_type": "stream",
          "text": [
            "Train Mode:  59%|█████▉    | 59/100 [00:21<14:43, 21.56s/step, epoch=59, epoch_F1=0.6021, epoch_IoU=0.4307, epoch_OA=0.9118, epoch_sum_loss=36.9735]\n",
            "Valid Mode: 544 uttr [00:05, 107.23 uttr/s, F1=0.5142, IoU=0.3461, OA=0.9034, loss=16.3360]\n",
            "Train Mode:  59%|█████▉    | 59/100 [00:00<?, ?step/s]"
          ]
        },
        {
          "name": "stdout",
          "output_type": "stream",
          "text": [
            "epoch 59, best model saved. (accuracy=0.3461)\n"
          ]
        },
        {
          "name": "stderr",
          "output_type": "stream",
          "text": [
            "Train Mode:  60%|██████    | 60/100 [00:21<14:20, 21.51s/step, epoch=60, epoch_F1=0.6033, epoch_IoU=0.4319, epoch_OA=0.9120, epoch_sum_loss=36.8939]\n",
            "Valid Mode: 544 uttr [00:05, 105.38 uttr/s, F1=0.5162, IoU=0.3479, OA=0.9036, loss=16.2966]\n",
            "Train Mode:  60%|██████    | 60/100 [00:00<?, ?step/s]"
          ]
        },
        {
          "name": "stdout",
          "output_type": "stream",
          "text": [
            "epoch 60, best model saved. (accuracy=0.3479)\n"
          ]
        },
        {
          "name": "stderr",
          "output_type": "stream",
          "text": [
            "Train Mode:  61%|██████    | 61/100 [00:21<13:58, 21.49s/step, epoch=61, epoch_F1=0.6045, epoch_IoU=0.4331, epoch_OA=0.9121, epoch_sum_loss=36.8165]\n",
            "Valid Mode: 544 uttr [00:05, 107.63 uttr/s, F1=0.5182, IoU=0.3497, OA=0.9038, loss=16.2555]\n",
            "Train Mode:  61%|██████    | 61/100 [00:00<?, ?step/s]"
          ]
        },
        {
          "name": "stdout",
          "output_type": "stream",
          "text": [
            "epoch 61, best model saved. (accuracy=0.3497)\n"
          ]
        },
        {
          "name": "stderr",
          "output_type": "stream",
          "text": [
            "Train Mode:  62%|██████▏   | 62/100 [00:21<13:39, 21.57s/step, epoch=62, epoch_F1=0.6056, epoch_IoU=0.4343, epoch_OA=0.9123, epoch_sum_loss=36.7400]\n",
            "Valid Mode: 544 uttr [00:05, 105.46 uttr/s, F1=0.5200, IoU=0.3513, OA=0.9040, loss=16.2187]\n",
            "Train Mode:  62%|██████▏   | 62/100 [00:00<?, ?step/s]"
          ]
        },
        {
          "name": "stdout",
          "output_type": "stream",
          "text": [
            "epoch 62, best model saved. (accuracy=0.3513)\n"
          ]
        },
        {
          "name": "stderr",
          "output_type": "stream",
          "text": [
            "Train Mode:  63%|██████▎   | 63/100 [00:21<13:16, 21.53s/step, epoch=63, epoch_F1=0.6067, epoch_IoU=0.4354, epoch_OA=0.9125, epoch_sum_loss=36.6641]\n",
            "Valid Mode: 544 uttr [00:05, 105.93 uttr/s, F1=0.5225, IoU=0.3536, OA=0.9043, loss=16.1780]\n",
            "Train Mode:  63%|██████▎   | 63/100 [00:00<?, ?step/s]"
          ]
        },
        {
          "name": "stdout",
          "output_type": "stream",
          "text": [
            "epoch 63, best model saved. (accuracy=0.3536)\n"
          ]
        },
        {
          "name": "stderr",
          "output_type": "stream",
          "text": [
            "Train Mode:  64%|██████▍   | 64/100 [00:21<12:56, 21.58s/step, epoch=64, epoch_F1=0.6078, epoch_IoU=0.4365, epoch_OA=0.9126, epoch_sum_loss=36.5913]\n",
            "Valid Mode: 544 uttr [00:05, 107.58 uttr/s, F1=0.5240, IoU=0.3550, OA=0.9044, loss=16.1386]\n",
            "Train Mode:  64%|██████▍   | 64/100 [00:00<?, ?step/s]"
          ]
        },
        {
          "name": "stdout",
          "output_type": "stream",
          "text": [
            "epoch 64, best model saved. (accuracy=0.3550)\n"
          ]
        },
        {
          "name": "stderr",
          "output_type": "stream",
          "text": [
            "Train Mode:  65%|██████▌   | 65/100 [00:21<12:35, 21.58s/step, epoch=65, epoch_F1=0.6088, epoch_IoU=0.4376, epoch_OA=0.9128, epoch_sum_loss=36.5192]\n",
            "Valid Mode: 544 uttr [00:05, 108.64 uttr/s, F1=0.5264, IoU=0.3573, OA=0.9047, loss=16.0978]\n",
            "Train Mode:  65%|██████▌   | 65/100 [00:00<?, ?step/s]"
          ]
        },
        {
          "name": "stdout",
          "output_type": "stream",
          "text": [
            "epoch 65, best model saved. (accuracy=0.3573)\n"
          ]
        },
        {
          "name": "stderr",
          "output_type": "stream",
          "text": [
            "Train Mode:  66%|██████▌   | 66/100 [00:21<12:12, 21.55s/step, epoch=66, epoch_F1=0.6099, epoch_IoU=0.4387, epoch_OA=0.9129, epoch_sum_loss=36.4485]\n",
            "Valid Mode: 544 uttr [00:05, 107.92 uttr/s, F1=0.5278, IoU=0.3585, OA=0.9048, loss=16.0618]\n",
            "Train Mode:  66%|██████▌   | 66/100 [00:00<?, ?step/s]"
          ]
        },
        {
          "name": "stdout",
          "output_type": "stream",
          "text": [
            "epoch 66, best model saved. (accuracy=0.3585)\n"
          ]
        },
        {
          "name": "stderr",
          "output_type": "stream",
          "text": [
            "Train Mode:  67%|██████▋   | 67/100 [00:21<11:53, 21.63s/step, epoch=67, epoch_F1=0.6109, epoch_IoU=0.4398, epoch_OA=0.9131, epoch_sum_loss=36.3795]\n",
            "Valid Mode: 544 uttr [00:05, 107.35 uttr/s, F1=0.5301, IoU=0.3607, OA=0.9051, loss=16.0204]\n",
            "Train Mode:  67%|██████▋   | 67/100 [00:00<?, ?step/s]"
          ]
        },
        {
          "name": "stdout",
          "output_type": "stream",
          "text": [
            "epoch 67, best model saved. (accuracy=0.3607)\n"
          ]
        },
        {
          "name": "stderr",
          "output_type": "stream",
          "text": [
            "Train Mode:  68%|██████▊   | 68/100 [00:21<11:27, 21.48s/step, epoch=68, epoch_F1=0.6119, epoch_IoU=0.4408, epoch_OA=0.9132, epoch_sum_loss=36.3088]\n",
            "Valid Mode: 544 uttr [00:05, 108.71 uttr/s, F1=0.5325, IoU=0.3629, OA=0.9054, loss=15.9823]\n",
            "Train Mode:  68%|██████▊   | 68/100 [00:00<?, ?step/s]"
          ]
        },
        {
          "name": "stdout",
          "output_type": "stream",
          "text": [
            "epoch 68, best model saved. (accuracy=0.3629)\n"
          ]
        },
        {
          "name": "stderr",
          "output_type": "stream",
          "text": [
            "Train Mode:  69%|██████▉   | 69/100 [00:21<11:05, 21.47s/step, epoch=69, epoch_F1=0.6129, epoch_IoU=0.4418, epoch_OA=0.9134, epoch_sum_loss=36.2420]\n",
            "Valid Mode: 544 uttr [00:05, 105.86 uttr/s, F1=0.5337, IoU=0.3640, OA=0.9055, loss=15.9475]\n",
            "Train Mode:  69%|██████▉   | 69/100 [00:00<?, ?step/s]"
          ]
        },
        {
          "name": "stdout",
          "output_type": "stream",
          "text": [
            "epoch 69, best model saved. (accuracy=0.3640)\n"
          ]
        },
        {
          "name": "stderr",
          "output_type": "stream",
          "text": [
            "Train Mode:  70%|███████   | 70/100 [00:24<12:18, 24.62s/step, epoch=70, epoch_F1=0.6138, epoch_IoU=0.4428, epoch_OA=0.9135, epoch_sum_loss=36.1756]\n",
            "Valid Mode: 544 uttr [00:05, 106.93 uttr/s, F1=0.5361, IoU=0.3662, OA=0.9057, loss=15.9089]\n",
            "Train Mode:  70%|███████   | 70/100 [00:00<?, ?step/s]"
          ]
        },
        {
          "name": "stdout",
          "output_type": "stream",
          "text": [
            "epoch 70, best model saved. (accuracy=0.3662)\n"
          ]
        },
        {
          "name": "stderr",
          "output_type": "stream",
          "text": [
            "Train Mode:  71%|███████   | 71/100 [00:21<10:24, 21.53s/step, epoch=71, epoch_F1=0.6147, epoch_IoU=0.4437, epoch_OA=0.9136, epoch_sum_loss=36.1097]\n",
            "Valid Mode: 544 uttr [00:05, 106.05 uttr/s, F1=0.5372, IoU=0.3673, OA=0.9059, loss=15.8741]\n",
            "Train Mode:  71%|███████   | 71/100 [00:00<?, ?step/s]"
          ]
        },
        {
          "name": "stdout",
          "output_type": "stream",
          "text": [
            "epoch 71, best model saved. (accuracy=0.3673)\n"
          ]
        },
        {
          "name": "stderr",
          "output_type": "stream",
          "text": [
            "Train Mode:  72%|███████▏  | 72/100 [00:21<10:02, 21.51s/step, epoch=72, epoch_F1=0.6156, epoch_IoU=0.4447, epoch_OA=0.9138, epoch_sum_loss=36.0448]\n",
            "Valid Mode: 544 uttr [00:05, 107.75 uttr/s, F1=0.5395, IoU=0.3694, OA=0.9061, loss=15.8361]\n",
            "Train Mode:  72%|███████▏  | 72/100 [00:00<?, ?step/s]"
          ]
        },
        {
          "name": "stdout",
          "output_type": "stream",
          "text": [
            "epoch 72, best model saved. (accuracy=0.3694)\n"
          ]
        },
        {
          "name": "stderr",
          "output_type": "stream",
          "text": [
            "Train Mode:  73%|███████▎  | 73/100 [00:21<09:53, 21.99s/step, epoch=73, epoch_F1=0.6165, epoch_IoU=0.4456, epoch_OA=0.9139, epoch_sum_loss=35.9802]\n",
            "Valid Mode: 544 uttr [00:05, 107.52 uttr/s, F1=0.5406, IoU=0.3704, OA=0.9063, loss=15.8013]\n",
            "Train Mode:  73%|███████▎  | 73/100 [00:00<?, ?step/s]"
          ]
        },
        {
          "name": "stdout",
          "output_type": "stream",
          "text": [
            "epoch 73, best model saved. (accuracy=0.3704)\n"
          ]
        },
        {
          "name": "stderr",
          "output_type": "stream",
          "text": [
            "Train Mode:  74%|███████▍  | 74/100 [00:21<09:28, 21.85s/step, epoch=74, epoch_F1=0.6174, epoch_IoU=0.4465, epoch_OA=0.9140, epoch_sum_loss=35.9176]\n",
            "Valid Mode: 544 uttr [00:07, 69.10 uttr/s, F1=0.5422, IoU=0.3720, OA=0.9065, loss=15.7653]\n",
            "Train Mode:  74%|███████▍  | 74/100 [00:00<?, ?step/s]"
          ]
        },
        {
          "name": "stdout",
          "output_type": "stream",
          "text": [
            "epoch 74, best model saved. (accuracy=0.3720)\n"
          ]
        },
        {
          "name": "stderr",
          "output_type": "stream",
          "text": [
            "Train Mode:  75%|███████▌  | 75/100 [00:24<10:02, 24.09s/step, epoch=75, epoch_F1=0.6183, epoch_IoU=0.4475, epoch_OA=0.9142, epoch_sum_loss=35.8532]\n",
            "Valid Mode: 544 uttr [00:05, 105.51 uttr/s, F1=0.5445, IoU=0.3741, OA=0.9067, loss=15.7288]\n",
            "Train Mode:  75%|███████▌  | 75/100 [00:00<?, ?step/s]"
          ]
        },
        {
          "name": "stdout",
          "output_type": "stream",
          "text": [
            "epoch 75, best model saved. (accuracy=0.3741)\n"
          ]
        },
        {
          "name": "stderr",
          "output_type": "stream",
          "text": [
            "Train Mode:  76%|███████▌  | 76/100 [00:21<08:39, 21.63s/step, epoch=76, epoch_F1=0.6192, epoch_IoU=0.4484, epoch_OA=0.9143, epoch_sum_loss=35.7906]\n",
            "Valid Mode: 544 uttr [00:05, 107.73 uttr/s, F1=0.5455, IoU=0.3750, OA=0.9068, loss=15.6945]\n",
            "Train Mode:  76%|███████▌  | 76/100 [00:00<?, ?step/s]"
          ]
        },
        {
          "name": "stdout",
          "output_type": "stream",
          "text": [
            "epoch 76, best model saved. (accuracy=0.3750)\n"
          ]
        },
        {
          "name": "stderr",
          "output_type": "stream",
          "text": [
            "Train Mode:  77%|███████▋  | 77/100 [00:21<08:15, 21.54s/step, epoch=77, epoch_F1=0.6200, epoch_IoU=0.4493, epoch_OA=0.9144, epoch_sum_loss=35.7292]\n",
            "Valid Mode: 544 uttr [00:05, 107.49 uttr/s, F1=0.5471, IoU=0.3765, OA=0.9070, loss=15.6582]\n",
            "Train Mode:  77%|███████▋  | 77/100 [00:00<?, ?step/s]"
          ]
        },
        {
          "name": "stdout",
          "output_type": "stream",
          "text": [
            "epoch 77, best model saved. (accuracy=0.3765)\n"
          ]
        },
        {
          "name": "stderr",
          "output_type": "stream",
          "text": [
            "Train Mode:  78%|███████▊  | 78/100 [00:21<07:54, 21.56s/step, epoch=78, epoch_F1=0.6209, epoch_IoU=0.4502, epoch_OA=0.9145, epoch_sum_loss=35.6657]\n",
            "Valid Mode: 544 uttr [00:05, 106.44 uttr/s, F1=0.5487, IoU=0.3780, OA=0.9072, loss=15.6233]\n",
            "Train Mode:  78%|███████▊  | 78/100 [00:00<?, ?step/s]"
          ]
        },
        {
          "name": "stdout",
          "output_type": "stream",
          "text": [
            "epoch 78, best model saved. (accuracy=0.3780)\n"
          ]
        },
        {
          "name": "stderr",
          "output_type": "stream",
          "text": [
            "Train Mode:  79%|███████▉  | 79/100 [00:21<07:35, 21.71s/step, epoch=79, epoch_F1=0.6217, epoch_IoU=0.4511, epoch_OA=0.9147, epoch_sum_loss=35.6023]\n",
            "Valid Mode: 544 uttr [00:05, 104.84 uttr/s, F1=0.5510, IoU=0.3803, OA=0.9075, loss=15.5851]\n",
            "Train Mode:  79%|███████▉  | 79/100 [00:00<?, ?step/s]"
          ]
        },
        {
          "name": "stdout",
          "output_type": "stream",
          "text": [
            "epoch 79, best model saved. (accuracy=0.3803)\n"
          ]
        },
        {
          "name": "stderr",
          "output_type": "stream",
          "text": [
            "Train Mode:  80%|████████  | 80/100 [00:21<07:11, 21.58s/step, epoch=80, epoch_F1=0.6226, epoch_IoU=0.4520, epoch_OA=0.9148, epoch_sum_loss=35.5395]\n",
            "Valid Mode: 544 uttr [00:05, 105.85 uttr/s, F1=0.5520, IoU=0.3812, OA=0.9076, loss=15.5504]\n",
            "Train Mode:  80%|████████  | 80/100 [00:00<?, ?step/s]"
          ]
        },
        {
          "name": "stdout",
          "output_type": "stream",
          "text": [
            "epoch 80, best model saved. (accuracy=0.3812)\n"
          ]
        },
        {
          "name": "stderr",
          "output_type": "stream",
          "text": [
            "Train Mode:  81%|████████  | 81/100 [00:22<07:00, 22.11s/step, epoch=81, epoch_F1=0.6234, epoch_IoU=0.4528, epoch_OA=0.9149, epoch_sum_loss=35.4785]\n",
            "Valid Mode: 544 uttr [00:05, 103.20 uttr/s, F1=0.5534, IoU=0.3825, OA=0.9078, loss=15.5146]\n",
            "Train Mode:  81%|████████  | 81/100 [00:00<?, ?step/s]"
          ]
        },
        {
          "name": "stdout",
          "output_type": "stream",
          "text": [
            "epoch 81, best model saved. (accuracy=0.3825)\n"
          ]
        },
        {
          "name": "stderr",
          "output_type": "stream",
          "text": [
            "Train Mode:  82%|████████▏ | 82/100 [00:21<06:30, 21.70s/step, epoch=82, epoch_F1=0.6242, epoch_IoU=0.4537, epoch_OA=0.9150, epoch_sum_loss=35.4163]\n",
            "Valid Mode: 544 uttr [00:05, 104.61 uttr/s, F1=0.5553, IoU=0.3844, OA=0.9080, loss=15.4747]\n",
            "Train Mode:  82%|████████▏ | 82/100 [00:00<?, ?step/s]"
          ]
        },
        {
          "name": "stdout",
          "output_type": "stream",
          "text": [
            "epoch 82, best model saved. (accuracy=0.3844)\n"
          ]
        },
        {
          "name": "stderr",
          "output_type": "stream",
          "text": [
            "Train Mode:  83%|████████▎ | 83/100 [00:21<06:10, 21.79s/step, epoch=83, epoch_F1=0.6250, epoch_IoU=0.4546, epoch_OA=0.9152, epoch_sum_loss=35.3533]\n",
            "Valid Mode: 544 uttr [00:05, 105.74 uttr/s, F1=0.5575, IoU=0.3864, OA=0.9083, loss=15.4376]\n",
            "Train Mode:  83%|████████▎ | 83/100 [00:00<?, ?step/s]"
          ]
        },
        {
          "name": "stdout",
          "output_type": "stream",
          "text": [
            "epoch 83, best model saved. (accuracy=0.3864)\n"
          ]
        },
        {
          "name": "stderr",
          "output_type": "stream",
          "text": [
            "Train Mode:  84%|████████▍ | 84/100 [00:21<05:46, 21.64s/step, epoch=84, epoch_F1=0.6258, epoch_IoU=0.4554, epoch_OA=0.9153, epoch_sum_loss=35.2913]\n",
            "Valid Mode: 544 uttr [00:05, 104.15 uttr/s, F1=0.5581, IoU=0.3870, OA=0.9083, loss=15.4035]\n",
            "Train Mode:  84%|████████▍ | 84/100 [00:00<?, ?step/s]"
          ]
        },
        {
          "name": "stdout",
          "output_type": "stream",
          "text": [
            "epoch 84, best model saved. (accuracy=0.3870)\n"
          ]
        },
        {
          "name": "stderr",
          "output_type": "stream",
          "text": [
            "Train Mode:  85%|████████▌ | 85/100 [00:23<05:56, 23.80s/step, epoch=85, epoch_F1=0.6266, epoch_IoU=0.4563, epoch_OA=0.9154, epoch_sum_loss=35.2312]\n",
            "Valid Mode: 544 uttr [00:06, 82.66 uttr/s, F1=0.5595, IoU=0.3884, OA=0.9085, loss=15.3674] \n",
            "Train Mode:  85%|████████▌ | 85/100 [00:00<?, ?step/s]"
          ]
        },
        {
          "name": "stdout",
          "output_type": "stream",
          "text": [
            "epoch 85, best model saved. (accuracy=0.3884)\n"
          ]
        },
        {
          "name": "stderr",
          "output_type": "stream",
          "text": [
            "Train Mode:  86%|████████▌ | 86/100 [00:21<05:01, 21.54s/step, epoch=86, epoch_F1=0.6275, epoch_IoU=0.4572, epoch_OA=0.9155, epoch_sum_loss=35.1686]\n",
            "Valid Mode: 544 uttr [00:05, 106.31 uttr/s, F1=0.5612, IoU=0.3900, OA=0.9087, loss=15.3306]\n",
            "Train Mode:  86%|████████▌ | 86/100 [00:00<?, ?step/s]"
          ]
        },
        {
          "name": "stdout",
          "output_type": "stream",
          "text": [
            "epoch 86, best model saved. (accuracy=0.3900)\n"
          ]
        },
        {
          "name": "stderr",
          "output_type": "stream",
          "text": [
            "Train Mode:  87%|████████▋ | 87/100 [00:21<04:42, 21.71s/step, epoch=87, epoch_F1=0.6283, epoch_IoU=0.4580, epoch_OA=0.9156, epoch_sum_loss=35.1058]\n",
            "Valid Mode: 544 uttr [00:05, 104.76 uttr/s, F1=0.5628, IoU=0.3916, OA=0.9089, loss=15.2952]\n",
            "Train Mode:  87%|████████▋ | 87/100 [00:00<?, ?step/s]"
          ]
        },
        {
          "name": "stdout",
          "output_type": "stream",
          "text": [
            "epoch 87, best model saved. (accuracy=0.3916)\n"
          ]
        },
        {
          "name": "stderr",
          "output_type": "stream",
          "text": [
            "Train Mode:  88%|████████▊ | 88/100 [00:22<04:25, 22.11s/step, epoch=88, epoch_F1=0.6291, epoch_IoU=0.4589, epoch_OA=0.9158, epoch_sum_loss=35.0432]\n",
            "Valid Mode: 544 uttr [00:05, 104.11 uttr/s, F1=0.5645, IoU=0.3932, OA=0.9091, loss=15.2597]\n",
            "Train Mode:  88%|████████▊ | 88/100 [00:00<?, ?step/s]"
          ]
        },
        {
          "name": "stdout",
          "output_type": "stream",
          "text": [
            "epoch 88, best model saved. (accuracy=0.3932)\n"
          ]
        },
        {
          "name": "stderr",
          "output_type": "stream",
          "text": [
            "Train Mode:  89%|████████▉ | 89/100 [00:21<03:58, 21.68s/step, epoch=89, epoch_F1=0.6299, epoch_IoU=0.4597, epoch_OA=0.9159, epoch_sum_loss=34.9812]\n",
            "Valid Mode: 544 uttr [00:05, 104.87 uttr/s, F1=0.5662, IoU=0.3949, OA=0.9093, loss=15.2246]\n",
            "Train Mode:  89%|████████▉ | 89/100 [00:00<?, ?step/s]"
          ]
        },
        {
          "name": "stdout",
          "output_type": "stream",
          "text": [
            "epoch 89, best model saved. (accuracy=0.3949)\n"
          ]
        },
        {
          "name": "stderr",
          "output_type": "stream",
          "text": [
            "Train Mode:  90%|█████████ | 90/100 [00:21<03:36, 21.66s/step, epoch=90, epoch_F1=0.6307, epoch_IoU=0.4606, epoch_OA=0.9160, epoch_sum_loss=34.9190]\n",
            "Valid Mode: 544 uttr [00:05, 104.95 uttr/s, F1=0.5678, IoU=0.3965, OA=0.9096, loss=15.1885]\n",
            "Train Mode:  90%|█████████ | 90/100 [00:00<?, ?step/s]"
          ]
        },
        {
          "name": "stdout",
          "output_type": "stream",
          "text": [
            "epoch 90, best model saved. (accuracy=0.3965)\n"
          ]
        },
        {
          "name": "stderr",
          "output_type": "stream",
          "text": [
            "Train Mode:  91%|█████████ | 91/100 [00:21<03:14, 21.59s/step, epoch=91, epoch_F1=0.6315, epoch_IoU=0.4615, epoch_OA=0.9161, epoch_sum_loss=34.8579]\n",
            "Valid Mode: 544 uttr [00:05, 105.29 uttr/s, F1=0.5695, IoU=0.3981, OA=0.9098, loss=15.1530]\n",
            "Train Mode:  91%|█████████ | 91/100 [00:00<?, ?step/s]"
          ]
        },
        {
          "name": "stdout",
          "output_type": "stream",
          "text": [
            "epoch 91, best model saved. (accuracy=0.3981)\n"
          ]
        },
        {
          "name": "stderr",
          "output_type": "stream",
          "text": [
            "Train Mode:  92%|█████████▏| 92/100 [00:21<02:52, 21.58s/step, epoch=92, epoch_F1=0.6323, epoch_IoU=0.4623, epoch_OA=0.9163, epoch_sum_loss=34.7970]\n",
            "Valid Mode: 544 uttr [00:05, 106.14 uttr/s, F1=0.5711, IoU=0.3997, OA=0.9100, loss=15.1170]\n",
            "Train Mode:  92%|█████████▏| 92/100 [00:00<?, ?step/s]"
          ]
        },
        {
          "name": "stdout",
          "output_type": "stream",
          "text": [
            "epoch 92, best model saved. (accuracy=0.3997)\n"
          ]
        },
        {
          "name": "stderr",
          "output_type": "stream",
          "text": [
            "Train Mode:  93%|█████████▎| 93/100 [00:21<02:30, 21.54s/step, epoch=93, epoch_F1=0.6331, epoch_IoU=0.4632, epoch_OA=0.9164, epoch_sum_loss=34.7343]\n",
            "Valid Mode: 544 uttr [00:05, 105.38 uttr/s, F1=0.5725, IoU=0.4011, OA=0.9101, loss=15.0864]\n",
            "Train Mode:  93%|█████████▎| 93/100 [00:00<?, ?step/s]"
          ]
        },
        {
          "name": "stdout",
          "output_type": "stream",
          "text": [
            "epoch 93, best model saved. (accuracy=0.4011)\n"
          ]
        },
        {
          "name": "stderr",
          "output_type": "stream",
          "text": [
            "Train Mode:  94%|█████████▍| 94/100 [00:21<02:09, 21.59s/step, epoch=94, epoch_F1=0.6339, epoch_IoU=0.4640, epoch_OA=0.9165, epoch_sum_loss=34.6709]\n",
            "Valid Mode: 544 uttr [00:05, 107.27 uttr/s, F1=0.5747, IoU=0.4032, OA=0.9104, loss=15.0467]\n",
            "Train Mode:  94%|█████████▍| 94/100 [00:00<?, ?step/s]"
          ]
        },
        {
          "name": "stdout",
          "output_type": "stream",
          "text": [
            "epoch 94, best model saved. (accuracy=0.4032)\n"
          ]
        },
        {
          "name": "stderr",
          "output_type": "stream",
          "text": [
            "Train Mode:  95%|█████████▌| 95/100 [00:21<01:47, 21.54s/step, epoch=95, epoch_F1=0.6347, epoch_IoU=0.4648, epoch_OA=0.9166, epoch_sum_loss=34.6074]\n",
            "Valid Mode: 544 uttr [00:05, 106.07 uttr/s, F1=0.5762, IoU=0.4047, OA=0.9106, loss=15.0104]\n",
            "Train Mode:  95%|█████████▌| 95/100 [00:00<?, ?step/s]"
          ]
        },
        {
          "name": "stdout",
          "output_type": "stream",
          "text": [
            "epoch 95, best model saved. (accuracy=0.4047)\n"
          ]
        },
        {
          "name": "stderr",
          "output_type": "stream",
          "text": [
            "Train Mode:  96%|█████████▌| 96/100 [00:21<01:26, 21.61s/step, epoch=96, epoch_F1=0.6354, epoch_IoU=0.4657, epoch_OA=0.9167, epoch_sum_loss=34.5450]\n",
            "Valid Mode: 544 uttr [00:05, 107.21 uttr/s, F1=0.5778, IoU=0.4063, OA=0.9108, loss=14.9743]\n",
            "Train Mode:  96%|█████████▌| 96/100 [00:00<?, ?step/s]"
          ]
        },
        {
          "name": "stdout",
          "output_type": "stream",
          "text": [
            "epoch 96, best model saved. (accuracy=0.4063)\n"
          ]
        },
        {
          "name": "stderr",
          "output_type": "stream",
          "text": [
            "Train Mode:  97%|█████████▋| 97/100 [00:21<01:04, 21.64s/step, epoch=97, epoch_F1=0.6362, epoch_IoU=0.4665, epoch_OA=0.9168, epoch_sum_loss=34.4824]\n",
            "Valid Mode: 544 uttr [00:05, 107.00 uttr/s, F1=0.5791, IoU=0.4075, OA=0.9109, loss=14.9392]\n",
            "Train Mode:  97%|█████████▋| 97/100 [00:00<?, ?step/s]"
          ]
        },
        {
          "name": "stdout",
          "output_type": "stream",
          "text": [
            "epoch 97, best model saved. (accuracy=0.4075)\n"
          ]
        },
        {
          "name": "stderr",
          "output_type": "stream",
          "text": [
            "Train Mode:  98%|█████████▊| 98/100 [00:21<00:43, 21.58s/step, epoch=98, epoch_F1=0.6369, epoch_IoU=0.4673, epoch_OA=0.9169, epoch_sum_loss=34.4194]\n",
            "Valid Mode: 544 uttr [00:05, 108.04 uttr/s, F1=0.5805, IoU=0.4089, OA=0.9111, loss=14.9031]\n",
            "Train Mode:  98%|█████████▊| 98/100 [00:00<?, ?step/s]"
          ]
        },
        {
          "name": "stdout",
          "output_type": "stream",
          "text": [
            "epoch 98, best model saved. (accuracy=0.4089)\n"
          ]
        },
        {
          "name": "stderr",
          "output_type": "stream",
          "text": [
            "Train Mode:  99%|█████████▉| 99/100 [00:21<00:21, 21.62s/step, epoch=99, epoch_F1=0.6376, epoch_IoU=0.4681, epoch_OA=0.9171, epoch_sum_loss=34.3579]\n",
            "Valid Mode: 544 uttr [00:05, 104.18 uttr/s, F1=0.5820, IoU=0.4104, OA=0.9113, loss=14.8652]\n",
            "Train Mode:  99%|█████████▉| 99/100 [00:00<?, ?step/s]"
          ]
        },
        {
          "name": "stdout",
          "output_type": "stream",
          "text": [
            "epoch 99, best model saved. (accuracy=0.4104)\n"
          ]
        },
        {
          "name": "stderr",
          "output_type": "stream",
          "text": [
            "Train Mode: 100%|██████████| 100/100 [00:21<00:00, 21.66s/step, epoch=100, epoch_F1=0.6386, epoch_IoU=0.4691, epoch_OA=0.9172, epoch_sum_loss=34.2893]\n",
            "Valid Mode: 544 uttr [00:05, 105.44 uttr/s, F1=0.5851, IoU=0.4135, OA=0.9116, loss=14.8375]\n",
            "Train Mode: 100%|██████████| 100/100 [00:00<?, ?step/s]"
          ]
        },
        {
          "name": "stdout",
          "output_type": "stream",
          "text": [
            "epoch 100, best model saved. (accuracy=0.4135)\n"
          ]
        },
        {
          "name": "stderr",
          "output_type": "stream",
          "text": [
            "\n"
          ]
        }
      ],
      "source": [
        "model = None\n",
        "os.makedirs('models', exist_ok=True)\n",
        "os.makedirs('pre',exist_ok=True)\n",
        "# 超参数的设置\n",
        "config = {\n",
        "    'n_epochs': 100,  # 训练次数\n",
        "    'batch_size': 8,  # mini-batch 的大小 \n",
        "    'optimizer': 'SGD',  # 优化算法 (optimizer in torch.optim) \n",
        "    'optim_hparas': {  # 优化器的超参数(取决于你用了什么优化算法)\n",
        "        'lr': 0.001,\n",
        "        'momentum':0.9               # SGD的学习率  # SGD的动量\n",
        "    },\n",
        "    'save_path': 'models/model.pth'  # 存储路径\n",
        "}\n",
        "# 构建dataset\n",
        "train_set = BuildingDataset(\"train\")\n",
        "val_set = BuildingDataset(\"val\")\n",
        "test_set = BuildingDataset(\"test\")\n",
        "\n",
        "train_loader = data.DataLoader(train_set,batch_size = config[\"batch_size\"], num_workers = 1)\n",
        "val_loader = data.DataLoader(val_set,batch_size = config[\"batch_size\"], num_workers = 1)\n",
        "test_loader = data.DataLoader(test_set,batch_size = 1, shuffle=False, num_workers = 1) \n",
        "\n",
        "# 实例化模型\n",
        "model = MyCNN().to(device)\n",
        "evaluator = Evaluator(num_class=2)\n",
        "# 开始训练与验证\n",
        "result = train(train_loader, val_loader, config, model,evaluator)\n",
        "\n"
      ]
    },
    {
      "attachments": {},
      "cell_type": "markdown",
      "metadata": {
        "id": "NT36pUj4k31A"
      },
      "source": [
        "接下来，让我们绘制一下精度和损失曲线"
      ]
    },
    {
      "cell_type": "code",
      "execution_count": null,
      "metadata": {
        "colab": {
          "base_uri": "https://localhost:8080/",
          "height": 1129
        },
        "id": "6Tv_fPizeIGR",
        "outputId": "d130b7f0-474f-459f-c1e4-e32ebe5a0ebe"
      },
      "outputs": [
        {
          "data": {
            "image/png": "[encoded data removed]",
            "text/plain": [
              "<Figure size 432x288 with 1 Axes>"
            ]
          },
          "metadata": {
            "needs_background": "light"
          },
          "output_type": "display_data"
        },
        {
          "data": {
            "image/png": "[encoded data removed]",
            "text/plain": [
              "<Figure size 432x288 with 1 Axes>"
            ]
          },
          "metadata": {
            "needs_background": "light"
          },
          "output_type": "display_data"
        },
        {
          "data": {
            "image/png": "[encoded data removed]",
            "text/plain": [
              "<Figure size 432x288 with 1 Axes>"
            ]
          },
          "metadata": {
            "needs_background": "light"
          },
          "output_type": "display_data"
        },
        {
          "data": {
            "image/png": "[encoded data removed]",
            "text/plain": [
              "<Figure size 432x288 with 1 Axes>"
            ]
          },
          "metadata": {
            "needs_background": "light"
          },
          "output_type": "display_data"
        }
      ],
      "source": [
        "import matplotlib.pyplot as plt # 用来绘制曲线\n",
        "from matplotlib.pyplot import figure\n",
        "\n",
        "def plot_learning_curve(loss_record, title='',y_max=1):\n",
        "  total_steps = len(loss_record[f'train_{title}'])\n",
        "  x_1 = range(total_steps)\n",
        "  x_2 = x_1[::len(loss_record[f'train_{title}']) // len(loss_record[f'val_{title}'])]\n",
        "  figure(figsize=(6, 4))\n",
        "  plt.plot(x_1, loss_record[f'train_{title}'], c='tab:red', label='train')\n",
        "  plt.plot(x_2, loss_record[f'val_{title}'], c='tab:cyan', label='val')\n",
        "  plt.ylim(0.0, y_max)\n",
        "  plt.xlabel('Training steps')\n",
        "  plt.ylabel('BCE loss')\n",
        "  plt.title('Learning curve of {}'.format(title))\n",
        "  plt.legend()\n",
        "  plt.show()\n",
        "\n",
        "plot_learning_curve(result[0],\"loss\",1) # loss的变化曲线\n",
        "plot_learning_curve(result[1],\"iou\",1) # iou的变化曲线\n",
        "plot_learning_curve(result[2],\"oa\",1) # oa的变化曲线\n",
        "plot_learning_curve(result[3],\"f1\",1) # f1的变化曲线"
      ]
    },
    {
      "attachments": {},
      "cell_type": "markdown",
      "metadata": {
        "id": "ms_-zOo9ot8A"
      },
      "source": [
        "执行测试"
      ]
    },
    {
      "cell_type": "code",
      "execution_count": null,
      "metadata": {
        "colab": {
          "base_uri": "https://localhost:8080/"
        },
        "id": "drtwfuuXgQ7w",
        "outputId": "e2f35a99-34ec-4f97-bd4a-b08d31322f23"
      },
      "outputs": [
        {
          "name": "stderr",
          "output_type": "stream",
          "text": [
            "\rValid Mode:   0% 0/810 [00:00<?, ? uttr/s]/usr/local/lib/python3.7/dist-packages/torch/nn/functional.py:3722: UserWarning: nn.functional.upsample is deprecated. Use nn.functional.interpolate instead.\n",
            "  warnings.warn(\"nn.functional.upsample is deprecated. Use nn.functional.interpolate instead.\")\n",
            "/usr/local/lib/python3.7/dist-packages/ipykernel_launcher.py:50: UserWarning: pre/22978975_15_3_1.png is a low contrast image\n",
            "WARNING:imageio:Lossy conversion from int64 to uint8. Range [0, 255]. Convert image to uint8 prior to saving to suppress this warning.\n",
            "/usr/local/lib/python3.7/dist-packages/ipykernel_launcher.py:50: UserWarning: pre/23579095_15_3_1.png is a low contrast image\n",
            "WARNING:imageio:Lossy conversion from int64 to uint8. Range [0, 255]. Convert image to uint8 prior to saving to suppress this warning.\n",
            "Valid Mode:   0% 2/810 [00:00<00:44, 17.99 uttr/s]/usr/local/lib/python3.7/dist-packages/ipykernel_launcher.py:50: UserWarning: pre/23578990_15_1_0.png is a low contrast image\n",
            "WARNING:imageio:Lossy conversion from int64 to uint8. Range [0, 255]. Convert image to uint8 prior to saving to suppress this warning.\n",
            "/usr/local/lib/python3.7/dist-packages/ipykernel_launcher.py:50: UserWarning: pre/24029035_15_0_1.png is a low contrast image\n",
            "WARNING:imageio:Lossy conversion from int64 to uint8. Range [0, 255]. Convert image to uint8 prior to saving to suppress this warning.\n",
            "/usr/local/lib/python3.7/dist-packages/ipykernel_launcher.py:50: UserWarning: pre/23879020_15_0_0.png is a low contrast image\n",
            "WARNING:imageio:Lossy conversion from int64 to uint8. Range [0, 255]. Convert image to uint8 prior to saving to suppress this warning.\n",
            "/usr/local/lib/python3.7/dist-packages/ipykernel_launcher.py:50: UserWarning: pre/23129035_15_3_3.png is a low contrast image\n",
            "WARNING:imageio:Lossy conversion from int64 to uint8. Range [0, 255]. Convert image to uint8 prior to saving to suppress this warning.\n",
            "/usr/local/lib/python3.7/dist-packages/ipykernel_launcher.py:50: UserWarning: pre/23729080_15_1_2.png is a low contrast image\n",
            "WARNING:imageio:Lossy conversion from int64 to uint8. Range [0, 255]. Convert image to uint8 prior to saving to suppress this warning.\n",
            "Valid Mode:   1% 7/810 [00:00<00:25, 31.81 uttr/s]/usr/local/lib/python3.7/dist-packages/ipykernel_launcher.py:50: UserWarning: pre/24328855_15_4_0.png is a low contrast image\n",
            "WARNING:imageio:Lossy conversion from int64 to uint8. Range [0, 255]. Convert image to uint8 prior to saving to suppress this warning.\n",
            "/usr/local/lib/python3.7/dist-packages/ipykernel_launcher.py:50: UserWarning: pre/23729065_15_4_0.png is a low contrast image\n",
            "WARNING:imageio:Lossy conversion from int64 to uint8. Range [0, 255]. Convert image to uint8 prior to saving to suppress this warning.\n",
            "/usr/local/lib/python3.7/dist-packages/ipykernel_launcher.py:50: UserWarning: pre/23428930_15_0_1.png is a low contrast image\n",
            "WARNING:imageio:Lossy conversion from int64 to uint8. Range [0, 255]. Convert image to uint8 prior to saving to suppress this warning.\n",
            "/usr/local/lib/python3.7/dist-packages/ipykernel_launcher.py:50: UserWarning: pre/23428930_15_4_3.png is a low contrast image\n",
            "WARNING:imageio:Lossy conversion from int64 to uint8. Range [0, 255]. Convert image to uint8 prior to saving to suppress this warning.\n",
            "Valid Mode:   1% 11/810 [00:00<00:23, 34.67 uttr/s]/usr/local/lib/python3.7/dist-packages/ipykernel_launcher.py:50: UserWarning: pre/22978975_15_3_2.png is a low contrast image\n",
            "WARNING:imageio:Lossy conversion from int64 to uint8. Range [0, 255]. Convert image to uint8 prior to saving to suppress this warning.\n",
            "/usr/local/lib/python3.7/dist-packages/ipykernel_launcher.py:50: UserWarning: pre/23279005_15_4_3.png is a low contrast image\n",
            "WARNING:imageio:Lossy conversion from int64 to uint8. Range [0, 255]. Convert image to uint8 prior to saving to suppress this warning.\n",
            "/usr/local/lib/python3.7/dist-packages/ipykernel_launcher.py:50: UserWarning: pre/23129035_15_4_4.png is a low contrast image\n",
            "WARNING:imageio:Lossy conversion from int64 to uint8. Range [0, 255]. Convert image to uint8 prior to saving to suppress this warning.\n",
            "/usr/local/lib/python3.7/dist-packages/ipykernel_launcher.py:50: UserWarning: pre/22978870_15_3_1.png is a low contrast image\n",
            "WARNING:imageio:Lossy conversion from int64 to uint8. Range [0, 255]. Convert image to uint8 prior to saving to suppress this warning.\n",
            "/usr/local/lib/python3.7/dist-packages/ipykernel_launcher.py:50: UserWarning: pre/23128960_15_2_0.png is a low contrast image\n",
            "WARNING:imageio:Lossy conversion from int64 to uint8. Range [0, 255]. Convert image to uint8 prior to saving to suppress this warning.\n",
            "Valid Mode:   2% 16/810 [00:00<00:19, 39.96 uttr/s]/usr/local/lib/python3.7/dist-packages/ipykernel_launcher.py:50: UserWarning: pre/22828975_15_0_4.png is a low contrast image\n",
            "WARNING:imageio:Lossy conversion from int64 to uint8. Range [0, 255]. Convert image to uint8 prior to saving to suppress this warning.\n",
            "/usr/local/lib/python3.7/dist-packages/ipykernel_launcher.py:50: UserWarning: pre/24328840_15_3_4.png is a low contrast image\n",
            "WARNING:imageio:Lossy conversion from int64 to uint8. Range [0, 255]. Convert image to uint8 prior to saving to suppress this warning.\n",
            "/usr/local/lib/python3.7/dist-packages/ipykernel_launcher.py:50: UserWarning: pre/24328840_15_3_0.png is a low contrast image\n",
            "WARNING:imageio:Lossy conversion from int64 to uint8. Range [0, 255]. Convert image to uint8 prior to saving to suppress this warning.\n",
            "/usr/local/lib/python3.7/dist-packages/ipykernel_launcher.py:50: UserWarning: pre/23429125_15_3_4.png is a low contrast image\n",
            "WARNING:imageio:Lossy conversion from int64 to uint8. Range [0, 255]. Convert image to uint8 prior to saving to suppress this warning.\n",
            "/usr/local/lib/python3.7/dist-packages/ipykernel_launcher.py:50: UserWarning: pre/23428960_15_3_0.png is a low contrast image\n",
            "WARNING:imageio:Lossy conversion from int64 to uint8. Range [0, 255]. Convert image to uint8 prior to saving to suppress this warning.\n",
            "Valid Mode:   3% 21/810 [00:00<00:19, 41.32 uttr/s]/usr/local/lib/python3.7/dist-packages/ipykernel_launcher.py:50: UserWarning: pre/23429125_15_2_4.png is a low contrast image\n",
            "WARNING:imageio:Lossy conversion from int64 to uint8. Range [0, 255]. Convert image to uint8 prior to saving to suppress this warning.\n",
            "/usr/local/lib/python3.7/dist-packages/ipykernel_launcher.py:50: UserWarning: pre/24179020_15_0_4.png is a low contrast image\n",
            "WARNING:imageio:Lossy conversion from int64 to uint8. Range [0, 255]. Convert image to uint8 prior to saving to suppress this warning.\n",
            "/usr/local/lib/python3.7/dist-packages/ipykernel_launcher.py:50: UserWarning: pre/23879050_15_1_3.png is a low contrast image\n",
            "WARNING:imageio:Lossy conversion from int64 to uint8. Range [0, 255]. Convert image to uint8 prior to saving to suppress this warning.\n",
            "/usr/local/lib/python3.7/dist-packages/ipykernel_launcher.py:50: UserWarning: pre/23579020_15_2_3.png is a low contrast image\n",
            "WARNING:imageio:Lossy conversion from int64 to uint8. Range [0, 255]. Convert image to uint8 prior to saving to suppress this warning.\n",
            "/usr/local/lib/python3.7/dist-packages/ipykernel_launcher.py:50: UserWarning: pre/24329095_15_3_3.png is a low contrast image\n",
            "WARNING:imageio:Lossy conversion from int64 to uint8. Range [0, 255]. Convert image to uint8 prior to saving to suppress this warning.\n",
            "Valid Mode:   3% 26/810 [00:00<00:20, 39.20 uttr/s]/usr/local/lib/python3.7/dist-packages/ipykernel_launcher.py:50: UserWarning: pre/23428990_15_1_3.png is a low contrast image\n",
            "WARNING:imageio:Lossy conversion from int64 to uint8. Range [0, 255]. Convert image to uint8 prior to saving to suppress this warning.\n",
            "/usr/local/lib/python3.7/dist-packages/ipykernel_launcher.py:50: UserWarning: pre/23278930_15_3_4.png is a low contrast image\n",
            "WARNING:imageio:Lossy conversion from int64 to uint8. Range [0, 255]. Convert image to uint8 prior to saving to suppress this warning.\n",
            "/usr/local/lib/python3.7/dist-packages/ipykernel_launcher.py:50: UserWarning: pre/22979035_15_0_1.png is a low contrast image\n",
            "WARNING:imageio:Lossy conversion from int64 to uint8. Range [0, 255]. Convert image to uint8 prior to saving to suppress this warning.\n",
            "/usr/local/lib/python3.7/dist-packages/ipykernel_launcher.py:50: UserWarning: pre/22979020_15_3_1.png is a low contrast image\n",
            "WARNING:imageio:Lossy conversion from int64 to uint8. Range [0, 255]. Convert image to uint8 prior to saving to suppress this warning.\n",
            "/usr/local/lib/python3.7/dist-packages/ipykernel_launcher.py:50: UserWarning: pre/22829005_15_0_4.png is a low contrast image\n",
            "WARNING:imageio:Lossy conversion from int64 to uint8. Range [0, 255]. Convert image to uint8 prior to saving to suppress this warning.\n",
            "Valid Mode:   4% 31/810 [00:00<00:19, 40.78 uttr/s]/usr/local/lib/python3.7/dist-packages/ipykernel_launcher.py:50: UserWarning: pre/23128960_15_0_1.png is a low contrast image\n",
            "WARNING:imageio:Lossy conversion from int64 to uint8. Range [0, 255]. Convert image to uint8 prior to saving to suppress this warning.\n",
            "/usr/local/lib/python3.7/dist-packages/ipykernel_launcher.py:50: UserWarning: pre/23428975_15_0_2.png is a low contrast image\n",
            "WARNING:imageio:Lossy conversion from int64 to uint8. Range [0, 255]. Convert image to uint8 prior to saving to suppress this warning.\n",
            "/usr/local/lib/python3.7/dist-packages/ipykernel_launcher.py:50: UserWarning: pre/23279005_15_4_0.png is a low contrast image\n",
            "WARNING:imageio:Lossy conversion from int64 to uint8. Range [0, 255]. Convert image to uint8 prior to saving to suppress this warning.\n",
            "/usr/local/lib/python3.7/dist-packages/ipykernel_launcher.py:50: UserWarning: pre/23879065_15_4_2.png is a low contrast image\n",
            "WARNING:imageio:Lossy conversion from int64 to uint8. Range [0, 255]. Convert image to uint8 prior to saving to suppress this warning.\n",
            "/usr/local/lib/python3.7/dist-packages/ipykernel_launcher.py:50: UserWarning: pre/23128990_15_1_0.png is a low contrast image\n",
            "WARNING:imageio:Lossy conversion from int64 to uint8. Range [0, 255]. Convert image to uint8 prior to saving to suppress this warning.\n",
            "Valid Mode:   4% 36/810 [00:00<00:18, 40.87 uttr/s]/usr/local/lib/python3.7/dist-packages/ipykernel_launcher.py:50: UserWarning: pre/24329020_15_1_3.png is a low contrast image\n",
            "WARNING:imageio:Lossy conversion from int64 to uint8. Range [0, 255]. Convert image to uint8 prior to saving to suppress this warning.\n",
            "/usr/local/lib/python3.7/dist-packages/ipykernel_launcher.py:50: UserWarning: pre/22678960_15_2_2.png is a low contrast image\n",
            "WARNING:imageio:Lossy conversion from int64 to uint8. Range [0, 255]. Convert image to uint8 prior to saving to suppress this warning.\n",
            "/usr/local/lib/python3.7/dist-packages/ipykernel_launcher.py:50: UserWarning: pre/23878975_15_2_1.png is a low contrast image\n",
            "WARNING:imageio:Lossy conversion from int64 to uint8. Range [0, 255]. Convert image to uint8 prior to saving to suppress this warning.\n",
            "/usr/local/lib/python3.7/dist-packages/ipykernel_launcher.py:50: UserWarning: pre/22678915_15_0_2.png is a low contrast image\n",
            "WARNING:imageio:Lossy conversion from int64 to uint8. Range [0, 255]. Convert image to uint8 prior to saving to suppress this warning.\n",
            "/usr/local/lib/python3.7/dist-packages/ipykernel_launcher.py:50: UserWarning: pre/23729080_15_1_1.png is a low contrast image\n",
            "WARNING:imageio:Lossy conversion from int64 to uint8. Range [0, 255]. Convert image to uint8 prior to saving to suppress this warning.\n",
            "Valid Mode:   5% 41/810 [00:01<00:18, 41.90 uttr/s]/usr/local/lib/python3.7/dist-packages/ipykernel_launcher.py:50: UserWarning: pre/22978900_15_2_1.png is a low contrast image\n",
            "/usr/local/lib/python3.7/dist-packages/ipykernel_launcher.py:50: UserWarning: pre/22978975_15_3_4.png is a low contrast image\n",
            "WARNING:imageio:Lossy conversion from int64 to uint8. Range [0, 255]. Convert image to uint8 prior to saving to suppress this warning.\n",
            "/usr/local/lib/python3.7/dist-packages/ipykernel_launcher.py:50: UserWarning: pre/23879095_15_1_4.png is a low contrast image\n",
            "WARNING:imageio:Lossy conversion from int64 to uint8. Range [0, 255]. Convert image to uint8 prior to saving to suppress this warning.\n",
            "/usr/local/lib/python3.7/dist-packages/ipykernel_launcher.py:50: UserWarning: pre/22978960_15_2_1.png is a low contrast image\n",
            "WARNING:imageio:Lossy conversion from int64 to uint8. Range [0, 255]. Convert image to uint8 prior to saving to suppress this warning.\n",
            "/usr/local/lib/python3.7/dist-packages/ipykernel_launcher.py:50: UserWarning: pre/23729080_15_4_2.png is a low contrast image\n",
            "WARNING:imageio:Lossy conversion from int64 to uint8. Range [0, 255]. Convert image to uint8 prior to saving to suppress this warning.\n",
            "Valid Mode:   6% 46/810 [00:01<00:17, 42.50 uttr/s]/usr/local/lib/python3.7/dist-packages/ipykernel_launcher.py:50: UserWarning: pre/23879050_15_1_1.png is a low contrast image\n",
            "WARNING:imageio:Lossy conversion from int64 to uint8. Range [0, 255]. Convert image to uint8 prior to saving to suppress this warning.\n",
            "/usr/local/lib/python3.7/dist-packages/ipykernel_launcher.py:50: UserWarning: pre/22678975_15_2_4.png is a low contrast image\n",
            "WARNING:imageio:Lossy conversion from int64 to uint8. Range [0, 255]. Convert image to uint8 prior to saving to suppress this warning.\n",
            "/usr/local/lib/python3.7/dist-packages/ipykernel_launcher.py:50: UserWarning: pre/23729095_15_3_1.png is a low contrast image\n",
            "WARNING:imageio:Lossy conversion from int64 to uint8. Range [0, 255]. Convert image to uint8 prior to saving to suppress this warning.\n",
            "/usr/local/lib/python3.7/dist-packages/ipykernel_launcher.py:50: UserWarning: pre/23428975_15_4_0.png is a low contrast image\n",
            "WARNING:imageio:Lossy conversion from int64 to uint8. Range [0, 255]. Convert image to uint8 prior to saving to suppress this warning.\n",
            "/usr/local/lib/python3.7/dist-packages/ipykernel_launcher.py:50: UserWarning: pre/22828975_15_3_3.png is a low contrast image\n",
            "WARNING:imageio:Lossy conversion from int64 to uint8. Range [0, 255]. Convert image to uint8 prior to saving to suppress this warning.\n",
            "Valid Mode:   6% 51/810 [00:01<00:18, 40.72 uttr/s]/usr/local/lib/python3.7/dist-packages/ipykernel_launcher.py:50: UserWarning: pre/22979035_15_0_3.png is a low contrast image\n",
            "WARNING:imageio:Lossy conversion from int64 to uint8. Range [0, 255]. Convert image to uint8 prior to saving to suppress this warning.\n",
            "/usr/local/lib/python3.7/dist-packages/ipykernel_launcher.py:50: UserWarning: pre/23429140_15_4_3.png is a low contrast image\n",
            "WARNING:imageio:Lossy conversion from int64 to uint8. Range [0, 255]. Convert image to uint8 prior to saving to suppress this warning.\n",
            "/usr/local/lib/python3.7/dist-packages/ipykernel_launcher.py:50: UserWarning: pre/24478870_15_1_3.png is a low contrast image\n",
            "/usr/local/lib/python3.7/dist-packages/ipykernel_launcher.py:50: UserWarning: pre/22978900_15_4_3.png is a low contrast image\n",
            "WARNING:imageio:Lossy conversion from int64 to uint8. Range [0, 255]. Convert image to uint8 prior to saving to suppress this warning.\n",
            "/usr/local/lib/python3.7/dist-packages/ipykernel_launcher.py:50: UserWarning: pre/23879035_15_1_4.png is a low contrast image\n",
            "WARNING:imageio:Lossy conversion from int64 to uint8. Range [0, 255]. Convert image to uint8 prior to saving to suppress this warning.\n",
            "Valid Mode:   7% 56/810 [00:01<00:17, 42.41 uttr/s]/usr/local/lib/python3.7/dist-packages/ipykernel_launcher.py:50: UserWarning: pre/23728990_15_4_0.png is a low contrast image\n",
            "WARNING:imageio:Lossy conversion from int64 to uint8. Range [0, 255]. Convert image to uint8 prior to saving to suppress this warning.\n",
            "/usr/local/lib/python3.7/dist-packages/ipykernel_launcher.py:50: UserWarning: pre/23579065_15_1_0.png is a low contrast image\n",
            "WARNING:imageio:Lossy conversion from int64 to uint8. Range [0, 255]. Convert image to uint8 prior to saving to suppress this warning.\n",
            "/usr/local/lib/python3.7/dist-packages/ipykernel_launcher.py:50: UserWarning: pre/23429125_15_1_2.png is a low contrast image\n",
            "WARNING:imageio:Lossy conversion from int64 to uint8. Range [0, 255]. Convert image to uint8 prior to saving to suppress this warning.\n",
            "/usr/local/lib/python3.7/dist-packages/ipykernel_launcher.py:50: UserWarning: pre/23729080_15_3_3.png is a low contrast image\n",
            "WARNING:imageio:Lossy conversion from int64 to uint8. Range [0, 255]. Convert image to uint8 prior to saving to suppress this warning.\n",
            "/usr/local/lib/python3.7/dist-packages/ipykernel_launcher.py:50: UserWarning: pre/22828975_15_3_2.png is a low contrast image\n",
            "WARNING:imageio:Lossy conversion from int64 to uint8. Range [0, 255]. Convert image to uint8 prior to saving to suppress this warning.\n",
            "Valid Mode:   8% 61/810 [00:01<00:17, 41.90 uttr/s]/usr/local/lib/python3.7/dist-packages/ipykernel_launcher.py:50: UserWarning: pre/24029080_15_0_2.png is a low contrast image\n",
            "WARNING:imageio:Lossy conversion from int64 to uint8. Range [0, 255]. Convert image to uint8 prior to saving to suppress this warning.\n",
            "/usr/local/lib/python3.7/dist-packages/ipykernel_launcher.py:50: UserWarning: pre/23579065_15_1_2.png is a low contrast image\n",
            "WARNING:imageio:Lossy conversion from int64 to uint8. Range [0, 255]. Convert image to uint8 prior to saving to suppress this warning.\n",
            "/usr/local/lib/python3.7/dist-packages/ipykernel_launcher.py:50: UserWarning: pre/23128945_15_3_0.png is a low contrast image\n",
            "WARNING:imageio:Lossy conversion from int64 to uint8. Range [0, 255]. Convert image to uint8 prior to saving to suppress this warning.\n",
            "/usr/local/lib/python3.7/dist-packages/ipykernel_launcher.py:50: UserWarning: pre/22979020_15_0_0.png is a low contrast image\n",
            "WARNING:imageio:Lossy conversion from int64 to uint8. Range [0, 255]. Convert image to uint8 prior to saving to suppress this warning.\n",
            "/usr/local/lib/python3.7/dist-packages/ipykernel_launcher.py:50: UserWarning: pre/22679020_15_4_2.png is a low contrast image\n",
            "WARNING:imageio:Lossy conversion from int64 to uint8. Range [0, 255]. Convert image to uint8 prior to saving to suppress this warning.\n",
            "Valid Mode:   8% 66/810 [00:01<00:17, 42.39 uttr/s]/usr/local/lib/python3.7/dist-packages/ipykernel_launcher.py:50: UserWarning: pre/23579080_15_4_2.png is a low contrast image\n",
            "WARNING:imageio:Lossy conversion from int64 to uint8. Range [0, 255]. Convert image to uint8 prior to saving to suppress this warning.\n",
            "/usr/local/lib/python3.7/dist-packages/ipykernel_launcher.py:50: UserWarning: pre/23579065_15_1_3.png is a low contrast image\n",
            "WARNING:imageio:Lossy conversion from int64 to uint8. Range [0, 255]. Convert image to uint8 prior to saving to suppress this warning.\n",
            "/usr/local/lib/python3.7/dist-packages/ipykernel_launcher.py:50: UserWarning: pre/23278945_15_4_4.png is a low contrast image\n",
            "/usr/local/lib/python3.7/dist-packages/ipykernel_launcher.py:50: UserWarning: pre/23579065_15_3_3.png is a low contrast image\n",
            "WARNING:imageio:Lossy conversion from int64 to uint8. Range [0, 255]. Convert image to uint8 prior to saving to suppress this warning.\n",
            "/usr/local/lib/python3.7/dist-packages/ipykernel_launcher.py:50: UserWarning: pre/22678945_15_2_3.png is a low contrast image\n",
            "WARNING:imageio:Lossy conversion from int64 to uint8. Range [0, 255]. Convert image to uint8 prior to saving to suppress this warning.\n",
            "Valid Mode:   9% 71/810 [00:01<00:18, 39.75 uttr/s]/usr/local/lib/python3.7/dist-packages/ipykernel_launcher.py:50: UserWarning: pre/22828975_15_1_4.png is a low contrast image\n",
            "WARNING:imageio:Lossy conversion from int64 to uint8. Range [0, 255]. Convert image to uint8 prior to saving to suppress this warning.\n",
            "/usr/local/lib/python3.7/dist-packages/ipykernel_launcher.py:50: UserWarning: pre/23728990_15_3_2.png is a low contrast image\n",
            "WARNING:imageio:Lossy conversion from int64 to uint8. Range [0, 255]. Convert image to uint8 prior to saving to suppress this warning.\n",
            "/usr/local/lib/python3.7/dist-packages/ipykernel_launcher.py:50: UserWarning: pre/24329095_15_0_2.png is a low contrast image\n",
            "/usr/local/lib/python3.7/dist-packages/ipykernel_launcher.py:50: UserWarning: pre/24179035_15_0_4.png is a low contrast image\n",
            "/usr/local/lib/python3.7/dist-packages/ipykernel_launcher.py:50: UserWarning: pre/23728945_15_1_4.png is a low contrast image\n",
            "WARNING:imageio:Lossy conversion from int64 to uint8. Range [0, 255]. Convert image to uint8 prior to saving to suppress this warning.\n",
            "Valid Mode:   9% 76/810 [00:01<00:17, 42.04 uttr/s]/usr/local/lib/python3.7/dist-packages/ipykernel_launcher.py:50: UserWarning: pre/23279140_15_3_4.png is a low contrast image\n",
            "WARNING:imageio:Lossy conversion from int64 to uint8. Range [0, 255]. Convert image to uint8 prior to saving to suppress this warning.\n",
            "/usr/local/lib/python3.7/dist-packages/ipykernel_launcher.py:50: UserWarning: pre/23729095_15_1_1.png is a low contrast image\n",
            "WARNING:imageio:Lossy conversion from int64 to uint8. Range [0, 255]. Convert image to uint8 prior to saving to suppress this warning.\n",
            "/usr/local/lib/python3.7/dist-packages/ipykernel_launcher.py:50: UserWarning: pre/23278960_15_4_0.png is a low contrast image\n",
            "WARNING:imageio:Lossy conversion from int64 to uint8. Range [0, 255]. Convert image to uint8 prior to saving to suppress this warning.\n",
            "/usr/local/lib/python3.7/dist-packages/ipykernel_launcher.py:50: UserWarning: pre/23279155_15_4_0.png is a low contrast image\n",
            "WARNING:imageio:Lossy conversion from int64 to uint8. Range [0, 255]. Convert image to uint8 prior to saving to suppress this warning.\n",
            "/usr/local/lib/python3.7/dist-packages/ipykernel_launcher.py:50: UserWarning: pre/22978960_15_0_3.png is a low contrast image\n",
            "WARNING:imageio:Lossy conversion from int64 to uint8. Range [0, 255]. Convert image to uint8 prior to saving to suppress this warning.\n",
            "Valid Mode:  10% 81/810 [00:01<00:17, 42.21 uttr/s]/usr/local/lib/python3.7/dist-packages/ipykernel_launcher.py:50: UserWarning: pre/23579080_15_4_3.png is a low contrast image\n",
            "WARNING:imageio:Lossy conversion from int64 to uint8. Range [0, 255]. Convert image to uint8 prior to saving to suppress this warning.\n",
            "/usr/local/lib/python3.7/dist-packages/ipykernel_launcher.py:50: UserWarning: pre/23278915_15_4_1.png is a low contrast image\n",
            "WARNING:imageio:Lossy conversion from int64 to uint8. Range [0, 255]. Convert image to uint8 prior to saving to suppress this warning.\n",
            "/usr/local/lib/python3.7/dist-packages/ipykernel_launcher.py:50: UserWarning: pre/23878990_15_3_2.png is a low contrast image\n",
            "WARNING:imageio:Lossy conversion from int64 to uint8. Range [0, 255]. Convert image to uint8 prior to saving to suppress this warning.\n",
            "/usr/local/lib/python3.7/dist-packages/ipykernel_launcher.py:50: UserWarning: pre/22978930_15_1_3.png is a low contrast image\n",
            "WARNING:imageio:Lossy conversion from int64 to uint8. Range [0, 255]. Convert image to uint8 prior to saving to suppress this warning.\n",
            "/usr/local/lib/python3.7/dist-packages/ipykernel_launcher.py:50: UserWarning: pre/24029080_15_0_4.png is a low contrast image\n",
            "WARNING:imageio:Lossy conversion from int64 to uint8. Range [0, 255]. Convert image to uint8 prior to saving to suppress this warning.\n",
            "Valid Mode:  11% 86/810 [00:02<00:17, 41.23 uttr/s]/usr/local/lib/python3.7/dist-packages/ipykernel_launcher.py:50: UserWarning: pre/23129005_15_4_3.png is a low contrast image\n",
            "WARNING:imageio:Lossy conversion from int64 to uint8. Range [0, 255]. Convert image to uint8 prior to saving to suppress this warning.\n",
            "/usr/local/lib/python3.7/dist-packages/ipykernel_launcher.py:50: UserWarning: pre/22978945_15_2_2.png is a low contrast image\n",
            "WARNING:imageio:Lossy conversion from int64 to uint8. Range [0, 255]. Convert image to uint8 prior to saving to suppress this warning.\n",
            "/usr/local/lib/python3.7/dist-packages/ipykernel_launcher.py:50: UserWarning: pre/23579065_15_2_0.png is a low contrast image\n",
            "WARNING:imageio:Lossy conversion from int64 to uint8. Range [0, 255]. Convert image to uint8 prior to saving to suppress this warning.\n",
            "/usr/local/lib/python3.7/dist-packages/ipykernel_launcher.py:50: UserWarning: pre/22979035_15_2_1.png is a low contrast image\n",
            "WARNING:imageio:Lossy conversion from int64 to uint8. Range [0, 255]. Convert image to uint8 prior to saving to suppress this warning.\n",
            "/usr/local/lib/python3.7/dist-packages/ipykernel_launcher.py:50: UserWarning: pre/23278930_15_0_3.png is a low contrast image\n",
            "WARNING:imageio:Lossy conversion from int64 to uint8. Range [0, 255]. Convert image to uint8 prior to saving to suppress this warning.\n",
            "Valid Mode:  11% 91/810 [00:02<00:16, 42.74 uttr/s]/usr/local/lib/python3.7/dist-packages/ipykernel_launcher.py:50: UserWarning: pre/23879095_15_4_2.png is a low contrast image\n",
            "WARNING:imageio:Lossy conversion from int64 to uint8. Range [0, 255]. Convert image to uint8 prior to saving to suppress this warning.\n",
            "/usr/local/lib/python3.7/dist-packages/ipykernel_launcher.py:50: UserWarning: pre/24329020_15_4_3.png is a low contrast image\n",
            "WARNING:imageio:Lossy conversion from int64 to uint8. Range [0, 255]. Convert image to uint8 prior to saving to suppress this warning.\n",
            "/usr/local/lib/python3.7/dist-packages/ipykernel_launcher.py:50: UserWarning: pre/23578945_15_3_1.png is a low contrast image\n",
            "WARNING:imageio:Lossy conversion from int64 to uint8. Range [0, 255]. Convert image to uint8 prior to saving to suppress this warning.\n",
            "/usr/local/lib/python3.7/dist-packages/ipykernel_launcher.py:50: UserWarning: pre/23129005_15_2_3.png is a low contrast image\n",
            "WARNING:imageio:Lossy conversion from int64 to uint8. Range [0, 255]. Convert image to uint8 prior to saving to suppress this warning.\n",
            "/usr/local/lib/python3.7/dist-packages/ipykernel_launcher.py:50: UserWarning: pre/24479005_15_3_3.png is a low contrast image\n",
            "WARNING:imageio:Lossy conversion from int64 to uint8. Range [0, 255]. Convert image to uint8 prior to saving to suppress this warning.\n",
            "Valid Mode:  12% 96/810 [00:02<00:16, 42.99 uttr/s]/usr/local/lib/python3.7/dist-packages/ipykernel_launcher.py:50: UserWarning: pre/24179035_15_3_1.png is a low contrast image\n",
            "WARNING:imageio:Lossy conversion from int64 to uint8. Range [0, 255]. Convert image to uint8 prior to saving to suppress this warning.\n",
            "/usr/local/lib/python3.7/dist-packages/ipykernel_launcher.py:50: UserWarning: pre/23729095_15_2_0.png is a low contrast image\n",
            "WARNING:imageio:Lossy conversion from int64 to uint8. Range [0, 255]. Convert image to uint8 prior to saving to suppress this warning.\n",
            "/usr/local/lib/python3.7/dist-packages/ipykernel_launcher.py:50: UserWarning: pre/24029035_15_0_0.png is a low contrast image\n",
            "WARNING:imageio:Lossy conversion from int64 to uint8. Range [0, 255]. Convert image to uint8 prior to saving to suppress this warning.\n",
            "/usr/local/lib/python3.7/dist-packages/ipykernel_launcher.py:50: UserWarning: pre/23428930_15_2_3.png is a low contrast image\n",
            "WARNING:imageio:Lossy conversion from int64 to uint8. Range [0, 255]. Convert image to uint8 prior to saving to suppress this warning.\n",
            "/usr/local/lib/python3.7/dist-packages/ipykernel_launcher.py:50: UserWarning: pre/22829005_15_4_2.png is a low contrast image\n",
            "WARNING:imageio:Lossy conversion from int64 to uint8. Range [0, 255]. Convert image to uint8 prior to saving to suppress this warning.\n",
            "Valid Mode:  12% 101/810 [00:02<00:16, 42.71 uttr/s]/usr/local/lib/python3.7/dist-packages/ipykernel_launcher.py:50: UserWarning: pre/23729095_15_4_3.png is a low contrast image\n",
            "WARNING:imageio:Lossy conversion from int64 to uint8. Range [0, 255]. Convert image to uint8 prior to saving to suppress this warning.\n",
            "/usr/local/lib/python3.7/dist-packages/ipykernel_launcher.py:50: UserWarning: pre/22978885_15_1_2.png is a low contrast image\n",
            "WARNING:imageio:Lossy conversion from int64 to uint8. Range [0, 255]. Convert image to uint8 prior to saving to suppress this warning.\n",
            "/usr/local/lib/python3.7/dist-packages/ipykernel_launcher.py:50: UserWarning: pre/22678945_15_0_2.png is a low contrast image\n",
            "WARNING:imageio:Lossy conversion from int64 to uint8. Range [0, 255]. Convert image to uint8 prior to saving to suppress this warning.\n",
            "/usr/local/lib/python3.7/dist-packages/ipykernel_launcher.py:50: UserWarning: pre/23279155_15_1_4.png is a low contrast image\n",
            "WARNING:imageio:Lossy conversion from int64 to uint8. Range [0, 255]. Convert image to uint8 prior to saving to suppress this warning.\n",
            "/usr/local/lib/python3.7/dist-packages/ipykernel_launcher.py:50: UserWarning: pre/23728960_15_2_0.png is a low contrast image\n",
            "WARNING:imageio:Lossy conversion from int64 to uint8. Range [0, 255]. Convert image to uint8 prior to saving to suppress this warning.\n",
            "Valid Mode:  13% 106/810 [00:02<00:17, 41.06 uttr/s]/usr/local/lib/python3.7/dist-packages/ipykernel_launcher.py:50: UserWarning: pre/23879035_15_2_3.png is a low contrast image\n",
            "WARNING:imageio:Lossy conversion from int64 to uint8. Range [0, 255]. Convert image to uint8 prior to saving to suppress this warning.\n",
            "/usr/local/lib/python3.7/dist-packages/ipykernel_launcher.py:50: UserWarning: pre/22978885_15_4_3.png is a low contrast image\n",
            "WARNING:imageio:Lossy conversion from int64 to uint8. Range [0, 255]. Convert image to uint8 prior to saving to suppress this warning.\n",
            "/usr/local/lib/python3.7/dist-packages/ipykernel_launcher.py:50: UserWarning: pre/23879110_15_3_1.png is a low contrast image\n",
            "/usr/local/lib/python3.7/dist-packages/ipykernel_launcher.py:50: UserWarning: pre/22678975_15_1_2.png is a low contrast image\n",
            "WARNING:imageio:Lossy conversion from int64 to uint8. Range [0, 255]. Convert image to uint8 prior to saving to suppress this warning.\n",
            "/usr/local/lib/python3.7/dist-packages/ipykernel_launcher.py:50: UserWarning: pre/22978960_15_2_3.png is a low contrast image\n",
            "WARNING:imageio:Lossy conversion from int64 to uint8. Range [0, 255]. Convert image to uint8 prior to saving to suppress this warning.\n",
            "Valid Mode:  14% 111/810 [00:02<00:16, 42.70 uttr/s]/usr/local/lib/python3.7/dist-packages/ipykernel_launcher.py:50: UserWarning: pre/24029035_15_4_2.png is a low contrast image\n",
            "/usr/local/lib/python3.7/dist-packages/ipykernel_launcher.py:50: UserWarning: pre/23128990_15_3_0.png is a low contrast image\n",
            "WARNING:imageio:Lossy conversion from int64 to uint8. Range [0, 255]. Convert image to uint8 prior to saving to suppress this warning.\n",
            "/usr/local/lib/python3.7/dist-packages/ipykernel_launcher.py:50: UserWarning: pre/24478855_15_1_1.png is a low contrast image\n",
            "WARNING:imageio:Lossy conversion from int64 to uint8. Range [0, 255]. Convert image to uint8 prior to saving to suppress this warning.\n",
            "/usr/local/lib/python3.7/dist-packages/ipykernel_launcher.py:50: UserWarning: pre/23428930_15_0_3.png is a low contrast image\n",
            "WARNING:imageio:Lossy conversion from int64 to uint8. Range [0, 255]. Convert image to uint8 prior to saving to suppress this warning.\n",
            "/usr/local/lib/python3.7/dist-packages/ipykernel_launcher.py:50: UserWarning: pre/23579065_15_2_3.png is a low contrast image\n",
            "WARNING:imageio:Lossy conversion from int64 to uint8. Range [0, 255]. Convert image to uint8 prior to saving to suppress this warning.\n",
            "Valid Mode:  14% 116/810 [00:02<00:16, 42.84 uttr/s]/usr/local/lib/python3.7/dist-packages/ipykernel_launcher.py:50: UserWarning: pre/24179050_15_1_0.png is a low contrast image\n",
            "WARNING:imageio:Lossy conversion from int64 to uint8. Range [0, 255]. Convert image to uint8 prior to saving to suppress this warning.\n",
            "/usr/local/lib/python3.7/dist-packages/ipykernel_launcher.py:50: UserWarning: pre/23278945_15_2_0.png is a low contrast image\n",
            "WARNING:imageio:Lossy conversion from int64 to uint8. Range [0, 255]. Convert image to uint8 prior to saving to suppress this warning.\n",
            "/usr/local/lib/python3.7/dist-packages/ipykernel_launcher.py:50: UserWarning: pre/24179020_15_1_0.png is a low contrast image\n",
            "WARNING:imageio:Lossy conversion from int64 to uint8. Range [0, 255]. Convert image to uint8 prior to saving to suppress this warning.\n",
            "/usr/local/lib/python3.7/dist-packages/ipykernel_launcher.py:50: UserWarning: pre/22678945_15_3_3.png is a low contrast image\n",
            "WARNING:imageio:Lossy conversion from int64 to uint8. Range [0, 255]. Convert image to uint8 prior to saving to suppress this warning.\n",
            "/usr/local/lib/python3.7/dist-packages/ipykernel_launcher.py:50: UserWarning: pre/23128900_15_0_2.png is a low contrast image\n",
            "WARNING:imageio:Lossy conversion from int64 to uint8. Range [0, 255]. Convert image to uint8 prior to saving to suppress this warning.\n",
            "Valid Mode:  15% 121/810 [00:02<00:15, 43.15 uttr/s]/usr/local/lib/python3.7/dist-packages/ipykernel_launcher.py:50: UserWarning: pre/24478870_15_3_0.png is a low contrast image\n",
            "WARNING:imageio:Lossy conversion from int64 to uint8. Range [0, 255]. Convert image to uint8 prior to saving to suppress this warning.\n",
            "/usr/local/lib/python3.7/dist-packages/ipykernel_launcher.py:50: UserWarning: pre/23278930_15_2_3.png is a low contrast image\n",
            "WARNING:imageio:Lossy conversion from int64 to uint8. Range [0, 255]. Convert image to uint8 prior to saving to suppress this warning.\n",
            "/usr/local/lib/python3.7/dist-packages/ipykernel_launcher.py:50: UserWarning: pre/23128945_15_0_1.png is a low contrast image\n",
            "WARNING:imageio:Lossy conversion from int64 to uint8. Range [0, 255]. Convert image to uint8 prior to saving to suppress this warning.\n",
            "/usr/local/lib/python3.7/dist-packages/ipykernel_launcher.py:50: UserWarning: pre/24478870_15_4_4.png is a low contrast image\n",
            "WARNING:imageio:Lossy conversion from int64 to uint8. Range [0, 255]. Convert image to uint8 prior to saving to suppress this warning.\n",
            "/usr/local/lib/python3.7/dist-packages/ipykernel_launcher.py:50: UserWarning: pre/23129035_15_1_4.png is a low contrast image\n",
            "WARNING:imageio:Lossy conversion from int64 to uint8. Range [0, 255]. Convert image to uint8 prior to saving to suppress this warning.\n",
            "Valid Mode:  16% 126/810 [00:03<00:15, 43.37 uttr/s]/usr/local/lib/python3.7/dist-packages/ipykernel_launcher.py:50: UserWarning: pre/22979050_15_0_3.png is a low contrast image\n",
            "WARNING:imageio:Lossy conversion from int64 to uint8. Range [0, 255]. Convert image to uint8 prior to saving to suppress this warning.\n",
            "/usr/local/lib/python3.7/dist-packages/ipykernel_launcher.py:50: UserWarning: pre/23278975_15_3_1.png is a low contrast image\n",
            "WARNING:imageio:Lossy conversion from int64 to uint8. Range [0, 255]. Convert image to uint8 prior to saving to suppress this warning.\n",
            "/usr/local/lib/python3.7/dist-packages/ipykernel_launcher.py:50: UserWarning: pre/23128885_15_0_3.png is a low contrast image\n",
            "WARNING:imageio:Lossy conversion from int64 to uint8. Range [0, 255]. Convert image to uint8 prior to saving to suppress this warning.\n",
            "/usr/local/lib/python3.7/dist-packages/ipykernel_launcher.py:50: UserWarning: pre/24179020_15_1_1.png is a low contrast image\n",
            "WARNING:imageio:Lossy conversion from int64 to uint8. Range [0, 255]. Convert image to uint8 prior to saving to suppress this warning.\n",
            "/usr/local/lib/python3.7/dist-packages/ipykernel_launcher.py:50: UserWarning: pre/23128990_15_4_0.png is a low contrast image\n",
            "WARNING:imageio:Lossy conversion from int64 to uint8. Range [0, 255]. Convert image to uint8 prior to saving to suppress this warning.\n",
            "Valid Mode:  16% 131/810 [00:03<00:15, 43.46 uttr/s]/usr/local/lib/python3.7/dist-packages/ipykernel_launcher.py:50: UserWarning: pre/22978960_15_0_2.png is a low contrast image\n",
            "WARNING:imageio:Lossy conversion from int64 to uint8. Range [0, 255]. Convert image to uint8 prior to saving to suppress this warning.\n",
            "/usr/local/lib/python3.7/dist-packages/ipykernel_launcher.py:50: UserWarning: pre/23579050_15_3_2.png is a low contrast image\n",
            "WARNING:imageio:Lossy conversion from int64 to uint8. Range [0, 255]. Convert image to uint8 prior to saving to suppress this warning.\n",
            "/usr/local/lib/python3.7/dist-packages/ipykernel_launcher.py:50: UserWarning: pre/22979050_15_1_4.png is a low contrast image\n",
            "WARNING:imageio:Lossy conversion from int64 to uint8. Range [0, 255]. Convert image to uint8 prior to saving to suppress this warning.\n",
            "/usr/local/lib/python3.7/dist-packages/ipykernel_launcher.py:50: UserWarning: pre/23879065_15_3_1.png is a low contrast image\n",
            "WARNING:imageio:Lossy conversion from int64 to uint8. Range [0, 255]. Convert image to uint8 prior to saving to suppress this warning.\n",
            "/usr/local/lib/python3.7/dist-packages/ipykernel_launcher.py:50: UserWarning: pre/23429005_15_3_2.png is a low contrast image\n",
            "WARNING:imageio:Lossy conversion from int64 to uint8. Range [0, 255]. Convert image to uint8 prior to saving to suppress this warning.\n",
            "Valid Mode:  17% 136/810 [00:03<00:15, 43.71 uttr/s]/usr/local/lib/python3.7/dist-packages/ipykernel_launcher.py:50: UserWarning: pre/23279155_15_3_3.png is a low contrast image\n",
            "WARNING:imageio:Lossy conversion from int64 to uint8. Range [0, 255]. Convert image to uint8 prior to saving to suppress this warning.\n",
            "/usr/local/lib/python3.7/dist-packages/ipykernel_launcher.py:50: UserWarning: pre/23729020_15_4_2.png is a low contrast image\n",
            "WARNING:imageio:Lossy conversion from int64 to uint8. Range [0, 255]. Convert image to uint8 prior to saving to suppress this warning.\n",
            "/usr/local/lib/python3.7/dist-packages/ipykernel_launcher.py:50: UserWarning: pre/22978975_15_4_4.png is a low contrast image\n",
            "WARNING:imageio:Lossy conversion from int64 to uint8. Range [0, 255]. Convert image to uint8 prior to saving to suppress this warning.\n",
            "/usr/local/lib/python3.7/dist-packages/ipykernel_launcher.py:50: UserWarning: pre/23729020_15_2_4.png is a low contrast image\n",
            "WARNING:imageio:Lossy conversion from int64 to uint8. Range [0, 255]. Convert image to uint8 prior to saving to suppress this warning.\n",
            "/usr/local/lib/python3.7/dist-packages/ipykernel_launcher.py:50: UserWarning: pre/23128915_15_2_4.png is a low contrast image\n",
            "WARNING:imageio:Lossy conversion from int64 to uint8. Range [0, 255]. Convert image to uint8 prior to saving to suppress this warning.\n",
            "Valid Mode:  17% 141/810 [00:03<00:15, 44.27 uttr/s]/usr/local/lib/python3.7/dist-packages/ipykernel_launcher.py:50: UserWarning: pre/24029035_15_4_0.png is a low contrast image\n",
            "WARNING:imageio:Lossy conversion from int64 to uint8. Range [0, 255]. Convert image to uint8 prior to saving to suppress this warning.\n",
            "/usr/local/lib/python3.7/dist-packages/ipykernel_launcher.py:50: UserWarning: pre/23278900_15_3_1.png is a low contrast image\n",
            "WARNING:imageio:Lossy conversion from int64 to uint8. Range [0, 255]. Convert image to uint8 prior to saving to suppress this warning.\n",
            "/usr/local/lib/python3.7/dist-packages/ipykernel_launcher.py:50: UserWarning: pre/24179035_15_4_3.png is a low contrast image\n",
            "WARNING:imageio:Lossy conversion from int64 to uint8. Range [0, 255]. Convert image to uint8 prior to saving to suppress this warning.\n",
            "/usr/local/lib/python3.7/dist-packages/ipykernel_launcher.py:50: UserWarning: pre/23428975_15_3_3.png is a low contrast image\n",
            "WARNING:imageio:Lossy conversion from int64 to uint8. Range [0, 255]. Convert image to uint8 prior to saving to suppress this warning.\n",
            "/usr/local/lib/python3.7/dist-packages/ipykernel_launcher.py:50: UserWarning: pre/23728960_15_2_3.png is a low contrast image\n",
            "WARNING:imageio:Lossy conversion from int64 to uint8. Range [0, 255]. Convert image to uint8 prior to saving to suppress this warning.\n",
            "Valid Mode:  18% 146/810 [00:03<00:15, 43.94 uttr/s]/usr/local/lib/python3.7/dist-packages/ipykernel_launcher.py:50: UserWarning: pre/23729065_15_3_2.png is a low contrast image\n",
            "WARNING:imageio:Lossy conversion from int64 to uint8. Range [0, 255]. Convert image to uint8 prior to saving to suppress this warning.\n",
            "/usr/local/lib/python3.7/dist-packages/ipykernel_launcher.py:50: UserWarning: pre/23728945_15_1_1.png is a low contrast image\n",
            "WARNING:imageio:Lossy conversion from int64 to uint8. Range [0, 255]. Convert image to uint8 prior to saving to suppress this warning.\n",
            "/usr/local/lib/python3.7/dist-packages/ipykernel_launcher.py:50: UserWarning: pre/24478840_15_4_2.png is a low contrast image\n",
            "WARNING:imageio:Lossy conversion from int64 to uint8. Range [0, 255]. Convert image to uint8 prior to saving to suppress this warning.\n",
            "/usr/local/lib/python3.7/dist-packages/ipykernel_launcher.py:50: UserWarning: pre/22828975_15_4_1.png is a low contrast image\n",
            "WARNING:imageio:Lossy conversion from int64 to uint8. Range [0, 255]. Convert image to uint8 prior to saving to suppress this warning.\n",
            "/usr/local/lib/python3.7/dist-packages/ipykernel_launcher.py:50: UserWarning: pre/23728930_15_4_1.png is a low contrast image\n",
            "WARNING:imageio:Lossy conversion from int64 to uint8. Range [0, 255]. Convert image to uint8 prior to saving to suppress this warning.\n",
            "Valid Mode:  19% 151/810 [00:03<00:15, 42.65 uttr/s]/usr/local/lib/python3.7/dist-packages/ipykernel_launcher.py:50: UserWarning: pre/23128930_15_1_0.png is a low contrast image\n",
            "WARNING:imageio:Lossy conversion from int64 to uint8. Range [0, 255]. Convert image to uint8 prior to saving to suppress this warning.\n",
            "/usr/local/lib/python3.7/dist-packages/ipykernel_launcher.py:50: UserWarning: pre/24479005_15_1_2.png is a low contrast image\n",
            "WARNING:imageio:Lossy conversion from int64 to uint8. Range [0, 255]. Convert image to uint8 prior to saving to suppress this warning.\n",
            "/usr/local/lib/python3.7/dist-packages/ipykernel_launcher.py:50: UserWarning: pre/23429155_15_2_2.png is a low contrast image\n",
            "WARNING:imageio:Lossy conversion from int64 to uint8. Range [0, 255]. Convert image to uint8 prior to saving to suppress this warning.\n",
            "/usr/local/lib/python3.7/dist-packages/ipykernel_launcher.py:50: UserWarning: pre/24478840_15_0_2.png is a low contrast image\n",
            "WARNING:imageio:Lossy conversion from int64 to uint8. Range [0, 255]. Convert image to uint8 prior to saving to suppress this warning.\n",
            "/usr/local/lib/python3.7/dist-packages/ipykernel_launcher.py:50: UserWarning: pre/23879095_15_0_0.png is a low contrast image\n",
            "WARNING:imageio:Lossy conversion from int64 to uint8. Range [0, 255]. Convert image to uint8 prior to saving to suppress this warning.\n",
            "Valid Mode:  19% 156/810 [00:03<00:15, 41.77 uttr/s]/usr/local/lib/python3.7/dist-packages/ipykernel_launcher.py:50: UserWarning: pre/23728945_15_2_1.png is a low contrast image\n",
            "WARNING:imageio:Lossy conversion from int64 to uint8. Range [0, 255]. Convert image to uint8 prior to saving to suppress this warning.\n",
            "/usr/local/lib/python3.7/dist-packages/ipykernel_launcher.py:50: UserWarning: pre/22978945_15_3_2.png is a low contrast image\n",
            "WARNING:imageio:Lossy conversion from int64 to uint8. Range [0, 255]. Convert image to uint8 prior to saving to suppress this warning.\n",
            "/usr/local/lib/python3.7/dist-packages/ipykernel_launcher.py:50: UserWarning: pre/22978990_15_1_4.png is a low contrast image\n",
            "WARNING:imageio:Lossy conversion from int64 to uint8. Range [0, 255]. Convert image to uint8 prior to saving to suppress this warning.\n",
            "/usr/local/lib/python3.7/dist-packages/ipykernel_launcher.py:50: UserWarning: pre/24478885_15_4_1.png is a low contrast image\n",
            "WARNING:imageio:Lossy conversion from int64 to uint8. Range [0, 255]. Convert image to uint8 prior to saving to suppress this warning.\n",
            "/usr/local/lib/python3.7/dist-packages/ipykernel_launcher.py:50: UserWarning: pre/24478840_15_4_4.png is a low contrast image\n",
            "WARNING:imageio:Lossy conversion from int64 to uint8. Range [0, 255]. Convert image to uint8 prior to saving to suppress this warning.\n",
            "Valid Mode:  20% 161/810 [00:03<00:15, 40.58 uttr/s]/usr/local/lib/python3.7/dist-packages/ipykernel_launcher.py:50: UserWarning: pre/23128945_15_0_3.png is a low contrast image\n",
            "WARNING:imageio:Lossy conversion from int64 to uint8. Range [0, 255]. Convert image to uint8 prior to saving to suppress this warning.\n",
            "/usr/local/lib/python3.7/dist-packages/ipykernel_launcher.py:50: UserWarning: pre/24329020_15_4_4.png is a low contrast image\n",
            "WARNING:imageio:Lossy conversion from int64 to uint8. Range [0, 255]. Convert image to uint8 prior to saving to suppress this warning.\n",
            "/usr/local/lib/python3.7/dist-packages/ipykernel_launcher.py:50: UserWarning: pre/22829020_15_0_2.png is a low contrast image\n",
            "WARNING:imageio:Lossy conversion from int64 to uint8. Range [0, 255]. Convert image to uint8 prior to saving to suppress this warning.\n",
            "/usr/local/lib/python3.7/dist-packages/ipykernel_launcher.py:50: UserWarning: pre/24179050_15_1_1.png is a low contrast image\n",
            "WARNING:imageio:Lossy conversion from int64 to uint8. Range [0, 255]. Convert image to uint8 prior to saving to suppress this warning.\n",
            "/usr/local/lib/python3.7/dist-packages/ipykernel_launcher.py:50: UserWarning: pre/24179035_15_4_2.png is a low contrast image\n",
            "WARNING:imageio:Lossy conversion from int64 to uint8. Range [0, 255]. Convert image to uint8 prior to saving to suppress this warning.\n",
            "Valid Mode:  20% 166/810 [00:04<00:16, 39.95 uttr/s]/usr/local/lib/python3.7/dist-packages/ipykernel_launcher.py:50: UserWarning: pre/23279155_15_1_2.png is a low contrast image\n",
            "WARNING:imageio:Lossy conversion from int64 to uint8. Range [0, 255]. Convert image to uint8 prior to saving to suppress this warning.\n",
            "/usr/local/lib/python3.7/dist-packages/ipykernel_launcher.py:50: UserWarning: pre/22978975_15_2_2.png is a low contrast image\n",
            "WARNING:imageio:Lossy conversion from int64 to uint8. Range [0, 255]. Convert image to uint8 prior to saving to suppress this warning.\n",
            "/usr/local/lib/python3.7/dist-packages/ipykernel_launcher.py:50: UserWarning: pre/23729050_15_3_3.png is a low contrast image\n",
            "WARNING:imageio:Lossy conversion from int64 to uint8. Range [0, 255]. Convert image to uint8 prior to saving to suppress this warning.\n",
            "/usr/local/lib/python3.7/dist-packages/ipykernel_launcher.py:50: UserWarning: pre/24179020_15_1_3.png is a low contrast image\n",
            "WARNING:imageio:Lossy conversion from int64 to uint8. Range [0, 255]. Convert image to uint8 prior to saving to suppress this warning.\n",
            "/usr/local/lib/python3.7/dist-packages/ipykernel_launcher.py:50: UserWarning: pre/23428945_15_4_3.png is a low contrast image\n",
            "WARNING:imageio:Lossy conversion from int64 to uint8. Range [0, 255]. Convert image to uint8 prior to saving to suppress this warning.\n",
            "Valid Mode:  21% 171/810 [00:04<00:16, 39.89 uttr/s]/usr/local/lib/python3.7/dist-packages/ipykernel_launcher.py:50: UserWarning: pre/23578990_15_2_4.png is a low contrast image\n",
            "WARNING:imageio:Lossy conversion from int64 to uint8. Range [0, 255]. Convert image to uint8 prior to saving to suppress this warning.\n",
            "/usr/local/lib/python3.7/dist-packages/ipykernel_launcher.py:50: UserWarning: pre/22979020_15_0_4.png is a low contrast image\n",
            "WARNING:imageio:Lossy conversion from int64 to uint8. Range [0, 255]. Convert image to uint8 prior to saving to suppress this warning.\n",
            "/usr/local/lib/python3.7/dist-packages/ipykernel_launcher.py:50: UserWarning: pre/24478840_15_2_0.png is a low contrast image\n",
            "WARNING:imageio:Lossy conversion from int64 to uint8. Range [0, 255]. Convert image to uint8 prior to saving to suppress this warning.\n",
            "/usr/local/lib/python3.7/dist-packages/ipykernel_launcher.py:50: UserWarning: pre/23279140_15_1_4.png is a low contrast image\n",
            "WARNING:imageio:Lossy conversion from int64 to uint8. Range [0, 255]. Convert image to uint8 prior to saving to suppress this warning.\n",
            "Valid Mode:  22% 175/810 [00:04<00:16, 38.74 uttr/s]/usr/local/lib/python3.7/dist-packages/ipykernel_launcher.py:50: UserWarning: pre/23578945_15_4_1.png is a low contrast image\n",
            "WARNING:imageio:Lossy conversion from int64 to uint8. Range [0, 255]. Convert image to uint8 prior to saving to suppress this warning.\n",
            "/usr/local/lib/python3.7/dist-packages/ipykernel_launcher.py:50: UserWarning: pre/24478840_15_2_4.png is a low contrast image\n",
            "WARNING:imageio:Lossy conversion from int64 to uint8. Range [0, 255]. Convert image to uint8 prior to saving to suppress this warning.\n",
            "/usr/local/lib/python3.7/dist-packages/ipykernel_launcher.py:50: UserWarning: pre/23879050_15_2_2.png is a low contrast image\n",
            "WARNING:imageio:Lossy conversion from int64 to uint8. Range [0, 255]. Convert image to uint8 prior to saving to suppress this warning.\n",
            "/usr/local/lib/python3.7/dist-packages/ipykernel_launcher.py:50: UserWarning: pre/23579050_15_1_2.png is a low contrast image\n",
            "WARNING:imageio:Lossy conversion from int64 to uint8. Range [0, 255]. Convert image to uint8 prior to saving to suppress this warning.\n",
            "Valid Mode:  22% 179/810 [00:04<00:16, 38.28 uttr/s]/usr/local/lib/python3.7/dist-packages/ipykernel_launcher.py:50: UserWarning: pre/22679035_15_4_0.png is a low contrast image\n",
            "WARNING:imageio:Lossy conversion from int64 to uint8. Range [0, 255]. Convert image to uint8 prior to saving to suppress this warning.\n",
            "/usr/local/lib/python3.7/dist-packages/ipykernel_launcher.py:50: UserWarning: pre/22678960_15_3_3.png is a low contrast image\n",
            "WARNING:imageio:Lossy conversion from int64 to uint8. Range [0, 255]. Convert image to uint8 prior to saving to suppress this warning.\n",
            "/usr/local/lib/python3.7/dist-packages/ipykernel_launcher.py:50: UserWarning: pre/22978930_15_3_4.png is a low contrast image\n",
            "WARNING:imageio:Lossy conversion from int64 to uint8. Range [0, 255]. Convert image to uint8 prior to saving to suppress this warning.\n",
            "/usr/local/lib/python3.7/dist-packages/ipykernel_launcher.py:50: UserWarning: pre/22979020_15_3_0.png is a low contrast image\n",
            "WARNING:imageio:Lossy conversion from int64 to uint8. Range [0, 255]. Convert image to uint8 prior to saving to suppress this warning.\n",
            "/usr/local/lib/python3.7/dist-packages/ipykernel_launcher.py:50: UserWarning: pre/23128990_15_2_3.png is a low contrast image\n",
            "WARNING:imageio:Lossy conversion from int64 to uint8. Range [0, 255]. Convert image to uint8 prior to saving to suppress this warning.\n",
            "Valid Mode:  23% 184/810 [00:04<00:15, 39.13 uttr/s]/usr/local/lib/python3.7/dist-packages/ipykernel_launcher.py:50: UserWarning: pre/23729005_15_0_4.png is a low contrast image\n",
            "/usr/local/lib/python3.7/dist-packages/ipykernel_launcher.py:50: UserWarning: pre/23429155_15_1_0.png is a low contrast image\n",
            "WARNING:imageio:Lossy conversion from int64 to uint8. Range [0, 255]. Convert image to uint8 prior to saving to suppress this warning.\n",
            "/usr/local/lib/python3.7/dist-packages/ipykernel_launcher.py:50: UserWarning: pre/22679005_15_4_4.png is a low contrast image\n",
            "WARNING:imageio:Lossy conversion from int64 to uint8. Range [0, 255]. Convert image to uint8 prior to saving to suppress this warning.\n",
            "/usr/local/lib/python3.7/dist-packages/ipykernel_launcher.py:50: UserWarning: pre/23579080_15_2_0.png is a low contrast image\n",
            "WARNING:imageio:Lossy conversion from int64 to uint8. Range [0, 255]. Convert image to uint8 prior to saving to suppress this warning.\n",
            "/usr/local/lib/python3.7/dist-packages/ipykernel_launcher.py:50: UserWarning: pre/23729005_15_3_3.png is a low contrast image\n",
            "WARNING:imageio:Lossy conversion from int64 to uint8. Range [0, 255]. Convert image to uint8 prior to saving to suppress this warning.\n",
            "Valid Mode:  23% 189/810 [00:04<00:15, 40.53 uttr/s]/usr/local/lib/python3.7/dist-packages/ipykernel_launcher.py:50: UserWarning: pre/22678930_15_4_3.png is a low contrast image\n",
            "WARNING:imageio:Lossy conversion from int64 to uint8. Range [0, 255]. Convert image to uint8 prior to saving to suppress this warning.\n",
            "/usr/local/lib/python3.7/dist-packages/ipykernel_launcher.py:50: UserWarning: pre/23428960_15_2_3.png is a low contrast image\n",
            "WARNING:imageio:Lossy conversion from int64 to uint8. Range [0, 255]. Convert image to uint8 prior to saving to suppress this warning.\n",
            "/usr/local/lib/python3.7/dist-packages/ipykernel_launcher.py:50: UserWarning: pre/23428960_15_3_1.png is a low contrast image\n",
            "WARNING:imageio:Lossy conversion from int64 to uint8. Range [0, 255]. Convert image to uint8 prior to saving to suppress this warning.\n",
            "/usr/local/lib/python3.7/dist-packages/ipykernel_launcher.py:50: UserWarning: pre/22679020_15_3_3.png is a low contrast image\n",
            "WARNING:imageio:Lossy conversion from int64 to uint8. Range [0, 255]. Convert image to uint8 prior to saving to suppress this warning.\n",
            "/usr/local/lib/python3.7/dist-packages/ipykernel_launcher.py:50: UserWarning: pre/22978900_15_0_1.png is a low contrast image\n",
            "WARNING:imageio:Lossy conversion from int64 to uint8. Range [0, 255]. Convert image to uint8 prior to saving to suppress this warning.\n",
            "Valid Mode:  24% 194/810 [00:04<00:15, 40.55 uttr/s]/usr/local/lib/python3.7/dist-packages/ipykernel_launcher.py:50: UserWarning: pre/23278990_15_1_3.png is a low contrast image\n",
            "WARNING:imageio:Lossy conversion from int64 to uint8. Range [0, 255]. Convert image to uint8 prior to saving to suppress this warning.\n",
            "/usr/local/lib/python3.7/dist-packages/ipykernel_launcher.py:50: UserWarning: pre/24478885_15_3_3.png is a low contrast image\n",
            "WARNING:imageio:Lossy conversion from int64 to uint8. Range [0, 255]. Convert image to uint8 prior to saving to suppress this warning.\n",
            "/usr/local/lib/python3.7/dist-packages/ipykernel_launcher.py:50: UserWarning: pre/23128945_15_4_0.png is a low contrast image\n",
            "WARNING:imageio:Lossy conversion from int64 to uint8. Range [0, 255]. Convert image to uint8 prior to saving to suppress this warning.\n",
            "/usr/local/lib/python3.7/dist-packages/ipykernel_launcher.py:50: UserWarning: pre/23729005_15_1_1.png is a low contrast image\n",
            "WARNING:imageio:Lossy conversion from int64 to uint8. Range [0, 255]. Convert image to uint8 prior to saving to suppress this warning.\n",
            "/usr/local/lib/python3.7/dist-packages/ipykernel_launcher.py:50: UserWarning: pre/22679035_15_2_3.png is a low contrast image\n",
            "WARNING:imageio:Lossy conversion from int64 to uint8. Range [0, 255]. Convert image to uint8 prior to saving to suppress this warning.\n",
            "Valid Mode:  25% 199/810 [00:04<00:15, 39.07 uttr/s]/usr/local/lib/python3.7/dist-packages/ipykernel_launcher.py:50: UserWarning: pre/22829005_15_3_1.png is a low contrast image\n",
            "WARNING:imageio:Lossy conversion from int64 to uint8. Range [0, 255]. Convert image to uint8 prior to saving to suppress this warning.\n",
            "/usr/local/lib/python3.7/dist-packages/ipykernel_launcher.py:50: UserWarning: pre/23129035_15_0_1.png is a low contrast image\n",
            "WARNING:imageio:Lossy conversion from int64 to uint8. Range [0, 255]. Convert image to uint8 prior to saving to suppress this warning.\n",
            "/usr/local/lib/python3.7/dist-packages/ipykernel_launcher.py:50: UserWarning: pre/23129020_15_3_3.png is a low contrast image\n",
            "WARNING:imageio:Lossy conversion from int64 to uint8. Range [0, 255]. Convert image to uint8 prior to saving to suppress this warning.\n",
            "/usr/local/lib/python3.7/dist-packages/ipykernel_launcher.py:50: UserWarning: pre/23729065_15_3_1.png is a low contrast image\n",
            "WARNING:imageio:Lossy conversion from int64 to uint8. Range [0, 255]. Convert image to uint8 prior to saving to suppress this warning.\n",
            "Valid Mode:  25% 203/810 [00:04<00:15, 38.31 uttr/s]/usr/local/lib/python3.7/dist-packages/ipykernel_launcher.py:50: UserWarning: pre/22828915_15_4_4.png is a low contrast image\n",
            "WARNING:imageio:Lossy conversion from int64 to uint8. Range [0, 255]. Convert image to uint8 prior to saving to suppress this warning.\n",
            "/usr/local/lib/python3.7/dist-packages/ipykernel_launcher.py:50: UserWarning: pre/22828915_15_0_3.png is a low contrast image\n",
            "WARNING:imageio:Lossy conversion from int64 to uint8. Range [0, 255]. Convert image to uint8 prior to saving to suppress this warning.\n",
            "/usr/local/lib/python3.7/dist-packages/ipykernel_launcher.py:50: UserWarning: pre/23578975_15_2_3.png is a low contrast image\n",
            "WARNING:imageio:Lossy conversion from int64 to uint8. Range [0, 255]. Convert image to uint8 prior to saving to suppress this warning.\n",
            "/usr/local/lib/python3.7/dist-packages/ipykernel_launcher.py:50: UserWarning: pre/22678975_15_0_3.png is a low contrast image\n",
            "WARNING:imageio:Lossy conversion from int64 to uint8. Range [0, 255]. Convert image to uint8 prior to saving to suppress this warning.\n",
            "Valid Mode:  26% 207/810 [00:05<00:15, 38.42 uttr/s]/usr/local/lib/python3.7/dist-packages/ipykernel_launcher.py:50: UserWarning: pre/23129035_15_3_4.png is a low contrast image\n",
            "WARNING:imageio:Lossy conversion from int64 to uint8. Range [0, 255]. Convert image to uint8 prior to saving to suppress this warning.\n",
            "/usr/local/lib/python3.7/dist-packages/ipykernel_launcher.py:50: UserWarning: pre/22679005_15_0_3.png is a low contrast image\n",
            "WARNING:imageio:Lossy conversion from int64 to uint8. Range [0, 255]. Convert image to uint8 prior to saving to suppress this warning.\n",
            "/usr/local/lib/python3.7/dist-packages/ipykernel_launcher.py:50: UserWarning: pre/24179050_15_3_0.png is a low contrast image\n",
            "WARNING:imageio:Lossy conversion from int64 to uint8. Range [0, 255]. Convert image to uint8 prior to saving to suppress this warning.\n",
            "/usr/local/lib/python3.7/dist-packages/ipykernel_launcher.py:50: UserWarning: pre/23579035_15_2_1.png is a low contrast image\n",
            "WARNING:imageio:Lossy conversion from int64 to uint8. Range [0, 255]. Convert image to uint8 prior to saving to suppress this warning.\n",
            "/usr/local/lib/python3.7/dist-packages/ipykernel_launcher.py:50: UserWarning: pre/23128900_15_4_4.png is a low contrast image\n",
            "WARNING:imageio:Lossy conversion from int64 to uint8. Range [0, 255]. Convert image to uint8 prior to saving to suppress this warning.\n",
            "Valid Mode:  26% 212/810 [00:05<00:15, 39.68 uttr/s]/usr/local/lib/python3.7/dist-packages/ipykernel_launcher.py:50: UserWarning: pre/23428945_15_4_4.png is a low contrast image\n",
            "WARNING:imageio:Lossy conversion from int64 to uint8. Range [0, 255]. Convert image to uint8 prior to saving to suppress this warning.\n",
            "/usr/local/lib/python3.7/dist-packages/ipykernel_launcher.py:50: UserWarning: pre/23129020_15_4_4.png is a low contrast image\n",
            "WARNING:imageio:Lossy conversion from int64 to uint8. Range [0, 255]. Convert image to uint8 prior to saving to suppress this warning.\n",
            "/usr/local/lib/python3.7/dist-packages/ipykernel_launcher.py:50: UserWarning: pre/24478855_15_1_3.png is a low contrast image\n",
            "WARNING:imageio:Lossy conversion from int64 to uint8. Range [0, 255]. Convert image to uint8 prior to saving to suppress this warning.\n",
            "/usr/local/lib/python3.7/dist-packages/ipykernel_launcher.py:50: UserWarning: pre/23278960_15_3_4.png is a low contrast image\n",
            "WARNING:imageio:Lossy conversion from int64 to uint8. Range [0, 255]. Convert image to uint8 prior to saving to suppress this warning.\n",
            "Valid Mode:  27% 216/810 [00:05<00:15, 38.56 uttr/s]/usr/local/lib/python3.7/dist-packages/ipykernel_launcher.py:50: UserWarning: pre/23429095_15_4_2.png is a low contrast image\n",
            "WARNING:imageio:Lossy conversion from int64 to uint8. Range [0, 255]. Convert image to uint8 prior to saving to suppress this warning.\n",
            "/usr/local/lib/python3.7/dist-packages/ipykernel_launcher.py:50: UserWarning: pre/22679050_15_4_2.png is a low contrast image\n",
            "WARNING:imageio:Lossy conversion from int64 to uint8. Range [0, 255]. Convert image to uint8 prior to saving to suppress this warning.\n",
            "/usr/local/lib/python3.7/dist-packages/ipykernel_launcher.py:50: UserWarning: pre/22978885_15_1_3.png is a low contrast image\n",
            "WARNING:imageio:Lossy conversion from int64 to uint8. Range [0, 255]. Convert image to uint8 prior to saving to suppress this warning.\n",
            "/usr/local/lib/python3.7/dist-packages/ipykernel_launcher.py:50: UserWarning: pre/23279140_15_0_3.png is a low contrast image\n",
            "WARNING:imageio:Lossy conversion from int64 to uint8. Range [0, 255]. Convert image to uint8 prior to saving to suppress this warning.\n",
            "Valid Mode:  27% 220/810 [00:05<00:15, 38.10 uttr/s]/usr/local/lib/python3.7/dist-packages/ipykernel_launcher.py:50: UserWarning: pre/23728990_15_0_3.png is a low contrast image\n",
            "WARNING:imageio:Lossy conversion from int64 to uint8. Range [0, 255]. Convert image to uint8 prior to saving to suppress this warning.\n",
            "/usr/local/lib/python3.7/dist-packages/ipykernel_launcher.py:50: UserWarning: pre/23128915_15_3_0.png is a low contrast image\n",
            "WARNING:imageio:Lossy conversion from int64 to uint8. Range [0, 255]. Convert image to uint8 prior to saving to suppress this warning.\n",
            "/usr/local/lib/python3.7/dist-packages/ipykernel_launcher.py:50: UserWarning: pre/23428990_15_0_1.png is a low contrast image\n",
            "WARNING:imageio:Lossy conversion from int64 to uint8. Range [0, 255]. Convert image to uint8 prior to saving to suppress this warning.\n",
            "/usr/local/lib/python3.7/dist-packages/ipykernel_launcher.py:50: UserWarning: pre/23879035_15_4_0.png is a low contrast image\n",
            "WARNING:imageio:Lossy conversion from int64 to uint8. Range [0, 255]. Convert image to uint8 prior to saving to suppress this warning.\n",
            "Valid Mode:  28% 224/810 [00:05<00:15, 37.03 uttr/s]/usr/local/lib/python3.7/dist-packages/ipykernel_launcher.py:50: UserWarning: pre/22679020_15_2_0.png is a low contrast image\n",
            "WARNING:imageio:Lossy conversion from int64 to uint8. Range [0, 255]. Convert image to uint8 prior to saving to suppress this warning.\n",
            "/usr/local/lib/python3.7/dist-packages/ipykernel_launcher.py:50: UserWarning: pre/23728975_15_1_3.png is a low contrast image\n",
            "WARNING:imageio:Lossy conversion from int64 to uint8. Range [0, 255]. Convert image to uint8 prior to saving to suppress this warning.\n",
            "/usr/local/lib/python3.7/dist-packages/ipykernel_launcher.py:50: UserWarning: pre/22979050_15_0_4.png is a low contrast image\n",
            "WARNING:imageio:Lossy conversion from int64 to uint8. Range [0, 255]. Convert image to uint8 prior to saving to suppress this warning.\n",
            "/usr/local/lib/python3.7/dist-packages/ipykernel_launcher.py:50: UserWarning: pre/23728975_15_4_1.png is a low contrast image\n",
            "WARNING:imageio:Lossy conversion from int64 to uint8. Range [0, 255]. Convert image to uint8 prior to saving to suppress this warning.\n",
            "Valid Mode:  28% 228/810 [00:05<00:15, 36.81 uttr/s]/usr/local/lib/python3.7/dist-packages/ipykernel_launcher.py:50: UserWarning: pre/24029065_15_0_2.png is a low contrast image\n",
            "WARNING:imageio:Lossy conversion from int64 to uint8. Range [0, 255]. Convert image to uint8 prior to saving to suppress this warning.\n",
            "/usr/local/lib/python3.7/dist-packages/ipykernel_launcher.py:50: UserWarning: pre/23879065_15_4_0.png is a low contrast image\n",
            "WARNING:imageio:Lossy conversion from int64 to uint8. Range [0, 255]. Convert image to uint8 prior to saving to suppress this warning.\n",
            "/usr/local/lib/python3.7/dist-packages/ipykernel_launcher.py:50: UserWarning: pre/22978930_15_0_0.png is a low contrast image\n",
            "WARNING:imageio:Lossy conversion from int64 to uint8. Range [0, 255]. Convert image to uint8 prior to saving to suppress this warning.\n",
            "/usr/local/lib/python3.7/dist-packages/ipykernel_launcher.py:50: UserWarning: pre/23279155_15_1_1.png is a low contrast image\n",
            "WARNING:imageio:Lossy conversion from int64 to uint8. Range [0, 255]. Convert image to uint8 prior to saving to suppress this warning.\n",
            "Valid Mode:  29% 232/810 [00:05<00:15, 36.44 uttr/s]/usr/local/lib/python3.7/dist-packages/ipykernel_launcher.py:50: UserWarning: pre/23879020_15_4_1.png is a low contrast image\n",
            "WARNING:imageio:Lossy conversion from int64 to uint8. Range [0, 255]. Convert image to uint8 prior to saving to suppress this warning.\n",
            "/usr/local/lib/python3.7/dist-packages/ipykernel_launcher.py:50: UserWarning: pre/23128945_15_2_1.png is a low contrast image\n",
            "WARNING:imageio:Lossy conversion from int64 to uint8. Range [0, 255]. Convert image to uint8 prior to saving to suppress this warning.\n",
            "/usr/local/lib/python3.7/dist-packages/ipykernel_launcher.py:50: UserWarning: pre/24179080_15_3_3.png is a low contrast image\n",
            "WARNING:imageio:Lossy conversion from int64 to uint8. Range [0, 255]. Convert image to uint8 prior to saving to suppress this warning.\n",
            "/usr/local/lib/python3.7/dist-packages/ipykernel_launcher.py:50: UserWarning: pre/22978885_15_0_1.png is a low contrast image\n",
            "WARNING:imageio:Lossy conversion from int64 to uint8. Range [0, 255]. Convert image to uint8 prior to saving to suppress this warning.\n",
            "/usr/local/lib/python3.7/dist-packages/ipykernel_launcher.py:50: UserWarning: pre/23728945_15_3_3.png is a low contrast image\n",
            "WARNING:imageio:Lossy conversion from int64 to uint8. Range [0, 255]. Convert image to uint8 prior to saving to suppress this warning.\n",
            "Valid Mode:  29% 237/810 [00:05<00:15, 37.87 uttr/s]/usr/local/lib/python3.7/dist-packages/ipykernel_launcher.py:50: UserWarning: pre/24179050_15_0_3.png is a low contrast image\n",
            "WARNING:imageio:Lossy conversion from int64 to uint8. Range [0, 255]. Convert image to uint8 prior to saving to suppress this warning.\n",
            "/usr/local/lib/python3.7/dist-packages/ipykernel_launcher.py:50: UserWarning: pre/24179020_15_1_4.png is a low contrast image\n",
            "WARNING:imageio:Lossy conversion from int64 to uint8. Range [0, 255]. Convert image to uint8 prior to saving to suppress this warning.\n",
            "/usr/local/lib/python3.7/dist-packages/ipykernel_launcher.py:50: UserWarning: pre/24329095_15_1_0.png is a low contrast image\n",
            "/usr/local/lib/python3.7/dist-packages/ipykernel_launcher.py:50: UserWarning: pre/23128930_15_2_0.png is a low contrast image\n",
            "WARNING:imageio:Lossy conversion from int64 to uint8. Range [0, 255]. Convert image to uint8 prior to saving to suppress this warning.\n",
            "Valid Mode:  30% 241/810 [00:05<00:14, 38.43 uttr/s]/usr/local/lib/python3.7/dist-packages/ipykernel_launcher.py:50: UserWarning: pre/23879050_15_1_2.png is a low contrast image\n",
            "WARNING:imageio:Lossy conversion from int64 to uint8. Range [0, 255]. Convert image to uint8 prior to saving to suppress this warning.\n",
            "/usr/local/lib/python3.7/dist-packages/ipykernel_launcher.py:50: UserWarning: pre/22978975_15_1_4.png is a low contrast image\n",
            "WARNING:imageio:Lossy conversion from int64 to uint8. Range [0, 255]. Convert image to uint8 prior to saving to suppress this warning.\n",
            "/usr/local/lib/python3.7/dist-packages/ipykernel_launcher.py:50: UserWarning: pre/24478870_15_4_2.png is a low contrast image\n",
            "WARNING:imageio:Lossy conversion from int64 to uint8. Range [0, 255]. Convert image to uint8 prior to saving to suppress this warning.\n",
            "/usr/local/lib/python3.7/dist-packages/ipykernel_launcher.py:50: UserWarning: pre/23729020_15_1_2.png is a low contrast image\n",
            "WARNING:imageio:Lossy conversion from int64 to uint8. Range [0, 255]. Convert image to uint8 prior to saving to suppress this warning.\n",
            "/usr/local/lib/python3.7/dist-packages/ipykernel_launcher.py:50: UserWarning: pre/23128915_15_1_1.png is a low contrast image\n",
            "WARNING:imageio:Lossy conversion from int64 to uint8. Range [0, 255]. Convert image to uint8 prior to saving to suppress this warning.\n",
            "Valid Mode:  30% 246/810 [00:06<00:14, 40.21 uttr/s]/usr/local/lib/python3.7/dist-packages/ipykernel_launcher.py:50: UserWarning: pre/22979020_15_4_1.png is a low contrast image\n",
            "/usr/local/lib/python3.7/dist-packages/ipykernel_launcher.py:50: UserWarning: pre/23429005_15_1_0.png is a low contrast image\n",
            "WARNING:imageio:Lossy conversion from int64 to uint8. Range [0, 255]. Convert image to uint8 prior to saving to suppress this warning.\n",
            "/usr/local/lib/python3.7/dist-packages/ipykernel_launcher.py:50: UserWarning: pre/22679020_15_4_3.png is a low contrast image\n",
            "WARNING:imageio:Lossy conversion from int64 to uint8. Range [0, 255]. Convert image to uint8 prior to saving to suppress this warning.\n",
            "/usr/local/lib/python3.7/dist-packages/ipykernel_launcher.py:50: UserWarning: pre/23278930_15_3_1.png is a low contrast image\n",
            "WARNING:imageio:Lossy conversion from int64 to uint8. Range [0, 255]. Convert image to uint8 prior to saving to suppress this warning.\n",
            "/usr/local/lib/python3.7/dist-packages/ipykernel_launcher.py:50: UserWarning: pre/22979020_15_3_4.png is a low contrast image\n",
            "WARNING:imageio:Lossy conversion from int64 to uint8. Range [0, 255]. Convert image to uint8 prior to saving to suppress this warning.\n",
            "/usr/local/lib/python3.7/dist-packages/ipykernel_launcher.py:50: UserWarning: pre/22678975_15_1_4.png is a low contrast image\n",
            "WARNING:imageio:Lossy conversion from int64 to uint8. Range [0, 255]. Convert image to uint8 prior to saving to suppress this warning.\n",
            "Valid Mode:  31% 252/810 [00:06<00:12, 43.37 uttr/s]/usr/local/lib/python3.7/dist-packages/ipykernel_launcher.py:50: UserWarning: pre/24329020_15_3_4.png is a low contrast image\n",
            "WARNING:imageio:Lossy conversion from int64 to uint8. Range [0, 255]. Convert image to uint8 prior to saving to suppress this warning.\n",
            "/usr/local/lib/python3.7/dist-packages/ipykernel_launcher.py:50: UserWarning: pre/23579095_15_3_0.png is a low contrast image\n",
            "WARNING:imageio:Lossy conversion from int64 to uint8. Range [0, 255]. Convert image to uint8 prior to saving to suppress this warning.\n",
            "/usr/local/lib/python3.7/dist-packages/ipykernel_launcher.py:50: UserWarning: pre/23879035_15_2_4.png is a low contrast image\n",
            "WARNING:imageio:Lossy conversion from int64 to uint8. Range [0, 255]. Convert image to uint8 prior to saving to suppress this warning.\n",
            "/usr/local/lib/python3.7/dist-packages/ipykernel_launcher.py:50: UserWarning: pre/23728960_15_0_3.png is a low contrast image\n",
            "WARNING:imageio:Lossy conversion from int64 to uint8. Range [0, 255]. Convert image to uint8 prior to saving to suppress this warning.\n",
            "/usr/local/lib/python3.7/dist-packages/ipykernel_launcher.py:50: UserWarning: pre/22978930_15_1_0.png is a low contrast image\n",
            "WARNING:imageio:Lossy conversion from int64 to uint8. Range [0, 255]. Convert image to uint8 prior to saving to suppress this warning.\n",
            "Valid Mode:  32% 257/810 [00:06<00:13, 42.03 uttr/s]/usr/local/lib/python3.7/dist-packages/ipykernel_launcher.py:50: UserWarning: pre/22978945_15_0_4.png is a low contrast image\n",
            "WARNING:imageio:Lossy conversion from int64 to uint8. Range [0, 255]. Convert image to uint8 prior to saving to suppress this warning.\n",
            "/usr/local/lib/python3.7/dist-packages/ipykernel_launcher.py:50: UserWarning: pre/23278930_15_1_4.png is a low contrast image\n",
            "/usr/local/lib/python3.7/dist-packages/ipykernel_launcher.py:50: UserWarning: pre/24329035_15_0_0.png is a low contrast image\n",
            "WARNING:imageio:Lossy conversion from int64 to uint8. Range [0, 255]. Convert image to uint8 prior to saving to suppress this warning.\n",
            "/usr/local/lib/python3.7/dist-packages/ipykernel_launcher.py:50: UserWarning: pre/23128885_15_4_0.png is a low contrast image\n",
            "WARNING:imageio:Lossy conversion from int64 to uint8. Range [0, 255]. Convert image to uint8 prior to saving to suppress this warning.\n",
            "/usr/local/lib/python3.7/dist-packages/ipykernel_launcher.py:50: UserWarning: pre/22678960_15_1_3.png is a low contrast image\n",
            "WARNING:imageio:Lossy conversion from int64 to uint8. Range [0, 255]. Convert image to uint8 prior to saving to suppress this warning.\n",
            "Valid Mode:  32% 262/810 [00:06<00:12, 43.06 uttr/s]/usr/local/lib/python3.7/dist-packages/ipykernel_launcher.py:50: UserWarning: pre/22979005_15_4_0.png is a low contrast image\n",
            "WARNING:imageio:Lossy conversion from int64 to uint8. Range [0, 255]. Convert image to uint8 prior to saving to suppress this warning.\n",
            "/usr/local/lib/python3.7/dist-packages/ipykernel_launcher.py:50: UserWarning: pre/23728945_15_3_2.png is a low contrast image\n",
            "WARNING:imageio:Lossy conversion from int64 to uint8. Range [0, 255]. Convert image to uint8 prior to saving to suppress this warning.\n",
            "/usr/local/lib/python3.7/dist-packages/ipykernel_launcher.py:50: UserWarning: pre/23578975_15_4_3.png is a low contrast image\n",
            "WARNING:imageio:Lossy conversion from int64 to uint8. Range [0, 255]. Convert image to uint8 prior to saving to suppress this warning.\n",
            "/usr/local/lib/python3.7/dist-packages/ipykernel_launcher.py:50: UserWarning: pre/22979035_15_1_3.png is a low contrast image\n",
            "WARNING:imageio:Lossy conversion from int64 to uint8. Range [0, 255]. Convert image to uint8 prior to saving to suppress this warning.\n",
            "/usr/local/lib/python3.7/dist-packages/ipykernel_launcher.py:50: UserWarning: pre/23578975_15_3_3.png is a low contrast image\n",
            "WARNING:imageio:Lossy conversion from int64 to uint8. Range [0, 255]. Convert image to uint8 prior to saving to suppress this warning.\n",
            "Valid Mode:  33% 267/810 [00:06<00:12, 42.10 uttr/s]/usr/local/lib/python3.7/dist-packages/ipykernel_launcher.py:50: UserWarning: pre/23278900_15_0_2.png is a low contrast image\n",
            "WARNING:imageio:Lossy conversion from int64 to uint8. Range [0, 255]. Convert image to uint8 prior to saving to suppress this warning.\n",
            "/usr/local/lib/python3.7/dist-packages/ipykernel_launcher.py:50: UserWarning: pre/22678990_15_4_4.png is a low contrast image\n",
            "WARNING:imageio:Lossy conversion from int64 to uint8. Range [0, 255]. Convert image to uint8 prior to saving to suppress this warning.\n",
            "/usr/local/lib/python3.7/dist-packages/ipykernel_launcher.py:50: UserWarning: pre/23129005_15_0_4.png is a low contrast image\n",
            "WARNING:imageio:Lossy conversion from int64 to uint8. Range [0, 255]. Convert image to uint8 prior to saving to suppress this warning.\n",
            "/usr/local/lib/python3.7/dist-packages/ipykernel_launcher.py:50: UserWarning: pre/23878990_15_4_2.png is a low contrast image\n",
            "WARNING:imageio:Lossy conversion from int64 to uint8. Range [0, 255]. Convert image to uint8 prior to saving to suppress this warning.\n",
            "/usr/local/lib/python3.7/dist-packages/ipykernel_launcher.py:50: UserWarning: pre/22828960_15_1_3.png is a low contrast image\n",
            "WARNING:imageio:Lossy conversion from int64 to uint8. Range [0, 255]. Convert image to uint8 prior to saving to suppress this warning.\n",
            "Valid Mode:  34% 272/810 [00:06<00:13, 41.29 uttr/s]/usr/local/lib/python3.7/dist-packages/ipykernel_launcher.py:50: UserWarning: pre/22978885_15_4_4.png is a low contrast image\n",
            "WARNING:imageio:Lossy conversion from int64 to uint8. Range [0, 255]. Convert image to uint8 prior to saving to suppress this warning.\n",
            "/usr/local/lib/python3.7/dist-packages/ipykernel_launcher.py:50: UserWarning: pre/22828945_15_0_1.png is a low contrast image\n",
            "WARNING:imageio:Lossy conversion from int64 to uint8. Range [0, 255]. Convert image to uint8 prior to saving to suppress this warning.\n",
            "/usr/local/lib/python3.7/dist-packages/ipykernel_launcher.py:50: UserWarning: pre/23879020_15_1_1.png is a low contrast image\n",
            "WARNING:imageio:Lossy conversion from int64 to uint8. Range [0, 255]. Convert image to uint8 prior to saving to suppress this warning.\n",
            "/usr/local/lib/python3.7/dist-packages/ipykernel_launcher.py:50: UserWarning: pre/23878975_15_3_2.png is a low contrast image\n",
            "/usr/local/lib/python3.7/dist-packages/ipykernel_launcher.py:50: UserWarning: pre/22979050_15_1_2.png is a low contrast image\n",
            "WARNING:imageio:Lossy conversion from int64 to uint8. Range [0, 255]. Convert image to uint8 prior to saving to suppress this warning.\n",
            "Valid Mode:  34% 277/810 [00:06<00:13, 40.55 uttr/s]/usr/local/lib/python3.7/dist-packages/ipykernel_launcher.py:50: UserWarning: pre/22678975_15_3_1.png is a low contrast image\n",
            "WARNING:imageio:Lossy conversion from int64 to uint8. Range [0, 255]. Convert image to uint8 prior to saving to suppress this warning.\n",
            "/usr/local/lib/python3.7/dist-packages/ipykernel_launcher.py:50: UserWarning: pre/23128960_15_3_1.png is a low contrast image\n",
            "WARNING:imageio:Lossy conversion from int64 to uint8. Range [0, 255]. Convert image to uint8 prior to saving to suppress this warning.\n",
            "/usr/local/lib/python3.7/dist-packages/ipykernel_launcher.py:50: UserWarning: pre/22828945_15_4_3.png is a low contrast image\n",
            "WARNING:imageio:Lossy conversion from int64 to uint8. Range [0, 255]. Convert image to uint8 prior to saving to suppress this warning.\n",
            "/usr/local/lib/python3.7/dist-packages/ipykernel_launcher.py:50: UserWarning: pre/23129035_15_1_2.png is a low contrast image\n",
            "WARNING:imageio:Lossy conversion from int64 to uint8. Range [0, 255]. Convert image to uint8 prior to saving to suppress this warning.\n",
            "/usr/local/lib/python3.7/dist-packages/ipykernel_launcher.py:50: UserWarning: pre/23729095_15_0_0.png is a low contrast image\n",
            "WARNING:imageio:Lossy conversion from int64 to uint8. Range [0, 255]. Convert image to uint8 prior to saving to suppress this warning.\n",
            "Valid Mode:  35% 282/810 [00:06<00:13, 40.29 uttr/s]/usr/local/lib/python3.7/dist-packages/ipykernel_launcher.py:50: UserWarning: pre/23579050_15_2_3.png is a low contrast image\n",
            "WARNING:imageio:Lossy conversion from int64 to uint8. Range [0, 255]. Convert image to uint8 prior to saving to suppress this warning.\n",
            "/usr/local/lib/python3.7/dist-packages/ipykernel_launcher.py:50: UserWarning: pre/22978945_15_1_3.png is a low contrast image\n",
            "WARNING:imageio:Lossy conversion from int64 to uint8. Range [0, 255]. Convert image to uint8 prior to saving to suppress this warning.\n",
            "/usr/local/lib/python3.7/dist-packages/ipykernel_launcher.py:50: UserWarning: pre/24329035_15_3_2.png is a low contrast image\n",
            "WARNING:imageio:Lossy conversion from int64 to uint8. Range [0, 255]. Convert image to uint8 prior to saving to suppress this warning.\n",
            "/usr/local/lib/python3.7/dist-packages/ipykernel_launcher.py:50: UserWarning: pre/23128930_15_3_1.png is a low contrast image\n",
            "WARNING:imageio:Lossy conversion from int64 to uint8. Range [0, 255]. Convert image to uint8 prior to saving to suppress this warning.\n",
            "/usr/local/lib/python3.7/dist-packages/ipykernel_launcher.py:50: UserWarning: pre/23728960_15_3_2.png is a low contrast image\n",
            "WARNING:imageio:Lossy conversion from int64 to uint8. Range [0, 255]. Convert image to uint8 prior to saving to suppress this warning.\n",
            "Valid Mode:  35% 287/810 [00:07<00:13, 39.65 uttr/s]/usr/local/lib/python3.7/dist-packages/ipykernel_launcher.py:50: UserWarning: pre/23879095_15_3_2.png is a low contrast image\n",
            "WARNING:imageio:Lossy conversion from int64 to uint8. Range [0, 255]. Convert image to uint8 prior to saving to suppress this warning.\n",
            "/usr/local/lib/python3.7/dist-packages/ipykernel_launcher.py:50: UserWarning: pre/23879020_15_1_0.png is a low contrast image\n",
            "WARNING:imageio:Lossy conversion from int64 to uint8. Range [0, 255]. Convert image to uint8 prior to saving to suppress this warning.\n",
            "/usr/local/lib/python3.7/dist-packages/ipykernel_launcher.py:50: UserWarning: pre/23878975_15_0_3.png is a low contrast image\n",
            "WARNING:imageio:Lossy conversion from int64 to uint8. Range [0, 255]. Convert image to uint8 prior to saving to suppress this warning.\n",
            "/usr/local/lib/python3.7/dist-packages/ipykernel_launcher.py:50: UserWarning: pre/23878975_15_0_0.png is a low contrast image\n",
            "WARNING:imageio:Lossy conversion from int64 to uint8. Range [0, 255]. Convert image to uint8 prior to saving to suppress this warning.\n",
            "Valid Mode:  36% 291/810 [00:07<00:13, 38.48 uttr/s]/usr/local/lib/python3.7/dist-packages/ipykernel_launcher.py:50: UserWarning: pre/23579095_15_2_4.png is a low contrast image\n",
            "WARNING:imageio:Lossy conversion from int64 to uint8. Range [0, 255]. Convert image to uint8 prior to saving to suppress this warning.\n",
            "/usr/local/lib/python3.7/dist-packages/ipykernel_launcher.py:50: UserWarning: pre/23579065_15_0_1.png is a low contrast image\n",
            "WARNING:imageio:Lossy conversion from int64 to uint8. Range [0, 255]. Convert image to uint8 prior to saving to suppress this warning.\n",
            "/usr/local/lib/python3.7/dist-packages/ipykernel_launcher.py:50: UserWarning: pre/23578930_15_3_4.png is a low contrast image\n",
            "WARNING:imageio:Lossy conversion from int64 to uint8. Range [0, 255]. Convert image to uint8 prior to saving to suppress this warning.\n",
            "/usr/local/lib/python3.7/dist-packages/ipykernel_launcher.py:50: UserWarning: pre/23879110_15_1_0.png is a low contrast image\n",
            "WARNING:imageio:Lossy conversion from int64 to uint8. Range [0, 255]. Convert image to uint8 prior to saving to suppress this warning.\n",
            "/usr/local/lib/python3.7/dist-packages/ipykernel_launcher.py:50: UserWarning: pre/22978975_15_0_0.png is a low contrast image\n",
            "WARNING:imageio:Lossy conversion from int64 to uint8. Range [0, 255]. Convert image to uint8 prior to saving to suppress this warning.\n",
            "Valid Mode:  37% 296/810 [00:07<00:12, 39.88 uttr/s]/usr/local/lib/python3.7/dist-packages/ipykernel_launcher.py:50: UserWarning: pre/23428945_15_3_3.png is a low contrast image\n",
            "WARNING:imageio:Lossy conversion from int64 to uint8. Range [0, 255]. Convert image to uint8 prior to saving to suppress this warning.\n",
            "/usr/local/lib/python3.7/dist-packages/ipykernel_launcher.py:50: UserWarning: pre/22978975_15_1_3.png is a low contrast image\n",
            "WARNING:imageio:Lossy conversion from int64 to uint8. Range [0, 255]. Convert image to uint8 prior to saving to suppress this warning.\n",
            "/usr/local/lib/python3.7/dist-packages/ipykernel_launcher.py:50: UserWarning: pre/23578945_15_2_1.png is a low contrast image\n",
            "WARNING:imageio:Lossy conversion from int64 to uint8. Range [0, 255]. Convert image to uint8 prior to saving to suppress this warning.\n",
            "/usr/local/lib/python3.7/dist-packages/ipykernel_launcher.py:50: UserWarning: pre/23428930_15_1_3.png is a low contrast image\n",
            "WARNING:imageio:Lossy conversion from int64 to uint8. Range [0, 255]. Convert image to uint8 prior to saving to suppress this warning.\n",
            "Valid Mode:  37% 300/810 [00:07<00:13, 38.97 uttr/s]/usr/local/lib/python3.7/dist-packages/ipykernel_launcher.py:50: UserWarning: pre/23879050_15_3_3.png is a low contrast image\n",
            "WARNING:imageio:Lossy conversion from int64 to uint8. Range [0, 255]. Convert image to uint8 prior to saving to suppress this warning.\n",
            "/usr/local/lib/python3.7/dist-packages/ipykernel_launcher.py:50: UserWarning: pre/22978870_15_1_4.png is a low contrast image\n",
            "WARNING:imageio:Lossy conversion from int64 to uint8. Range [0, 255]. Convert image to uint8 prior to saving to suppress this warning.\n",
            "/usr/local/lib/python3.7/dist-packages/ipykernel_launcher.py:50: UserWarning: pre/23278990_15_0_2.png is a low contrast image\n",
            "WARNING:imageio:Lossy conversion from int64 to uint8. Range [0, 255]. Convert image to uint8 prior to saving to suppress this warning.\n",
            "/usr/local/lib/python3.7/dist-packages/ipykernel_launcher.py:50: UserWarning: pre/23879020_15_3_0.png is a low contrast image\n",
            "WARNING:imageio:Lossy conversion from int64 to uint8. Range [0, 255]. Convert image to uint8 prior to saving to suppress this warning.\n",
            "Valid Mode:  38% 304/810 [00:07<00:13, 38.43 uttr/s]/usr/local/lib/python3.7/dist-packages/ipykernel_launcher.py:50: UserWarning: pre/23579020_15_1_4.png is a low contrast image\n",
            "WARNING:imageio:Lossy conversion from int64 to uint8. Range [0, 255]. Convert image to uint8 prior to saving to suppress this warning.\n",
            "/usr/local/lib/python3.7/dist-packages/ipykernel_launcher.py:50: UserWarning: pre/22979050_15_2_4.png is a low contrast image\n",
            "WARNING:imageio:Lossy conversion from int64 to uint8. Range [0, 255]. Convert image to uint8 prior to saving to suppress this warning.\n",
            "/usr/local/lib/python3.7/dist-packages/ipykernel_launcher.py:50: UserWarning: pre/22978870_15_0_1.png is a low contrast image\n",
            "WARNING:imageio:Lossy conversion from int64 to uint8. Range [0, 255]. Convert image to uint8 prior to saving to suppress this warning.\n",
            "/usr/local/lib/python3.7/dist-packages/ipykernel_launcher.py:50: UserWarning: pre/22978915_15_0_3.png is a low contrast image\n",
            "WARNING:imageio:Lossy conversion from int64 to uint8. Range [0, 255]. Convert image to uint8 prior to saving to suppress this warning.\n",
            "Valid Mode:  38% 308/810 [00:07<00:13, 38.14 uttr/s]/usr/local/lib/python3.7/dist-packages/ipykernel_launcher.py:50: UserWarning: pre/24478885_15_4_3.png is a low contrast image\n",
            "WARNING:imageio:Lossy conversion from int64 to uint8. Range [0, 255]. Convert image to uint8 prior to saving to suppress this warning.\n",
            "/usr/local/lib/python3.7/dist-packages/ipykernel_launcher.py:50: UserWarning: pre/22678960_15_2_0.png is a low contrast image\n",
            "WARNING:imageio:Lossy conversion from int64 to uint8. Range [0, 255]. Convert image to uint8 prior to saving to suppress this warning.\n",
            "/usr/local/lib/python3.7/dist-packages/ipykernel_launcher.py:50: UserWarning: pre/24329020_15_1_4.png is a low contrast image\n",
            "WARNING:imageio:Lossy conversion from int64 to uint8. Range [0, 255]. Convert image to uint8 prior to saving to suppress this warning.\n",
            "/usr/local/lib/python3.7/dist-packages/ipykernel_launcher.py:50: UserWarning: pre/23278960_15_0_0.png is a low contrast image\n",
            "WARNING:imageio:Lossy conversion from int64 to uint8. Range [0, 255]. Convert image to uint8 prior to saving to suppress this warning.\n",
            "Valid Mode:  39% 312/810 [00:07<00:13, 37.21 uttr/s]/usr/local/lib/python3.7/dist-packages/ipykernel_launcher.py:50: UserWarning: pre/23729065_15_3_0.png is a low contrast image\n",
            "WARNING:imageio:Lossy conversion from int64 to uint8. Range [0, 255]. Convert image to uint8 prior to saving to suppress this warning.\n",
            "/usr/local/lib/python3.7/dist-packages/ipykernel_launcher.py:50: UserWarning: pre/24329020_15_2_0.png is a low contrast image\n",
            "WARNING:imageio:Lossy conversion from int64 to uint8. Range [0, 255]. Convert image to uint8 prior to saving to suppress this warning.\n",
            "/usr/local/lib/python3.7/dist-packages/ipykernel_launcher.py:50: UserWarning: pre/23579065_15_2_2.png is a low contrast image\n",
            "WARNING:imageio:Lossy conversion from int64 to uint8. Range [0, 255]. Convert image to uint8 prior to saving to suppress this warning.\n",
            "/usr/local/lib/python3.7/dist-packages/ipykernel_launcher.py:50: UserWarning: pre/23128900_15_4_2.png is a low contrast image\n",
            "WARNING:imageio:Lossy conversion from int64 to uint8. Range [0, 255]. Convert image to uint8 prior to saving to suppress this warning.\n",
            "/usr/local/lib/python3.7/dist-packages/ipykernel_launcher.py:50: UserWarning: pre/22828945_15_0_3.png is a low contrast image\n",
            "WARNING:imageio:Lossy conversion from int64 to uint8. Range [0, 255]. Convert image to uint8 prior to saving to suppress this warning.\n",
            "Valid Mode:  39% 317/810 [00:07<00:12, 38.37 uttr/s]/usr/local/lib/python3.7/dist-packages/ipykernel_launcher.py:50: UserWarning: pre/22679005_15_2_2.png is a low contrast image\n",
            "WARNING:imageio:Lossy conversion from int64 to uint8. Range [0, 255]. Convert image to uint8 prior to saving to suppress this warning.\n",
            "/usr/local/lib/python3.7/dist-packages/ipykernel_launcher.py:50: UserWarning: pre/22678915_15_4_1.png is a low contrast image\n",
            "WARNING:imageio:Lossy conversion from int64 to uint8. Range [0, 255]. Convert image to uint8 prior to saving to suppress this warning.\n",
            "/usr/local/lib/python3.7/dist-packages/ipykernel_launcher.py:50: UserWarning: pre/23579065_15_3_0.png is a low contrast image\n",
            "WARNING:imageio:Lossy conversion from int64 to uint8. Range [0, 255]. Convert image to uint8 prior to saving to suppress this warning.\n",
            "/usr/local/lib/python3.7/dist-packages/ipykernel_launcher.py:50: UserWarning: pre/23729065_15_0_2.png is a low contrast image\n",
            "WARNING:imageio:Lossy conversion from int64 to uint8. Range [0, 255]. Convert image to uint8 prior to saving to suppress this warning.\n",
            "Valid Mode:  40% 321/810 [00:07<00:13, 37.16 uttr/s]/usr/local/lib/python3.7/dist-packages/ipykernel_launcher.py:50: UserWarning: pre/24029065_15_3_2.png is a low contrast image\n",
            "WARNING:imageio:Lossy conversion from int64 to uint8. Range [0, 255]. Convert image to uint8 prior to saving to suppress this warning.\n",
            "/usr/local/lib/python3.7/dist-packages/ipykernel_launcher.py:50: UserWarning: pre/22829035_15_0_0.png is a low contrast image\n",
            "WARNING:imageio:Lossy conversion from int64 to uint8. Range [0, 255]. Convert image to uint8 prior to saving to suppress this warning.\n",
            "/usr/local/lib/python3.7/dist-packages/ipykernel_launcher.py:50: UserWarning: pre/22678975_15_3_2.png is a low contrast image\n",
            "WARNING:imageio:Lossy conversion from int64 to uint8. Range [0, 255]. Convert image to uint8 prior to saving to suppress this warning.\n",
            "/usr/local/lib/python3.7/dist-packages/ipykernel_launcher.py:50: UserWarning: pre/23578945_15_1_1.png is a low contrast image\n",
            "WARNING:imageio:Lossy conversion from int64 to uint8. Range [0, 255]. Convert image to uint8 prior to saving to suppress this warning.\n",
            "Valid Mode:  40% 325/810 [00:08<00:13, 37.23 uttr/s]/usr/local/lib/python3.7/dist-packages/ipykernel_launcher.py:50: UserWarning: pre/24328840_15_2_1.png is a low contrast image\n",
            "WARNING:imageio:Lossy conversion from int64 to uint8. Range [0, 255]. Convert image to uint8 prior to saving to suppress this warning.\n",
            "/usr/local/lib/python3.7/dist-packages/ipykernel_launcher.py:50: UserWarning: pre/23578930_15_2_0.png is a low contrast image\n",
            "WARNING:imageio:Lossy conversion from int64 to uint8. Range [0, 255]. Convert image to uint8 prior to saving to suppress this warning.\n",
            "/usr/local/lib/python3.7/dist-packages/ipykernel_launcher.py:50: UserWarning: pre/23879050_15_2_0.png is a low contrast image\n",
            "WARNING:imageio:Lossy conversion from int64 to uint8. Range [0, 255]. Convert image to uint8 prior to saving to suppress this warning.\n",
            "/usr/local/lib/python3.7/dist-packages/ipykernel_launcher.py:50: UserWarning: pre/22978975_15_2_0.png is a low contrast image\n",
            "WARNING:imageio:Lossy conversion from int64 to uint8. Range [0, 255]. Convert image to uint8 prior to saving to suppress this warning.\n",
            "Valid Mode:  41% 329/810 [00:08<00:12, 37.70 uttr/s]/usr/local/lib/python3.7/dist-packages/ipykernel_launcher.py:50: UserWarning: pre/23579050_15_1_1.png is a low contrast image\n",
            "WARNING:imageio:Lossy conversion from int64 to uint8. Range [0, 255]. Convert image to uint8 prior to saving to suppress this warning.\n",
            "/usr/local/lib/python3.7/dist-packages/ipykernel_launcher.py:50: UserWarning: pre/23429140_15_0_4.png is a low contrast image\n",
            "WARNING:imageio:Lossy conversion from int64 to uint8. Range [0, 255]. Convert image to uint8 prior to saving to suppress this warning.\n",
            "/usr/local/lib/python3.7/dist-packages/ipykernel_launcher.py:50: UserWarning: pre/22979005_15_3_2.png is a low contrast image\n",
            "WARNING:imageio:Lossy conversion from int64 to uint8. Range [0, 255]. Convert image to uint8 prior to saving to suppress this warning.\n",
            "/usr/local/lib/python3.7/dist-packages/ipykernel_launcher.py:50: UserWarning: pre/22829035_15_0_3.png is a low contrast image\n",
            "Valid Mode:  41% 333/810 [00:08<00:12, 38.05 uttr/s]/usr/local/lib/python3.7/dist-packages/ipykernel_launcher.py:50: UserWarning: pre/23429140_15_2_4.png is a low contrast image\n",
            "WARNING:imageio:Lossy conversion from int64 to uint8. Range [0, 255]. Convert image to uint8 prior to saving to suppress this warning.\n",
            "/usr/local/lib/python3.7/dist-packages/ipykernel_launcher.py:50: UserWarning: pre/23879095_15_4_0.png is a low contrast image\n",
            "WARNING:imageio:Lossy conversion from int64 to uint8. Range [0, 255]. Convert image to uint8 prior to saving to suppress this warning.\n",
            "/usr/local/lib/python3.7/dist-packages/ipykernel_launcher.py:50: UserWarning: pre/22978990_15_0_3.png is a low contrast image\n",
            "WARNING:imageio:Lossy conversion from int64 to uint8. Range [0, 255]. Convert image to uint8 prior to saving to suppress this warning.\n",
            "/usr/local/lib/python3.7/dist-packages/ipykernel_launcher.py:50: UserWarning: pre/23728975_15_3_1.png is a low contrast image\n",
            "WARNING:imageio:Lossy conversion from int64 to uint8. Range [0, 255]. Convert image to uint8 prior to saving to suppress this warning.\n",
            "Valid Mode:  42% 337/810 [00:08<00:12, 37.98 uttr/s]/usr/local/lib/python3.7/dist-packages/ipykernel_launcher.py:50: UserWarning: pre/22979035_15_1_1.png is a low contrast image\n",
            "WARNING:imageio:Lossy conversion from int64 to uint8. Range [0, 255]. Convert image to uint8 prior to saving to suppress this warning.\n",
            "/usr/local/lib/python3.7/dist-packages/ipykernel_launcher.py:50: UserWarning: pre/23278975_15_4_1.png is a low contrast image\n",
            "WARNING:imageio:Lossy conversion from int64 to uint8. Range [0, 255]. Convert image to uint8 prior to saving to suppress this warning.\n",
            "/usr/local/lib/python3.7/dist-packages/ipykernel_launcher.py:50: UserWarning: pre/24328855_15_0_1.png is a low contrast image\n",
            "WARNING:imageio:Lossy conversion from int64 to uint8. Range [0, 255]. Convert image to uint8 prior to saving to suppress this warning.\n",
            "/usr/local/lib/python3.7/dist-packages/ipykernel_launcher.py:50: UserWarning: pre/22828960_15_3_2.png is a low contrast image\n",
            "WARNING:imageio:Lossy conversion from int64 to uint8. Range [0, 255]. Convert image to uint8 prior to saving to suppress this warning.\n",
            "/usr/local/lib/python3.7/dist-packages/ipykernel_launcher.py:50: UserWarning: pre/22679035_15_2_4.png is a low contrast image\n",
            "WARNING:imageio:Lossy conversion from int64 to uint8. Range [0, 255]. Convert image to uint8 prior to saving to suppress this warning.\n",
            "Valid Mode:  42% 342/810 [00:08<00:12, 38.61 uttr/s]/usr/local/lib/python3.7/dist-packages/ipykernel_launcher.py:50: UserWarning: pre/23428960_15_3_3.png is a low contrast image\n",
            "WARNING:imageio:Lossy conversion from int64 to uint8. Range [0, 255]. Convert image to uint8 prior to saving to suppress this warning.\n",
            "/usr/local/lib/python3.7/dist-packages/ipykernel_launcher.py:50: UserWarning: pre/22828975_15_4_2.png is a low contrast image\n",
            "WARNING:imageio:Lossy conversion from int64 to uint8. Range [0, 255]. Convert image to uint8 prior to saving to suppress this warning.\n",
            "/usr/local/lib/python3.7/dist-packages/ipykernel_launcher.py:50: UserWarning: pre/23728960_15_1_4.png is a low contrast image\n",
            "WARNING:imageio:Lossy conversion from int64 to uint8. Range [0, 255]. Convert image to uint8 prior to saving to suppress this warning.\n",
            "/usr/local/lib/python3.7/dist-packages/ipykernel_launcher.py:50: UserWarning: pre/22678945_15_1_2.png is a low contrast image\n",
            "WARNING:imageio:Lossy conversion from int64 to uint8. Range [0, 255]. Convert image to uint8 prior to saving to suppress this warning.\n",
            "Valid Mode:  43% 346/810 [00:08<00:12, 38.38 uttr/s]/usr/local/lib/python3.7/dist-packages/ipykernel_launcher.py:50: UserWarning: pre/23579080_15_1_4.png is a low contrast image\n",
            "WARNING:imageio:Lossy conversion from int64 to uint8. Range [0, 255]. Convert image to uint8 prior to saving to suppress this warning.\n",
            "/usr/local/lib/python3.7/dist-packages/ipykernel_launcher.py:50: UserWarning: pre/23128960_15_3_4.png is a low contrast image\n",
            "WARNING:imageio:Lossy conversion from int64 to uint8. Range [0, 255]. Convert image to uint8 prior to saving to suppress this warning.\n",
            "/usr/local/lib/python3.7/dist-packages/ipykernel_launcher.py:50: UserWarning: pre/24479005_15_0_0.png is a low contrast image\n",
            "/usr/local/lib/python3.7/dist-packages/ipykernel_launcher.py:50: UserWarning: pre/23579095_15_4_2.png is a low contrast image\n",
            "WARNING:imageio:Lossy conversion from int64 to uint8. Range [0, 255]. Convert image to uint8 prior to saving to suppress this warning.\n",
            "Valid Mode:  43% 350/810 [00:08<00:12, 37.61 uttr/s]/usr/local/lib/python3.7/dist-packages/ipykernel_launcher.py:50: UserWarning: pre/23429125_15_2_2.png is a low contrast image\n",
            "/usr/local/lib/python3.7/dist-packages/ipykernel_launcher.py:50: UserWarning: pre/22678930_15_4_2.png is a low contrast image\n",
            "WARNING:imageio:Lossy conversion from int64 to uint8. Range [0, 255]. Convert image to uint8 prior to saving to suppress this warning.\n",
            "/usr/local/lib/python3.7/dist-packages/ipykernel_launcher.py:50: UserWarning: pre/22678915_15_3_0.png is a low contrast image\n",
            "WARNING:imageio:Lossy conversion from int64 to uint8. Range [0, 255]. Convert image to uint8 prior to saving to suppress this warning.\n",
            "/usr/local/lib/python3.7/dist-packages/ipykernel_launcher.py:50: UserWarning: pre/23128915_15_2_0.png is a low contrast image\n",
            "WARNING:imageio:Lossy conversion from int64 to uint8. Range [0, 255]. Convert image to uint8 prior to saving to suppress this warning.\n",
            "/usr/local/lib/python3.7/dist-packages/ipykernel_launcher.py:50: UserWarning: pre/23578930_15_2_3.png is a low contrast image\n",
            "WARNING:imageio:Lossy conversion from int64 to uint8. Range [0, 255]. Convert image to uint8 prior to saving to suppress this warning.\n",
            "Valid Mode:  44% 355/810 [00:08<00:11, 39.30 uttr/s]/usr/local/lib/python3.7/dist-packages/ipykernel_launcher.py:50: UserWarning: pre/24179050_15_2_1.png is a low contrast image\n",
            "WARNING:imageio:Lossy conversion from int64 to uint8. Range [0, 255]. Convert image to uint8 prior to saving to suppress this warning.\n",
            "/usr/local/lib/python3.7/dist-packages/ipykernel_launcher.py:50: UserWarning: pre/24179080_15_1_1.png is a low contrast image\n",
            "WARNING:imageio:Lossy conversion from int64 to uint8. Range [0, 255]. Convert image to uint8 prior to saving to suppress this warning.\n",
            "/usr/local/lib/python3.7/dist-packages/ipykernel_launcher.py:50: UserWarning: pre/22678915_15_0_1.png is a low contrast image\n",
            "WARNING:imageio:Lossy conversion from int64 to uint8. Range [0, 255]. Convert image to uint8 prior to saving to suppress this warning.\n",
            "/usr/local/lib/python3.7/dist-packages/ipykernel_launcher.py:50: UserWarning: pre/23429005_15_0_1.png is a low contrast image\n",
            "WARNING:imageio:Lossy conversion from int64 to uint8. Range [0, 255]. Convert image to uint8 prior to saving to suppress this warning.\n",
            "Valid Mode:  44% 359/810 [00:08<00:11, 38.31 uttr/s]/usr/local/lib/python3.7/dist-packages/ipykernel_launcher.py:50: UserWarning: pre/23579035_15_3_3.png is a low contrast image\n",
            "WARNING:imageio:Lossy conversion from int64 to uint8. Range [0, 255]. Convert image to uint8 prior to saving to suppress this warning.\n",
            "/usr/local/lib/python3.7/dist-packages/ipykernel_launcher.py:50: UserWarning: pre/22678990_15_0_0.png is a low contrast image\n",
            "WARNING:imageio:Lossy conversion from int64 to uint8. Range [0, 255]. Convert image to uint8 prior to saving to suppress this warning.\n",
            "/usr/local/lib/python3.7/dist-packages/ipykernel_launcher.py:50: UserWarning: pre/24328855_15_4_3.png is a low contrast image\n",
            "WARNING:imageio:Lossy conversion from int64 to uint8. Range [0, 255]. Convert image to uint8 prior to saving to suppress this warning.\n",
            "/usr/local/lib/python3.7/dist-packages/ipykernel_launcher.py:50: UserWarning: pre/23128975_15_2_1.png is a low contrast image\n",
            "WARNING:imageio:Lossy conversion from int64 to uint8. Range [0, 255]. Convert image to uint8 prior to saving to suppress this warning.\n",
            "Valid Mode:  45% 363/810 [00:09<00:11, 37.47 uttr/s]/usr/local/lib/python3.7/dist-packages/ipykernel_launcher.py:50: UserWarning: pre/22678990_15_3_4.png is a low contrast image\n",
            "WARNING:imageio:Lossy conversion from int64 to uint8. Range [0, 255]. Convert image to uint8 prior to saving to suppress this warning.\n",
            "/usr/local/lib/python3.7/dist-packages/ipykernel_launcher.py:50: UserWarning: pre/24029080_15_2_0.png is a low contrast image\n",
            "WARNING:imageio:Lossy conversion from int64 to uint8. Range [0, 255]. Convert image to uint8 prior to saving to suppress this warning.\n",
            "/usr/local/lib/python3.7/dist-packages/ipykernel_launcher.py:50: UserWarning: pre/22678975_15_2_0.png is a low contrast image\n",
            "WARNING:imageio:Lossy conversion from int64 to uint8. Range [0, 255]. Convert image to uint8 prior to saving to suppress this warning.\n",
            "/usr/local/lib/python3.7/dist-packages/ipykernel_launcher.py:50: UserWarning: pre/23429140_15_1_0.png is a low contrast image\n",
            "WARNING:imageio:Lossy conversion from int64 to uint8. Range [0, 255]. Convert image to uint8 prior to saving to suppress this warning.\n",
            "Valid Mode:  45% 367/810 [00:09<00:11, 38.08 uttr/s]/usr/local/lib/python3.7/dist-packages/ipykernel_launcher.py:50: UserWarning: pre/24029080_15_2_4.png is a low contrast image\n",
            "WARNING:imageio:Lossy conversion from int64 to uint8. Range [0, 255]. Convert image to uint8 prior to saving to suppress this warning.\n",
            "/usr/local/lib/python3.7/dist-packages/ipykernel_launcher.py:50: UserWarning: pre/23879110_15_4_0.png is a low contrast image\n",
            "WARNING:imageio:Lossy conversion from int64 to uint8. Range [0, 255]. Convert image to uint8 prior to saving to suppress this warning.\n",
            "/usr/local/lib/python3.7/dist-packages/ipykernel_launcher.py:50: UserWarning: pre/23579065_15_3_2.png is a low contrast image\n",
            "WARNING:imageio:Lossy conversion from int64 to uint8. Range [0, 255]. Convert image to uint8 prior to saving to suppress this warning.\n",
            "/usr/local/lib/python3.7/dist-packages/ipykernel_launcher.py:50: UserWarning: pre/23428975_15_1_3.png is a low contrast image\n",
            "WARNING:imageio:Lossy conversion from int64 to uint8. Range [0, 255]. Convert image to uint8 prior to saving to suppress this warning.\n",
            "Valid Mode:  46% 371/810 [00:09<00:11, 37.72 uttr/s]/usr/local/lib/python3.7/dist-packages/ipykernel_launcher.py:50: UserWarning: pre/23728930_15_3_2.png is a low contrast image\n",
            "WARNING:imageio:Lossy conversion from int64 to uint8. Range [0, 255]. Convert image to uint8 prior to saving to suppress this warning.\n",
            "/usr/local/lib/python3.7/dist-packages/ipykernel_launcher.py:50: UserWarning: pre/22678990_15_3_1.png is a low contrast image\n",
            "WARNING:imageio:Lossy conversion from int64 to uint8. Range [0, 255]. Convert image to uint8 prior to saving to suppress this warning.\n",
            "/usr/local/lib/python3.7/dist-packages/ipykernel_launcher.py:50: UserWarning: pre/24029035_15_1_4.png is a low contrast image\n",
            "WARNING:imageio:Lossy conversion from int64 to uint8. Range [0, 255]. Convert image to uint8 prior to saving to suppress this warning.\n",
            "/usr/local/lib/python3.7/dist-packages/ipykernel_launcher.py:50: UserWarning: pre/23279155_15_3_1.png is a low contrast image\n",
            "WARNING:imageio:Lossy conversion from int64 to uint8. Range [0, 255]. Convert image to uint8 prior to saving to suppress this warning.\n",
            "Valid Mode:  46% 375/810 [00:09<00:11, 37.61 uttr/s]/usr/local/lib/python3.7/dist-packages/ipykernel_launcher.py:50: UserWarning: pre/23879065_15_1_4.png is a low contrast image\n",
            "WARNING:imageio:Lossy conversion from int64 to uint8. Range [0, 255]. Convert image to uint8 prior to saving to suppress this warning.\n",
            "/usr/local/lib/python3.7/dist-packages/ipykernel_launcher.py:50: UserWarning: pre/22978975_15_3_0.png is a low contrast image\n",
            "WARNING:imageio:Lossy conversion from int64 to uint8. Range [0, 255]. Convert image to uint8 prior to saving to suppress this warning.\n",
            "/usr/local/lib/python3.7/dist-packages/ipykernel_launcher.py:50: UserWarning: pre/23128975_15_2_4.png is a low contrast image\n",
            "WARNING:imageio:Lossy conversion from int64 to uint8. Range [0, 255]. Convert image to uint8 prior to saving to suppress this warning.\n",
            "/usr/local/lib/python3.7/dist-packages/ipykernel_launcher.py:50: UserWarning: pre/23579050_15_2_0.png is a low contrast image\n",
            "WARNING:imageio:Lossy conversion from int64 to uint8. Range [0, 255]. Convert image to uint8 prior to saving to suppress this warning.\n",
            "Valid Mode:  47% 379/810 [00:09<00:11, 37.67 uttr/s]/usr/local/lib/python3.7/dist-packages/ipykernel_launcher.py:50: UserWarning: pre/23729020_15_1_4.png is a low contrast image\n",
            "WARNING:imageio:Lossy conversion from int64 to uint8. Range [0, 255]. Convert image to uint8 prior to saving to suppress this warning.\n",
            "/usr/local/lib/python3.7/dist-packages/ipykernel_launcher.py:50: UserWarning: pre/23879050_15_0_1.png is a low contrast image\n",
            "WARNING:imageio:Lossy conversion from int64 to uint8. Range [0, 255]. Convert image to uint8 prior to saving to suppress this warning.\n",
            "/usr/local/lib/python3.7/dist-packages/ipykernel_launcher.py:50: UserWarning: pre/23729050_15_1_2.png is a low contrast image\n",
            "WARNING:imageio:Lossy conversion from int64 to uint8. Range [0, 255]. Convert image to uint8 prior to saving to suppress this warning.\n",
            "/usr/local/lib/python3.7/dist-packages/ipykernel_launcher.py:50: UserWarning: pre/23279005_15_1_0.png is a low contrast image\n",
            "WARNING:imageio:Lossy conversion from int64 to uint8. Range [0, 255]. Convert image to uint8 prior to saving to suppress this warning.\n",
            "Valid Mode:  47% 383/810 [00:09<00:11, 36.95 uttr/s]/usr/local/lib/python3.7/dist-packages/ipykernel_launcher.py:50: UserWarning: pre/23128915_15_0_2.png is a low contrast image\n",
            "WARNING:imageio:Lossy conversion from int64 to uint8. Range [0, 255]. Convert image to uint8 prior to saving to suppress this warning.\n",
            "/usr/local/lib/python3.7/dist-packages/ipykernel_launcher.py:50: UserWarning: pre/22978975_15_1_0.png is a low contrast image\n",
            "WARNING:imageio:Lossy conversion from int64 to uint8. Range [0, 255]. Convert image to uint8 prior to saving to suppress this warning.\n",
            "/usr/local/lib/python3.7/dist-packages/ipykernel_launcher.py:50: UserWarning: pre/23278990_15_4_3.png is a low contrast image\n",
            "WARNING:imageio:Lossy conversion from int64 to uint8. Range [0, 255]. Convert image to uint8 prior to saving to suppress this warning.\n",
            "/usr/local/lib/python3.7/dist-packages/ipykernel_launcher.py:50: UserWarning: pre/23278900_15_2_0.png is a low contrast image\n",
            "WARNING:imageio:Lossy conversion from int64 to uint8. Range [0, 255]. Convert image to uint8 prior to saving to suppress this warning.\n",
            "/usr/local/lib/python3.7/dist-packages/ipykernel_launcher.py:50: UserWarning: pre/23878975_15_0_2.png is a low contrast image\n",
            "WARNING:imageio:Lossy conversion from int64 to uint8. Range [0, 255]. Convert image to uint8 prior to saving to suppress this warning.\n",
            "Valid Mode:  48% 388/810 [00:09<00:11, 37.19 uttr/s]/usr/local/lib/python3.7/dist-packages/ipykernel_launcher.py:50: UserWarning: pre/23429125_15_0_1.png is a low contrast image\n",
            "WARNING:imageio:Lossy conversion from int64 to uint8. Range [0, 255]. Convert image to uint8 prior to saving to suppress this warning.\n",
            "/usr/local/lib/python3.7/dist-packages/ipykernel_launcher.py:50: UserWarning: pre/23728945_15_1_0.png is a low contrast image\n",
            "WARNING:imageio:Lossy conversion from int64 to uint8. Range [0, 255]. Convert image to uint8 prior to saving to suppress this warning.\n",
            "/usr/local/lib/python3.7/dist-packages/ipykernel_launcher.py:50: UserWarning: pre/22978930_15_4_2.png is a low contrast image\n",
            "WARNING:imageio:Lossy conversion from int64 to uint8. Range [0, 255]. Convert image to uint8 prior to saving to suppress this warning.\n",
            "/usr/local/lib/python3.7/dist-packages/ipykernel_launcher.py:50: UserWarning: pre/24329095_15_0_4.png is a low contrast image\n",
            "WARNING:imageio:Lossy conversion from int64 to uint8. Range [0, 255]. Convert image to uint8 prior to saving to suppress this warning.\n",
            "Valid Mode:  48% 392/810 [00:09<00:11, 36.84 uttr/s]/usr/local/lib/python3.7/dist-packages/ipykernel_launcher.py:50: UserWarning: pre/23578945_15_0_2.png is a low contrast image\n",
            "WARNING:imageio:Lossy conversion from int64 to uint8. Range [0, 255]. Convert image to uint8 prior to saving to suppress this warning.\n",
            "/usr/local/lib/python3.7/dist-packages/ipykernel_launcher.py:50: UserWarning: pre/22678960_15_3_0.png is a low contrast image\n",
            "WARNING:imageio:Lossy conversion from int64 to uint8. Range [0, 255]. Convert image to uint8 prior to saving to suppress this warning.\n",
            "/usr/local/lib/python3.7/dist-packages/ipykernel_launcher.py:50: UserWarning: pre/23278960_15_2_4.png is a low contrast image\n",
            "WARNING:imageio:Lossy conversion from int64 to uint8. Range [0, 255]. Convert image to uint8 prior to saving to suppress this warning.\n",
            "/usr/local/lib/python3.7/dist-packages/ipykernel_launcher.py:50: UserWarning: pre/24029080_15_3_1.png is a low contrast image\n",
            "WARNING:imageio:Lossy conversion from int64 to uint8. Range [0, 255]. Convert image to uint8 prior to saving to suppress this warning.\n",
            "Valid Mode:  49% 396/810 [00:10<00:12, 32.93 uttr/s]/usr/local/lib/python3.7/dist-packages/ipykernel_launcher.py:50: UserWarning: pre/24179080_15_4_1.png is a low contrast image\n",
            "WARNING:imageio:Lossy conversion from int64 to uint8. Range [0, 255]. Convert image to uint8 prior to saving to suppress this warning.\n",
            "/usr/local/lib/python3.7/dist-packages/ipykernel_launcher.py:50: UserWarning: pre/23579050_15_3_0.png is a low contrast image\n",
            "WARNING:imageio:Lossy conversion from int64 to uint8. Range [0, 255]. Convert image to uint8 prior to saving to suppress this warning.\n",
            "/usr/local/lib/python3.7/dist-packages/ipykernel_launcher.py:50: UserWarning: pre/23278915_15_3_3.png is a low contrast image\n",
            "WARNING:imageio:Lossy conversion from int64 to uint8. Range [0, 255]. Convert image to uint8 prior to saving to suppress this warning.\n",
            "/usr/local/lib/python3.7/dist-packages/ipykernel_launcher.py:50: UserWarning: pre/24478870_15_0_3.png is a low contrast image\n",
            "Valid Mode:  49% 400/810 [00:10<00:12, 33.54 uttr/s]/usr/local/lib/python3.7/dist-packages/ipykernel_launcher.py:50: UserWarning: pre/22829005_15_4_1.png is a low contrast image\n",
            "WARNING:imageio:Lossy conversion from int64 to uint8. Range [0, 255]. Convert image to uint8 prior to saving to suppress this warning.\n",
            "/usr/local/lib/python3.7/dist-packages/ipykernel_launcher.py:50: UserWarning: pre/22978945_15_3_3.png is a low contrast image\n",
            "WARNING:imageio:Lossy conversion from int64 to uint8. Range [0, 255]. Convert image to uint8 prior to saving to suppress this warning.\n",
            "/usr/local/lib/python3.7/dist-packages/ipykernel_launcher.py:50: UserWarning: pre/23429140_15_3_1.png is a low contrast image\n",
            "WARNING:imageio:Lossy conversion from int64 to uint8. Range [0, 255]. Convert image to uint8 prior to saving to suppress this warning.\n",
            "/usr/local/lib/python3.7/dist-packages/ipykernel_launcher.py:50: UserWarning: pre/23129020_15_2_4.png is a low contrast image\n",
            "WARNING:imageio:Lossy conversion from int64 to uint8. Range [0, 255]. Convert image to uint8 prior to saving to suppress this warning.\n",
            "Valid Mode:  50% 404/810 [00:10<00:11, 34.56 uttr/s]/usr/local/lib/python3.7/dist-packages/ipykernel_launcher.py:50: UserWarning: pre/22678975_15_3_0.png is a low contrast image\n",
            "WARNING:imageio:Lossy conversion from int64 to uint8. Range [0, 255]. Convert image to uint8 prior to saving to suppress this warning.\n",
            "/usr/local/lib/python3.7/dist-packages/ipykernel_launcher.py:50: UserWarning: pre/22679035_15_2_2.png is a low contrast image\n",
            "WARNING:imageio:Lossy conversion from int64 to uint8. Range [0, 255]. Convert image to uint8 prior to saving to suppress this warning.\n",
            "/usr/local/lib/python3.7/dist-packages/ipykernel_launcher.py:50: UserWarning: pre/24329020_15_3_2.png is a low contrast image\n",
            "/usr/local/lib/python3.7/dist-packages/ipykernel_launcher.py:50: UserWarning: pre/23579095_15_1_2.png is a low contrast image\n",
            "WARNING:imageio:Lossy conversion from int64 to uint8. Range [0, 255]. Convert image to uint8 prior to saving to suppress this warning.\n",
            "/usr/local/lib/python3.7/dist-packages/ipykernel_launcher.py:50: UserWarning: pre/24478855_15_4_4.png is a low contrast image\n",
            "WARNING:imageio:Lossy conversion from int64 to uint8. Range [0, 255]. Convert image to uint8 prior to saving to suppress this warning.\n",
            "Valid Mode:  50% 409/810 [00:10<00:10, 36.62 uttr/s]/usr/local/lib/python3.7/dist-packages/ipykernel_launcher.py:50: UserWarning: pre/23129005_15_4_1.png is a low contrast image\n",
            "WARNING:imageio:Lossy conversion from int64 to uint8. Range [0, 255]. Convert image to uint8 prior to saving to suppress this warning.\n",
            "/usr/local/lib/python3.7/dist-packages/ipykernel_launcher.py:50: UserWarning: pre/23278900_15_3_3.png is a low contrast image\n",
            "WARNING:imageio:Lossy conversion from int64 to uint8. Range [0, 255]. Convert image to uint8 prior to saving to suppress this warning.\n",
            "/usr/local/lib/python3.7/dist-packages/ipykernel_launcher.py:50: UserWarning: pre/22679035_15_4_2.png is a low contrast image\n",
            "WARNING:imageio:Lossy conversion from int64 to uint8. Range [0, 255]. Convert image to uint8 prior to saving to suppress this warning.\n",
            "/usr/local/lib/python3.7/dist-packages/ipykernel_launcher.py:50: UserWarning: pre/23729065_15_1_0.png is a low contrast image\n",
            "WARNING:imageio:Lossy conversion from int64 to uint8. Range [0, 255]. Convert image to uint8 prior to saving to suppress this warning.\n",
            "Valid Mode:  51% 413/810 [00:10<00:11, 35.94 uttr/s]/usr/local/lib/python3.7/dist-packages/ipykernel_launcher.py:50: UserWarning: pre/23579050_15_4_3.png is a low contrast image\n",
            "WARNING:imageio:Lossy conversion from int64 to uint8. Range [0, 255]. Convert image to uint8 prior to saving to suppress this warning.\n",
            "/usr/local/lib/python3.7/dist-packages/ipykernel_launcher.py:50: UserWarning: pre/23429095_15_4_3.png is a low contrast image\n",
            "WARNING:imageio:Lossy conversion from int64 to uint8. Range [0, 255]. Convert image to uint8 prior to saving to suppress this warning.\n",
            "/usr/local/lib/python3.7/dist-packages/ipykernel_launcher.py:50: UserWarning: pre/23729080_15_4_1.png is a low contrast image\n",
            "WARNING:imageio:Lossy conversion from int64 to uint8. Range [0, 255]. Convert image to uint8 prior to saving to suppress this warning.\n",
            "/usr/local/lib/python3.7/dist-packages/ipykernel_launcher.py:50: UserWarning: pre/22828960_15_0_4.png is a low contrast image\n",
            "WARNING:imageio:Lossy conversion from int64 to uint8. Range [0, 255]. Convert image to uint8 prior to saving to suppress this warning.\n",
            "Valid Mode:  51% 417/810 [00:10<00:10, 36.78 uttr/s]/usr/local/lib/python3.7/dist-packages/ipykernel_launcher.py:50: UserWarning: pre/22678945_15_3_2.png is a low contrast image\n",
            "WARNING:imageio:Lossy conversion from int64 to uint8. Range [0, 255]. Convert image to uint8 prior to saving to suppress this warning.\n",
            "/usr/local/lib/python3.7/dist-packages/ipykernel_launcher.py:50: UserWarning: pre/24478855_15_1_4.png is a low contrast image\n",
            "WARNING:imageio:Lossy conversion from int64 to uint8. Range [0, 255]. Convert image to uint8 prior to saving to suppress this warning.\n",
            "/usr/local/lib/python3.7/dist-packages/ipykernel_launcher.py:50: UserWarning: pre/23728930_15_4_0.png is a low contrast image\n",
            "WARNING:imageio:Lossy conversion from int64 to uint8. Range [0, 255]. Convert image to uint8 prior to saving to suppress this warning.\n",
            "/usr/local/lib/python3.7/dist-packages/ipykernel_launcher.py:50: UserWarning: pre/22978975_15_1_1.png is a low contrast image\n",
            "WARNING:imageio:Lossy conversion from int64 to uint8. Range [0, 255]. Convert image to uint8 prior to saving to suppress this warning.\n",
            "Valid Mode:  52% 421/810 [00:10<00:10, 36.80 uttr/s]/usr/local/lib/python3.7/dist-packages/ipykernel_launcher.py:50: UserWarning: pre/23728990_15_2_1.png is a low contrast image\n",
            "WARNING:imageio:Lossy conversion from int64 to uint8. Range [0, 255]. Convert image to uint8 prior to saving to suppress this warning.\n",
            "/usr/local/lib/python3.7/dist-packages/ipykernel_launcher.py:50: UserWarning: pre/22828915_15_2_4.png is a low contrast image\n",
            "WARNING:imageio:Lossy conversion from int64 to uint8. Range [0, 255]. Convert image to uint8 prior to saving to suppress this warning.\n",
            "/usr/local/lib/python3.7/dist-packages/ipykernel_launcher.py:50: UserWarning: pre/23278960_15_1_1.png is a low contrast image\n",
            "WARNING:imageio:Lossy conversion from int64 to uint8. Range [0, 255]. Convert image to uint8 prior to saving to suppress this warning.\n",
            "/usr/local/lib/python3.7/dist-packages/ipykernel_launcher.py:50: UserWarning: pre/23429005_15_1_2.png is a low contrast image\n",
            "WARNING:imageio:Lossy conversion from int64 to uint8. Range [0, 255]. Convert image to uint8 prior to saving to suppress this warning.\n",
            "/usr/local/lib/python3.7/dist-packages/ipykernel_launcher.py:50: UserWarning: pre/23729095_15_4_0.png is a low contrast image\n",
            "WARNING:imageio:Lossy conversion from int64 to uint8. Range [0, 255]. Convert image to uint8 prior to saving to suppress this warning.\n",
            "Valid Mode:  53% 426/810 [00:10<00:10, 37.85 uttr/s]/usr/local/lib/python3.7/dist-packages/ipykernel_launcher.py:50: UserWarning: pre/23878990_15_0_2.png is a low contrast image\n",
            "WARNING:imageio:Lossy conversion from int64 to uint8. Range [0, 255]. Convert image to uint8 prior to saving to suppress this warning.\n",
            "/usr/local/lib/python3.7/dist-packages/ipykernel_launcher.py:50: UserWarning: pre/23728960_15_0_2.png is a low contrast image\n",
            "WARNING:imageio:Lossy conversion from int64 to uint8. Range [0, 255]. Convert image to uint8 prior to saving to suppress this warning.\n",
            "/usr/local/lib/python3.7/dist-packages/ipykernel_launcher.py:50: UserWarning: pre/22678975_15_3_3.png is a low contrast image\n",
            "/usr/local/lib/python3.7/dist-packages/ipykernel_launcher.py:50: UserWarning: pre/22679020_15_1_0.png is a low contrast image\n",
            "WARNING:imageio:Lossy conversion from int64 to uint8. Range [0, 255]. Convert image to uint8 prior to saving to suppress this warning.\n",
            "/usr/local/lib/python3.7/dist-packages/ipykernel_launcher.py:50: UserWarning: pre/23278945_15_1_1.png is a low contrast image\n",
            "WARNING:imageio:Lossy conversion from int64 to uint8. Range [0, 255]. Convert image to uint8 prior to saving to suppress this warning.\n",
            "Valid Mode:  53% 431/810 [00:10<00:09, 39.05 uttr/s]/usr/local/lib/python3.7/dist-packages/ipykernel_launcher.py:50: UserWarning: pre/22828975_15_4_0.png is a low contrast image\n",
            "WARNING:imageio:Lossy conversion from int64 to uint8. Range [0, 255]. Convert image to uint8 prior to saving to suppress this warning.\n",
            "/usr/local/lib/python3.7/dist-packages/ipykernel_launcher.py:50: UserWarning: pre/22978885_15_0_2.png is a low contrast image\n",
            "WARNING:imageio:Lossy conversion from int64 to uint8. Range [0, 255]. Convert image to uint8 prior to saving to suppress this warning.\n",
            "/usr/local/lib/python3.7/dist-packages/ipykernel_launcher.py:50: UserWarning: pre/23879050_15_3_1.png is a low contrast image\n",
            "WARNING:imageio:Lossy conversion from int64 to uint8. Range [0, 255]. Convert image to uint8 prior to saving to suppress this warning.\n",
            "/usr/local/lib/python3.7/dist-packages/ipykernel_launcher.py:50: UserWarning: pre/22829035_15_2_4.png is a low contrast image\n",
            "Valid Mode:  54% 435/810 [00:11<00:09, 38.20 uttr/s]/usr/local/lib/python3.7/dist-packages/ipykernel_launcher.py:50: UserWarning: pre/22978915_15_4_4.png is a low contrast image\n",
            "/usr/local/lib/python3.7/dist-packages/ipykernel_launcher.py:50: UserWarning: pre/23729065_15_1_4.png is a low contrast image\n",
            "WARNING:imageio:Lossy conversion from int64 to uint8. Range [0, 255]. Convert image to uint8 prior to saving to suppress this warning.\n",
            "/usr/local/lib/python3.7/dist-packages/ipykernel_launcher.py:50: UserWarning: pre/24328855_15_1_0.png is a low contrast image\n",
            "WARNING:imageio:Lossy conversion from int64 to uint8. Range [0, 255]. Convert image to uint8 prior to saving to suppress this warning.\n",
            "/usr/local/lib/python3.7/dist-packages/ipykernel_launcher.py:50: UserWarning: pre/23128990_15_1_3.png is a low contrast image\n",
            "WARNING:imageio:Lossy conversion from int64 to uint8. Range [0, 255]. Convert image to uint8 prior to saving to suppress this warning.\n",
            "Valid Mode:  54% 439/810 [00:11<00:09, 38.68 uttr/s]/usr/local/lib/python3.7/dist-packages/ipykernel_launcher.py:50: UserWarning: pre/24029065_15_1_0.png is a low contrast image\n",
            "WARNING:imageio:Lossy conversion from int64 to uint8. Range [0, 255]. Convert image to uint8 prior to saving to suppress this warning.\n",
            "/usr/local/lib/python3.7/dist-packages/ipykernel_launcher.py:50: UserWarning: pre/22978930_15_3_0.png is a low contrast image\n",
            "WARNING:imageio:Lossy conversion from int64 to uint8. Range [0, 255]. Convert image to uint8 prior to saving to suppress this warning.\n",
            "/usr/local/lib/python3.7/dist-packages/ipykernel_launcher.py:50: UserWarning: pre/24029065_15_2_1.png is a low contrast image\n",
            "WARNING:imageio:Lossy conversion from int64 to uint8. Range [0, 255]. Convert image to uint8 prior to saving to suppress this warning.\n",
            "/usr/local/lib/python3.7/dist-packages/ipykernel_launcher.py:50: UserWarning: pre/24328840_15_1_3.png is a low contrast image\n",
            "WARNING:imageio:Lossy conversion from int64 to uint8. Range [0, 255]. Convert image to uint8 prior to saving to suppress this warning.\n",
            "Valid Mode:  55% 443/810 [00:11<00:09, 37.20 uttr/s]/usr/local/lib/python3.7/dist-packages/ipykernel_launcher.py:50: UserWarning: pre/23128900_15_2_0.png is a low contrast image\n",
            "WARNING:imageio:Lossy conversion from int64 to uint8. Range [0, 255]. Convert image to uint8 prior to saving to suppress this warning.\n",
            "/usr/local/lib/python3.7/dist-packages/ipykernel_launcher.py:50: UserWarning: pre/23429125_15_3_2.png is a low contrast image\n",
            "/usr/local/lib/python3.7/dist-packages/ipykernel_launcher.py:50: UserWarning: pre/23728975_15_4_4.png is a low contrast image\n",
            "/usr/local/lib/python3.7/dist-packages/ipykernel_launcher.py:50: UserWarning: pre/23729020_15_2_2.png is a low contrast image\n",
            "WARNING:imageio:Lossy conversion from int64 to uint8. Range [0, 255]. Convert image to uint8 prior to saving to suppress this warning.\n",
            "/usr/local/lib/python3.7/dist-packages/ipykernel_launcher.py:50: UserWarning: pre/24179050_15_4_3.png is a low contrast image\n",
            "/usr/local/lib/python3.7/dist-packages/ipykernel_launcher.py:50: UserWarning: pre/23428945_15_0_0.png is a low contrast image\n",
            "WARNING:imageio:Lossy conversion from int64 to uint8. Range [0, 255]. Convert image to uint8 prior to saving to suppress this warning.\n",
            "Valid Mode:  55% 449/810 [00:11<00:08, 41.88 uttr/s]/usr/local/lib/python3.7/dist-packages/ipykernel_launcher.py:50: UserWarning: pre/23729005_15_3_2.png is a low contrast image\n",
            "WARNING:imageio:Lossy conversion from int64 to uint8. Range [0, 255]. Convert image to uint8 prior to saving to suppress this warning.\n",
            "/usr/local/lib/python3.7/dist-packages/ipykernel_launcher.py:50: UserWarning: pre/23878975_15_1_4.png is a low contrast image\n",
            "WARNING:imageio:Lossy conversion from int64 to uint8. Range [0, 255]. Convert image to uint8 prior to saving to suppress this warning.\n",
            "/usr/local/lib/python3.7/dist-packages/ipykernel_launcher.py:50: UserWarning: pre/23879035_15_3_1.png is a low contrast image\n",
            "WARNING:imageio:Lossy conversion from int64 to uint8. Range [0, 255]. Convert image to uint8 prior to saving to suppress this warning.\n",
            "/usr/local/lib/python3.7/dist-packages/ipykernel_launcher.py:50: UserWarning: pre/23279140_15_4_3.png is a low contrast image\n",
            "WARNING:imageio:Lossy conversion from int64 to uint8. Range [0, 255]. Convert image to uint8 prior to saving to suppress this warning.\n",
            "/usr/local/lib/python3.7/dist-packages/ipykernel_launcher.py:50: UserWarning: pre/24029035_15_1_1.png is a low contrast image\n",
            "WARNING:imageio:Lossy conversion from int64 to uint8. Range [0, 255]. Convert image to uint8 prior to saving to suppress this warning.\n",
            "Valid Mode:  56% 454/810 [00:11<00:08, 39.82 uttr/s]/usr/local/lib/python3.7/dist-packages/ipykernel_launcher.py:50: UserWarning: pre/23128975_15_3_4.png is a low contrast image\n",
            "WARNING:imageio:Lossy conversion from int64 to uint8. Range [0, 255]. Convert image to uint8 prior to saving to suppress this warning.\n",
            "/usr/local/lib/python3.7/dist-packages/ipykernel_launcher.py:50: UserWarning: pre/24179035_15_4_4.png is a low contrast image\n",
            "WARNING:imageio:Lossy conversion from int64 to uint8. Range [0, 255]. Convert image to uint8 prior to saving to suppress this warning.\n",
            "/usr/local/lib/python3.7/dist-packages/ipykernel_launcher.py:50: UserWarning: pre/22978885_15_4_1.png is a low contrast image\n",
            "WARNING:imageio:Lossy conversion from int64 to uint8. Range [0, 255]. Convert image to uint8 prior to saving to suppress this warning.\n",
            "/usr/local/lib/python3.7/dist-packages/ipykernel_launcher.py:50: UserWarning: pre/22978900_15_3_4.png is a low contrast image\n",
            "WARNING:imageio:Lossy conversion from int64 to uint8. Range [0, 255]. Convert image to uint8 prior to saving to suppress this warning.\n",
            "/usr/local/lib/python3.7/dist-packages/ipykernel_launcher.py:50: UserWarning: pre/23429125_15_4_4.png is a low contrast image\n",
            "WARNING:imageio:Lossy conversion from int64 to uint8. Range [0, 255]. Convert image to uint8 prior to saving to suppress this warning.\n",
            "Valid Mode:  57% 459/810 [00:11<00:08, 40.62 uttr/s]/usr/local/lib/python3.7/dist-packages/ipykernel_launcher.py:50: UserWarning: pre/23128960_15_0_3.png is a low contrast image\n",
            "/usr/local/lib/python3.7/dist-packages/ipykernel_launcher.py:50: UserWarning: pre/23578945_15_0_0.png is a low contrast image\n",
            "WARNING:imageio:Lossy conversion from int64 to uint8. Range [0, 255]. Convert image to uint8 prior to saving to suppress this warning.\n",
            "/usr/local/lib/python3.7/dist-packages/ipykernel_launcher.py:50: UserWarning: pre/23729050_15_3_2.png is a low contrast image\n",
            "WARNING:imageio:Lossy conversion from int64 to uint8. Range [0, 255]. Convert image to uint8 prior to saving to suppress this warning.\n",
            "/usr/local/lib/python3.7/dist-packages/ipykernel_launcher.py:50: UserWarning: pre/23428930_15_3_4.png is a low contrast image\n",
            "WARNING:imageio:Lossy conversion from int64 to uint8. Range [0, 255]. Convert image to uint8 prior to saving to suppress this warning.\n",
            "/usr/local/lib/python3.7/dist-packages/ipykernel_launcher.py:50: UserWarning: pre/24179080_15_0_4.png is a low contrast image\n",
            "WARNING:imageio:Lossy conversion from int64 to uint8. Range [0, 255]. Convert image to uint8 prior to saving to suppress this warning.\n",
            "Valid Mode:  57% 464/810 [00:11<00:08, 41.25 uttr/s]/usr/local/lib/python3.7/dist-packages/ipykernel_launcher.py:50: UserWarning: pre/23728990_15_0_0.png is a low contrast image\n",
            "WARNING:imageio:Lossy conversion from int64 to uint8. Range [0, 255]. Convert image to uint8 prior to saving to suppress this warning.\n",
            "/usr/local/lib/python3.7/dist-packages/ipykernel_launcher.py:50: UserWarning: pre/23579020_15_2_0.png is a low contrast image\n",
            "WARNING:imageio:Lossy conversion from int64 to uint8. Range [0, 255]. Convert image to uint8 prior to saving to suppress this warning.\n",
            "/usr/local/lib/python3.7/dist-packages/ipykernel_launcher.py:50: UserWarning: pre/23728930_15_1_2.png is a low contrast image\n",
            "WARNING:imageio:Lossy conversion from int64 to uint8. Range [0, 255]. Convert image to uint8 prior to saving to suppress this warning.\n",
            "/usr/local/lib/python3.7/dist-packages/ipykernel_launcher.py:50: UserWarning: pre/24328855_15_3_0.png is a low contrast image\n",
            "WARNING:imageio:Lossy conversion from int64 to uint8. Range [0, 255]. Convert image to uint8 prior to saving to suppress this warning.\n",
            "/usr/local/lib/python3.7/dist-packages/ipykernel_launcher.py:50: UserWarning: pre/23579050_15_4_2.png is a low contrast image\n",
            "WARNING:imageio:Lossy conversion from int64 to uint8. Range [0, 255]. Convert image to uint8 prior to saving to suppress this warning.\n",
            "Valid Mode:  58% 469/810 [00:11<00:08, 40.33 uttr/s]/usr/local/lib/python3.7/dist-packages/ipykernel_launcher.py:50: UserWarning: pre/23278990_15_1_2.png is a low contrast image\n",
            "WARNING:imageio:Lossy conversion from int64 to uint8. Range [0, 255]. Convert image to uint8 prior to saving to suppress this warning.\n",
            "/usr/local/lib/python3.7/dist-packages/ipykernel_launcher.py:50: UserWarning: pre/23879110_15_1_4.png is a low contrast image\n",
            "WARNING:imageio:Lossy conversion from int64 to uint8. Range [0, 255]. Convert image to uint8 prior to saving to suppress this warning.\n",
            "/usr/local/lib/python3.7/dist-packages/ipykernel_launcher.py:50: UserWarning: pre/23878975_15_1_1.png is a low contrast image\n",
            "WARNING:imageio:Lossy conversion from int64 to uint8. Range [0, 255]. Convert image to uint8 prior to saving to suppress this warning.\n",
            "/usr/local/lib/python3.7/dist-packages/ipykernel_launcher.py:50: UserWarning: pre/23579080_15_3_2.png is a low contrast image\n",
            "WARNING:imageio:Lossy conversion from int64 to uint8. Range [0, 255]. Convert image to uint8 prior to saving to suppress this warning.\n",
            "/usr/local/lib/python3.7/dist-packages/ipykernel_launcher.py:50: UserWarning: pre/23728960_15_1_0.png is a low contrast image\n",
            "WARNING:imageio:Lossy conversion from int64 to uint8. Range [0, 255]. Convert image to uint8 prior to saving to suppress this warning.\n",
            "Valid Mode:  59% 474/810 [00:12<00:08, 37.70 uttr/s]/usr/local/lib/python3.7/dist-packages/ipykernel_launcher.py:50: UserWarning: pre/23579065_15_4_4.png is a low contrast image\n",
            "WARNING:imageio:Lossy conversion from int64 to uint8. Range [0, 255]. Convert image to uint8 prior to saving to suppress this warning.\n",
            "/usr/local/lib/python3.7/dist-packages/ipykernel_launcher.py:50: UserWarning: pre/23578975_15_2_0.png is a low contrast image\n",
            "WARNING:imageio:Lossy conversion from int64 to uint8. Range [0, 255]. Convert image to uint8 prior to saving to suppress this warning.\n",
            "/usr/local/lib/python3.7/dist-packages/ipykernel_launcher.py:50: UserWarning: pre/23279140_15_0_0.png is a low contrast image\n",
            "WARNING:imageio:Lossy conversion from int64 to uint8. Range [0, 255]. Convert image to uint8 prior to saving to suppress this warning.\n",
            "/usr/local/lib/python3.7/dist-packages/ipykernel_launcher.py:50: UserWarning: pre/23729020_15_4_0.png is a low contrast image\n",
            "WARNING:imageio:Lossy conversion from int64 to uint8. Range [0, 255]. Convert image to uint8 prior to saving to suppress this warning.\n",
            "Valid Mode:  59% 478/810 [00:12<00:09, 36.08 uttr/s]/usr/local/lib/python3.7/dist-packages/ipykernel_launcher.py:50: UserWarning: pre/23128975_15_2_2.png is a low contrast image\n",
            "WARNING:imageio:Lossy conversion from int64 to uint8. Range [0, 255]. Convert image to uint8 prior to saving to suppress this warning.\n",
            "/usr/local/lib/python3.7/dist-packages/ipykernel_launcher.py:50: UserWarning: pre/24329035_15_2_4.png is a low contrast image\n",
            "WARNING:imageio:Lossy conversion from int64 to uint8. Range [0, 255]. Convert image to uint8 prior to saving to suppress this warning.\n",
            "/usr/local/lib/python3.7/dist-packages/ipykernel_launcher.py:50: UserWarning: pre/23579095_15_3_3.png is a low contrast image\n",
            "WARNING:imageio:Lossy conversion from int64 to uint8. Range [0, 255]. Convert image to uint8 prior to saving to suppress this warning.\n",
            "/usr/local/lib/python3.7/dist-packages/ipykernel_launcher.py:50: UserWarning: pre/23429125_15_4_1.png is a low contrast image\n",
            "WARNING:imageio:Lossy conversion from int64 to uint8. Range [0, 255]. Convert image to uint8 prior to saving to suppress this warning.\n",
            "/usr/local/lib/python3.7/dist-packages/ipykernel_launcher.py:50: UserWarning: pre/23429125_15_0_4.png is a low contrast image\n",
            "WARNING:imageio:Lossy conversion from int64 to uint8. Range [0, 255]. Convert image to uint8 prior to saving to suppress this warning.\n",
            "Valid Mode:  60% 483/810 [00:12<00:08, 36.94 uttr/s]/usr/local/lib/python3.7/dist-packages/ipykernel_launcher.py:50: UserWarning: pre/22978945_15_4_1.png is a low contrast image\n",
            "WARNING:imageio:Lossy conversion from int64 to uint8. Range [0, 255]. Convert image to uint8 prior to saving to suppress this warning.\n",
            "/usr/local/lib/python3.7/dist-packages/ipykernel_launcher.py:50: UserWarning: pre/23278915_15_1_3.png is a low contrast image\n",
            "WARNING:imageio:Lossy conversion from int64 to uint8. Range [0, 255]. Convert image to uint8 prior to saving to suppress this warning.\n",
            "/usr/local/lib/python3.7/dist-packages/ipykernel_launcher.py:50: UserWarning: pre/22978960_15_4_0.png is a low contrast image\n",
            "/usr/local/lib/python3.7/dist-packages/ipykernel_launcher.py:50: UserWarning: pre/24478870_15_1_4.png is a low contrast image\n",
            "WARNING:imageio:Lossy conversion from int64 to uint8. Range [0, 255]. Convert image to uint8 prior to saving to suppress this warning.\n",
            "/usr/local/lib/python3.7/dist-packages/ipykernel_launcher.py:50: UserWarning: pre/24478885_15_0_4.png is a low contrast image\n",
            "Valid Mode:  60% 488/810 [00:12<00:08, 40.20 uttr/s]/usr/local/lib/python3.7/dist-packages/ipykernel_launcher.py:50: UserWarning: pre/22829020_15_4_0.png is a low contrast image\n",
            "WARNING:imageio:Lossy conversion from int64 to uint8. Range [0, 255]. Convert image to uint8 prior to saving to suppress this warning.\n",
            "/usr/local/lib/python3.7/dist-packages/ipykernel_launcher.py:50: UserWarning: pre/23578930_15_3_3.png is a low contrast image\n",
            "WARNING:imageio:Lossy conversion from int64 to uint8. Range [0, 255]. Convert image to uint8 prior to saving to suppress this warning.\n",
            "/usr/local/lib/python3.7/dist-packages/ipykernel_launcher.py:50: UserWarning: pre/24328855_15_1_3.png is a low contrast image\n",
            "WARNING:imageio:Lossy conversion from int64 to uint8. Range [0, 255]. Convert image to uint8 prior to saving to suppress this warning.\n",
            "/usr/local/lib/python3.7/dist-packages/ipykernel_launcher.py:50: UserWarning: pre/22978885_15_2_3.png is a low contrast image\n",
            "WARNING:imageio:Lossy conversion from int64 to uint8. Range [0, 255]. Convert image to uint8 prior to saving to suppress this warning.\n",
            "/usr/local/lib/python3.7/dist-packages/ipykernel_launcher.py:50: UserWarning: pre/23578990_15_4_4.png is a low contrast image\n",
            "WARNING:imageio:Lossy conversion from int64 to uint8. Range [0, 255]. Convert image to uint8 prior to saving to suppress this warning.\n",
            "Valid Mode:  61% 493/810 [00:12<00:07, 40.16 uttr/s]/usr/local/lib/python3.7/dist-packages/ipykernel_launcher.py:50: UserWarning: pre/23578975_15_2_2.png is a low contrast image\n",
            "WARNING:imageio:Lossy conversion from int64 to uint8. Range [0, 255]. Convert image to uint8 prior to saving to suppress this warning.\n",
            "/usr/local/lib/python3.7/dist-packages/ipykernel_launcher.py:50: UserWarning: pre/23128930_15_2_1.png is a low contrast image\n",
            "WARNING:imageio:Lossy conversion from int64 to uint8. Range [0, 255]. Convert image to uint8 prior to saving to suppress this warning.\n",
            "/usr/local/lib/python3.7/dist-packages/ipykernel_launcher.py:50: UserWarning: pre/23278900_15_4_0.png is a low contrast image\n",
            "WARNING:imageio:Lossy conversion from int64 to uint8. Range [0, 255]. Convert image to uint8 prior to saving to suppress this warning.\n",
            "/usr/local/lib/python3.7/dist-packages/ipykernel_launcher.py:50: UserWarning: pre/24478885_15_3_2.png is a low contrast image\n",
            "WARNING:imageio:Lossy conversion from int64 to uint8. Range [0, 255]. Convert image to uint8 prior to saving to suppress this warning.\n",
            "/usr/local/lib/python3.7/dist-packages/ipykernel_launcher.py:50: UserWarning: pre/23728930_15_0_3.png is a low contrast image\n",
            "WARNING:imageio:Lossy conversion from int64 to uint8. Range [0, 255]. Convert image to uint8 prior to saving to suppress this warning.\n",
            "Valid Mode:  61% 498/810 [00:12<00:07, 40.26 uttr/s]/usr/local/lib/python3.7/dist-packages/ipykernel_launcher.py:50: UserWarning: pre/23128915_15_4_3.png is a low contrast image\n",
            "WARNING:imageio:Lossy conversion from int64 to uint8. Range [0, 255]. Convert image to uint8 prior to saving to suppress this warning.\n",
            "/usr/local/lib/python3.7/dist-packages/ipykernel_launcher.py:50: UserWarning: pre/23578930_15_4_3.png is a low contrast image\n",
            "WARNING:imageio:Lossy conversion from int64 to uint8. Range [0, 255]. Convert image to uint8 prior to saving to suppress this warning.\n",
            "/usr/local/lib/python3.7/dist-packages/ipykernel_launcher.py:50: UserWarning: pre/22678915_15_2_3.png is a low contrast image\n",
            "WARNING:imageio:Lossy conversion from int64 to uint8. Range [0, 255]. Convert image to uint8 prior to saving to suppress this warning.\n",
            "/usr/local/lib/python3.7/dist-packages/ipykernel_launcher.py:50: UserWarning: pre/23578945_15_2_3.png is a low contrast image\n",
            "WARNING:imageio:Lossy conversion from int64 to uint8. Range [0, 255]. Convert image to uint8 prior to saving to suppress this warning.\n",
            "/usr/local/lib/python3.7/dist-packages/ipykernel_launcher.py:50: UserWarning: pre/23128945_15_4_1.png is a low contrast image\n",
            "Valid Mode:  62% 503/810 [00:12<00:07, 40.29 uttr/s]/usr/local/lib/python3.7/dist-packages/ipykernel_launcher.py:50: UserWarning: pre/23128990_15_2_4.png is a low contrast image\n",
            "WARNING:imageio:Lossy conversion from int64 to uint8. Range [0, 255]. Convert image to uint8 prior to saving to suppress this warning.\n",
            "/usr/local/lib/python3.7/dist-packages/ipykernel_launcher.py:50: UserWarning: pre/23879110_15_4_2.png is a low contrast image\n",
            "WARNING:imageio:Lossy conversion from int64 to uint8. Range [0, 255]. Convert image to uint8 prior to saving to suppress this warning.\n",
            "/usr/local/lib/python3.7/dist-packages/ipykernel_launcher.py:50: UserWarning: pre/23729020_15_0_0.png is a low contrast image\n",
            "WARNING:imageio:Lossy conversion from int64 to uint8. Range [0, 255]. Convert image to uint8 prior to saving to suppress this warning.\n",
            "/usr/local/lib/python3.7/dist-packages/ipykernel_launcher.py:50: UserWarning: pre/23729020_15_1_1.png is a low contrast image\n",
            "WARNING:imageio:Lossy conversion from int64 to uint8. Range [0, 255]. Convert image to uint8 prior to saving to suppress this warning.\n",
            "/usr/local/lib/python3.7/dist-packages/ipykernel_launcher.py:50: UserWarning: pre/24478885_15_1_4.png is a low contrast image\n",
            "WARNING:imageio:Lossy conversion from int64 to uint8. Range [0, 255]. Convert image to uint8 prior to saving to suppress this warning.\n",
            "Valid Mode:  63% 508/810 [00:12<00:07, 41.12 uttr/s]/usr/local/lib/python3.7/dist-packages/ipykernel_launcher.py:50: UserWarning: pre/23129020_15_0_2.png is a low contrast image\n",
            "WARNING:imageio:Lossy conversion from int64 to uint8. Range [0, 255]. Convert image to uint8 prior to saving to suppress this warning.\n",
            "/usr/local/lib/python3.7/dist-packages/ipykernel_launcher.py:50: UserWarning: pre/22679035_15_0_2.png is a low contrast image\n",
            "WARNING:imageio:Lossy conversion from int64 to uint8. Range [0, 255]. Convert image to uint8 prior to saving to suppress this warning.\n",
            "/usr/local/lib/python3.7/dist-packages/ipykernel_launcher.py:50: UserWarning: pre/24328840_15_0_3.png is a low contrast image\n",
            "WARNING:imageio:Lossy conversion from int64 to uint8. Range [0, 255]. Convert image to uint8 prior to saving to suppress this warning.\n",
            "/usr/local/lib/python3.7/dist-packages/ipykernel_launcher.py:50: UserWarning: pre/23729065_15_4_1.png is a low contrast image\n",
            "WARNING:imageio:Lossy conversion from int64 to uint8. Range [0, 255]. Convert image to uint8 prior to saving to suppress this warning.\n",
            "/usr/local/lib/python3.7/dist-packages/ipykernel_launcher.py:50: UserWarning: pre/23579095_15_0_2.png is a low contrast image\n",
            "WARNING:imageio:Lossy conversion from int64 to uint8. Range [0, 255]. Convert image to uint8 prior to saving to suppress this warning.\n",
            "Valid Mode:  63% 513/810 [00:13<00:07, 39.00 uttr/s]/usr/local/lib/python3.7/dist-packages/ipykernel_launcher.py:50: UserWarning: pre/23579020_15_0_0.png is a low contrast image\n",
            "WARNING:imageio:Lossy conversion from int64 to uint8. Range [0, 255]. Convert image to uint8 prior to saving to suppress this warning.\n",
            "/usr/local/lib/python3.7/dist-packages/ipykernel_launcher.py:50: UserWarning: pre/23278945_15_4_3.png is a low contrast image\n",
            "/usr/local/lib/python3.7/dist-packages/ipykernel_launcher.py:50: UserWarning: pre/23128885_15_3_0.png is a low contrast image\n",
            "WARNING:imageio:Lossy conversion from int64 to uint8. Range [0, 255]. Convert image to uint8 prior to saving to suppress this warning.\n",
            "/usr/local/lib/python3.7/dist-packages/ipykernel_launcher.py:50: UserWarning: pre/22979035_15_1_2.png is a low contrast image\n",
            "WARNING:imageio:Lossy conversion from int64 to uint8. Range [0, 255]. Convert image to uint8 prior to saving to suppress this warning.\n",
            "/usr/local/lib/python3.7/dist-packages/ipykernel_launcher.py:50: UserWarning: pre/22829020_15_3_1.png is a low contrast image\n",
            "WARNING:imageio:Lossy conversion from int64 to uint8. Range [0, 255]. Convert image to uint8 prior to saving to suppress this warning.\n",
            "Valid Mode:  64% 518/810 [00:13<00:07, 40.03 uttr/s]/usr/local/lib/python3.7/dist-packages/ipykernel_launcher.py:50: UserWarning: pre/23579050_15_0_1.png is a low contrast image\n",
            "WARNING:imageio:Lossy conversion from int64 to uint8. Range [0, 255]. Convert image to uint8 prior to saving to suppress this warning.\n",
            "/usr/local/lib/python3.7/dist-packages/ipykernel_launcher.py:50: UserWarning: pre/23128945_15_4_3.png is a low contrast image\n",
            "WARNING:imageio:Lossy conversion from int64 to uint8. Range [0, 255]. Convert image to uint8 prior to saving to suppress this warning.\n",
            "/usr/local/lib/python3.7/dist-packages/ipykernel_launcher.py:50: UserWarning: pre/23429095_15_1_4.png is a low contrast image\n",
            "WARNING:imageio:Lossy conversion from int64 to uint8. Range [0, 255]. Convert image to uint8 prior to saving to suppress this warning.\n",
            "/usr/local/lib/python3.7/dist-packages/ipykernel_launcher.py:50: UserWarning: pre/23578975_15_2_4.png is a low contrast image\n",
            "WARNING:imageio:Lossy conversion from int64 to uint8. Range [0, 255]. Convert image to uint8 prior to saving to suppress this warning.\n",
            "/usr/local/lib/python3.7/dist-packages/ipykernel_launcher.py:50: UserWarning: pre/22828915_15_3_1.png is a low contrast image\n",
            "WARNING:imageio:Lossy conversion from int64 to uint8. Range [0, 255]. Convert image to uint8 prior to saving to suppress this warning.\n",
            "Valid Mode:  65% 523/810 [00:13<00:07, 40.16 uttr/s]/usr/local/lib/python3.7/dist-packages/ipykernel_launcher.py:50: UserWarning: pre/24329020_15_1_0.png is a low contrast image\n",
            "WARNING:imageio:Lossy conversion from int64 to uint8. Range [0, 255]. Convert image to uint8 prior to saving to suppress this warning.\n",
            "/usr/local/lib/python3.7/dist-packages/ipykernel_launcher.py:50: UserWarning: pre/24479005_15_1_4.png is a low contrast image\n",
            "/usr/local/lib/python3.7/dist-packages/ipykernel_launcher.py:50: UserWarning: pre/22978915_15_4_0.png is a low contrast image\n",
            "WARNING:imageio:Lossy conversion from int64 to uint8. Range [0, 255]. Convert image to uint8 prior to saving to suppress this warning.\n",
            "/usr/local/lib/python3.7/dist-packages/ipykernel_launcher.py:50: UserWarning: pre/24029035_15_4_4.png is a low contrast image\n",
            "WARNING:imageio:Lossy conversion from int64 to uint8. Range [0, 255]. Convert image to uint8 prior to saving to suppress this warning.\n",
            "/usr/local/lib/python3.7/dist-packages/ipykernel_launcher.py:50: UserWarning: pre/24029080_15_2_2.png is a low contrast image\n",
            "WARNING:imageio:Lossy conversion from int64 to uint8. Range [0, 255]. Convert image to uint8 prior to saving to suppress this warning.\n",
            "Valid Mode:  65% 528/810 [00:13<00:07, 40.05 uttr/s]/usr/local/lib/python3.7/dist-packages/ipykernel_launcher.py:50: UserWarning: pre/23578930_15_3_1.png is a low contrast image\n",
            "WARNING:imageio:Lossy conversion from int64 to uint8. Range [0, 255]. Convert image to uint8 prior to saving to suppress this warning.\n",
            "/usr/local/lib/python3.7/dist-packages/ipykernel_launcher.py:50: UserWarning: pre/23728990_15_0_1.png is a low contrast image\n",
            "WARNING:imageio:Lossy conversion from int64 to uint8. Range [0, 255]. Convert image to uint8 prior to saving to suppress this warning.\n",
            "/usr/local/lib/python3.7/dist-packages/ipykernel_launcher.py:50: UserWarning: pre/24179050_15_4_2.png is a low contrast image\n",
            "/usr/local/lib/python3.7/dist-packages/ipykernel_launcher.py:50: UserWarning: pre/23128930_15_1_1.png is a low contrast image\n",
            "WARNING:imageio:Lossy conversion from int64 to uint8. Range [0, 255]. Convert image to uint8 prior to saving to suppress this warning.\n",
            "/usr/local/lib/python3.7/dist-packages/ipykernel_launcher.py:50: UserWarning: pre/23729095_15_1_4.png is a low contrast image\n",
            "WARNING:imageio:Lossy conversion from int64 to uint8. Range [0, 255]. Convert image to uint8 prior to saving to suppress this warning.\n",
            "Valid Mode:  66% 533/810 [00:13<00:06, 39.63 uttr/s]/usr/local/lib/python3.7/dist-packages/ipykernel_launcher.py:50: UserWarning: pre/23278990_15_0_3.png is a low contrast image\n",
            "WARNING:imageio:Lossy conversion from int64 to uint8. Range [0, 255]. Convert image to uint8 prior to saving to suppress this warning.\n",
            "/usr/local/lib/python3.7/dist-packages/ipykernel_launcher.py:50: UserWarning: pre/23728990_15_1_1.png is a low contrast image\n",
            "WARNING:imageio:Lossy conversion from int64 to uint8. Range [0, 255]. Convert image to uint8 prior to saving to suppress this warning.\n",
            "/usr/local/lib/python3.7/dist-packages/ipykernel_launcher.py:50: UserWarning: pre/22679005_15_2_1.png is a low contrast image\n",
            "WARNING:imageio:Lossy conversion from int64 to uint8. Range [0, 255]. Convert image to uint8 prior to saving to suppress this warning.\n",
            "/usr/local/lib/python3.7/dist-packages/ipykernel_launcher.py:50: UserWarning: pre/22828945_15_0_4.png is a low contrast image\n",
            "WARNING:imageio:Lossy conversion from int64 to uint8. Range [0, 255]. Convert image to uint8 prior to saving to suppress this warning.\n",
            "Valid Mode:  66% 537/810 [00:13<00:07, 38.01 uttr/s]/usr/local/lib/python3.7/dist-packages/ipykernel_launcher.py:50: UserWarning: pre/23429140_15_0_0.png is a low contrast image\n",
            "WARNING:imageio:Lossy conversion from int64 to uint8. Range [0, 255]. Convert image to uint8 prior to saving to suppress this warning.\n",
            "/usr/local/lib/python3.7/dist-packages/ipykernel_launcher.py:50: UserWarning: pre/22678930_15_0_4.png is a low contrast image\n",
            "WARNING:imageio:Lossy conversion from int64 to uint8. Range [0, 255]. Convert image to uint8 prior to saving to suppress this warning.\n",
            "/usr/local/lib/python3.7/dist-packages/ipykernel_launcher.py:50: UserWarning: pre/23429155_15_0_4.png is a low contrast image\n",
            "WARNING:imageio:Lossy conversion from int64 to uint8. Range [0, 255]. Convert image to uint8 prior to saving to suppress this warning.\n",
            "/usr/local/lib/python3.7/dist-packages/ipykernel_launcher.py:50: UserWarning: pre/22828960_15_1_4.png is a low contrast image\n",
            "WARNING:imageio:Lossy conversion from int64 to uint8. Range [0, 255]. Convert image to uint8 prior to saving to suppress this warning.\n",
            "Valid Mode:  67% 541/810 [00:13<00:06, 38.50 uttr/s]/usr/local/lib/python3.7/dist-packages/ipykernel_launcher.py:50: UserWarning: pre/23578930_15_3_0.png is a low contrast image\n",
            "WARNING:imageio:Lossy conversion from int64 to uint8. Range [0, 255]. Convert image to uint8 prior to saving to suppress this warning.\n",
            "/usr/local/lib/python3.7/dist-packages/ipykernel_launcher.py:50: UserWarning: pre/23879020_15_4_2.png is a low contrast image\n",
            "WARNING:imageio:Lossy conversion from int64 to uint8. Range [0, 255]. Convert image to uint8 prior to saving to suppress this warning.\n",
            "/usr/local/lib/python3.7/dist-packages/ipykernel_launcher.py:50: UserWarning: pre/23729005_15_4_1.png is a low contrast image\n",
            "WARNING:imageio:Lossy conversion from int64 to uint8. Range [0, 255]. Convert image to uint8 prior to saving to suppress this warning.\n",
            "/usr/local/lib/python3.7/dist-packages/ipykernel_launcher.py:50: UserWarning: pre/23578945_15_2_4.png is a low contrast image\n",
            "WARNING:imageio:Lossy conversion from int64 to uint8. Range [0, 255]. Convert image to uint8 prior to saving to suppress this warning.\n",
            "Valid Mode:  67% 545/810 [00:13<00:06, 38.34 uttr/s]/usr/local/lib/python3.7/dist-packages/ipykernel_launcher.py:50: UserWarning: pre/22978900_15_0_2.png is a low contrast image\n",
            "WARNING:imageio:Lossy conversion from int64 to uint8. Range [0, 255]. Convert image to uint8 prior to saving to suppress this warning.\n",
            "/usr/local/lib/python3.7/dist-packages/ipykernel_launcher.py:50: UserWarning: pre/22979035_15_1_0.png is a low contrast image\n",
            "/usr/local/lib/python3.7/dist-packages/ipykernel_launcher.py:50: UserWarning: pre/23278915_15_3_4.png is a low contrast image\n",
            "WARNING:imageio:Lossy conversion from int64 to uint8. Range [0, 255]. Convert image to uint8 prior to saving to suppress this warning.\n",
            "/usr/local/lib/python3.7/dist-packages/ipykernel_launcher.py:50: UserWarning: pre/23278915_15_4_2.png is a low contrast image\n",
            "WARNING:imageio:Lossy conversion from int64 to uint8. Range [0, 255]. Convert image to uint8 prior to saving to suppress this warning.\n",
            "Valid Mode:  68% 549/810 [00:13<00:07, 37.20 uttr/s]/usr/local/lib/python3.7/dist-packages/ipykernel_launcher.py:50: UserWarning: pre/23278930_15_2_0.png is a low contrast image\n",
            "WARNING:imageio:Lossy conversion from int64 to uint8. Range [0, 255]. Convert image to uint8 prior to saving to suppress this warning.\n",
            "/usr/local/lib/python3.7/dist-packages/ipykernel_launcher.py:50: UserWarning: pre/23429005_15_1_1.png is a low contrast image\n",
            "WARNING:imageio:Lossy conversion from int64 to uint8. Range [0, 255]. Convert image to uint8 prior to saving to suppress this warning.\n",
            "/usr/local/lib/python3.7/dist-packages/ipykernel_launcher.py:50: UserWarning: pre/23578930_15_1_1.png is a low contrast image\n",
            "WARNING:imageio:Lossy conversion from int64 to uint8. Range [0, 255]. Convert image to uint8 prior to saving to suppress this warning.\n",
            "/usr/local/lib/python3.7/dist-packages/ipykernel_launcher.py:50: UserWarning: pre/22979005_15_3_3.png is a low contrast image\n",
            "WARNING:imageio:Lossy conversion from int64 to uint8. Range [0, 255]. Convert image to uint8 prior to saving to suppress this warning.\n",
            "Valid Mode:  68% 553/810 [00:14<00:07, 36.44 uttr/s]/usr/local/lib/python3.7/dist-packages/ipykernel_launcher.py:50: UserWarning: pre/24029050_15_1_2.png is a low contrast image\n",
            "WARNING:imageio:Lossy conversion from int64 to uint8. Range [0, 255]. Convert image to uint8 prior to saving to suppress this warning.\n",
            "/usr/local/lib/python3.7/dist-packages/ipykernel_launcher.py:50: UserWarning: pre/22678930_15_0_0.png is a low contrast image\n",
            "WARNING:imageio:Lossy conversion from int64 to uint8. Range [0, 255]. Convert image to uint8 prior to saving to suppress this warning.\n",
            "/usr/local/lib/python3.7/dist-packages/ipykernel_launcher.py:50: UserWarning: pre/24478885_15_3_1.png is a low contrast image\n",
            "/usr/local/lib/python3.7/dist-packages/ipykernel_launcher.py:50: UserWarning: pre/23429125_15_1_1.png is a low contrast image\n",
            "WARNING:imageio:Lossy conversion from int64 to uint8. Range [0, 255]. Convert image to uint8 prior to saving to suppress this warning.\n",
            "/usr/local/lib/python3.7/dist-packages/ipykernel_launcher.py:50: UserWarning: pre/23128945_15_3_1.png is a low contrast image\n",
            "Valid Mode:  69% 558/810 [00:14<00:06, 39.63 uttr/s]/usr/local/lib/python3.7/dist-packages/ipykernel_launcher.py:50: UserWarning: pre/23278975_15_2_0.png is a low contrast image\n",
            "WARNING:imageio:Lossy conversion from int64 to uint8. Range [0, 255]. Convert image to uint8 prior to saving to suppress this warning.\n",
            "/usr/local/lib/python3.7/dist-packages/ipykernel_launcher.py:50: UserWarning: pre/23428930_15_4_0.png is a low contrast image\n",
            "WARNING:imageio:Lossy conversion from int64 to uint8. Range [0, 255]. Convert image to uint8 prior to saving to suppress this warning.\n",
            "/usr/local/lib/python3.7/dist-packages/ipykernel_launcher.py:50: UserWarning: pre/23578975_15_1_2.png is a low contrast image\n",
            "WARNING:imageio:Lossy conversion from int64 to uint8. Range [0, 255]. Convert image to uint8 prior to saving to suppress this warning.\n",
            "/usr/local/lib/python3.7/dist-packages/ipykernel_launcher.py:50: UserWarning: pre/22979020_15_0_3.png is a low contrast image\n",
            "WARNING:imageio:Lossy conversion from int64 to uint8. Range [0, 255]. Convert image to uint8 prior to saving to suppress this warning.\n",
            "Valid Mode:  69% 562/810 [00:14<00:06, 37.20 uttr/s]/usr/local/lib/python3.7/dist-packages/ipykernel_launcher.py:50: UserWarning: pre/23429095_15_4_1.png is a low contrast image\n",
            "WARNING:imageio:Lossy conversion from int64 to uint8. Range [0, 255]. Convert image to uint8 prior to saving to suppress this warning.\n",
            "/usr/local/lib/python3.7/dist-packages/ipykernel_launcher.py:50: UserWarning: pre/22678975_15_0_4.png is a low contrast image\n",
            "WARNING:imageio:Lossy conversion from int64 to uint8. Range [0, 255]. Convert image to uint8 prior to saving to suppress this warning.\n",
            "/usr/local/lib/python3.7/dist-packages/ipykernel_launcher.py:50: UserWarning: pre/22979005_15_1_4.png is a low contrast image\n",
            "WARNING:imageio:Lossy conversion from int64 to uint8. Range [0, 255]. Convert image to uint8 prior to saving to suppress this warning.\n",
            "/usr/local/lib/python3.7/dist-packages/ipykernel_launcher.py:50: UserWarning: pre/23879110_15_0_2.png is a low contrast image\n",
            "/usr/local/lib/python3.7/dist-packages/ipykernel_launcher.py:50: UserWarning: pre/23879095_15_2_2.png is a low contrast image\n",
            "WARNING:imageio:Lossy conversion from int64 to uint8. Range [0, 255]. Convert image to uint8 prior to saving to suppress this warning.\n",
            "Valid Mode:  70% 567/810 [00:14<00:06, 38.08 uttr/s]/usr/local/lib/python3.7/dist-packages/ipykernel_launcher.py:50: UserWarning: pre/23879020_15_2_0.png is a low contrast image\n",
            "WARNING:imageio:Lossy conversion from int64 to uint8. Range [0, 255]. Convert image to uint8 prior to saving to suppress this warning.\n",
            "/usr/local/lib/python3.7/dist-packages/ipykernel_launcher.py:50: UserWarning: pre/23429155_15_0_0.png is a low contrast image\n",
            "WARNING:imageio:Lossy conversion from int64 to uint8. Range [0, 255]. Convert image to uint8 prior to saving to suppress this warning.\n",
            "/usr/local/lib/python3.7/dist-packages/ipykernel_launcher.py:50: UserWarning: pre/23278930_15_3_3.png is a low contrast image\n",
            "WARNING:imageio:Lossy conversion from int64 to uint8. Range [0, 255]. Convert image to uint8 prior to saving to suppress this warning.\n",
            "/usr/local/lib/python3.7/dist-packages/ipykernel_launcher.py:50: UserWarning: pre/23428990_15_3_0.png is a low contrast image\n",
            "WARNING:imageio:Lossy conversion from int64 to uint8. Range [0, 255]. Convert image to uint8 prior to saving to suppress this warning.\n",
            "Valid Mode:  70% 571/810 [00:14<00:06, 36.87 uttr/s]/usr/local/lib/python3.7/dist-packages/ipykernel_launcher.py:50: UserWarning: pre/23578990_15_3_3.png is a low contrast image\n",
            "WARNING:imageio:Lossy conversion from int64 to uint8. Range [0, 255]. Convert image to uint8 prior to saving to suppress this warning.\n",
            "/usr/local/lib/python3.7/dist-packages/ipykernel_launcher.py:50: UserWarning: pre/23429095_15_3_1.png is a low contrast image\n",
            "WARNING:imageio:Lossy conversion from int64 to uint8. Range [0, 255]. Convert image to uint8 prior to saving to suppress this warning.\n",
            "/usr/local/lib/python3.7/dist-packages/ipykernel_launcher.py:50: UserWarning: pre/23428990_15_4_1.png is a low contrast image\n",
            "WARNING:imageio:Lossy conversion from int64 to uint8. Range [0, 255]. Convert image to uint8 prior to saving to suppress this warning.\n",
            "/usr/local/lib/python3.7/dist-packages/ipykernel_launcher.py:50: UserWarning: pre/23128915_15_3_3.png is a low contrast image\n",
            "WARNING:imageio:Lossy conversion from int64 to uint8. Range [0, 255]. Convert image to uint8 prior to saving to suppress this warning.\n",
            "Valid Mode:  71% 575/810 [00:14<00:06, 37.21 uttr/s]/usr/local/lib/python3.7/dist-packages/ipykernel_launcher.py:50: UserWarning: pre/23729095_15_1_3.png is a low contrast image\n",
            "WARNING:imageio:Lossy conversion from int64 to uint8. Range [0, 255]. Convert image to uint8 prior to saving to suppress this warning.\n",
            "/usr/local/lib/python3.7/dist-packages/ipykernel_launcher.py:50: UserWarning: pre/23579020_15_3_3.png is a low contrast image\n",
            "WARNING:imageio:Lossy conversion from int64 to uint8. Range [0, 255]. Convert image to uint8 prior to saving to suppress this warning.\n",
            "/usr/local/lib/python3.7/dist-packages/ipykernel_launcher.py:50: UserWarning: pre/23879050_15_0_0.png is a low contrast image\n",
            "WARNING:imageio:Lossy conversion from int64 to uint8. Range [0, 255]. Convert image to uint8 prior to saving to suppress this warning.\n",
            "/usr/local/lib/python3.7/dist-packages/ipykernel_launcher.py:50: UserWarning: pre/22829035_15_1_4.png is a low contrast image\n",
            "Valid Mode:  71% 579/810 [00:14<00:06, 37.42 uttr/s]/usr/local/lib/python3.7/dist-packages/ipykernel_launcher.py:50: UserWarning: pre/22679035_15_0_3.png is a low contrast image\n",
            "WARNING:imageio:Lossy conversion from int64 to uint8. Range [0, 255]. Convert image to uint8 prior to saving to suppress this warning.\n",
            "/usr/local/lib/python3.7/dist-packages/ipykernel_launcher.py:50: UserWarning: pre/23879035_15_3_2.png is a low contrast image\n",
            "WARNING:imageio:Lossy conversion from int64 to uint8. Range [0, 255]. Convert image to uint8 prior to saving to suppress this warning.\n",
            "/usr/local/lib/python3.7/dist-packages/ipykernel_launcher.py:50: UserWarning: pre/23578990_15_3_1.png is a low contrast image\n",
            "WARNING:imageio:Lossy conversion from int64 to uint8. Range [0, 255]. Convert image to uint8 prior to saving to suppress this warning.\n",
            "/usr/local/lib/python3.7/dist-packages/ipykernel_launcher.py:50: UserWarning: pre/22979050_15_1_3.png is a low contrast image\n",
            "WARNING:imageio:Lossy conversion from int64 to uint8. Range [0, 255]. Convert image to uint8 prior to saving to suppress this warning.\n",
            "Valid Mode:  72% 583/810 [00:14<00:06, 36.58 uttr/s]/usr/local/lib/python3.7/dist-packages/ipykernel_launcher.py:50: UserWarning: pre/24329020_15_4_2.png is a low contrast image\n",
            "/usr/local/lib/python3.7/dist-packages/ipykernel_launcher.py:50: UserWarning: pre/23729005_15_2_1.png is a low contrast image\n",
            "WARNING:imageio:Lossy conversion from int64 to uint8. Range [0, 255]. Convert image to uint8 prior to saving to suppress this warning.\n",
            "/usr/local/lib/python3.7/dist-packages/ipykernel_launcher.py:50: UserWarning: pre/23279155_15_2_3.png is a low contrast image\n",
            "WARNING:imageio:Lossy conversion from int64 to uint8. Range [0, 255]. Convert image to uint8 prior to saving to suppress this warning.\n",
            "/usr/local/lib/python3.7/dist-packages/ipykernel_launcher.py:50: UserWarning: pre/23279140_15_1_3.png is a low contrast image\n",
            "WARNING:imageio:Lossy conversion from int64 to uint8. Range [0, 255]. Convert image to uint8 prior to saving to suppress this warning.\n",
            "Valid Mode:  72% 587/810 [00:14<00:06, 36.88 uttr/s]/usr/local/lib/python3.7/dist-packages/ipykernel_launcher.py:50: UserWarning: pre/22829020_15_0_0.png is a low contrast image\n",
            "WARNING:imageio:Lossy conversion from int64 to uint8. Range [0, 255]. Convert image to uint8 prior to saving to suppress this warning.\n",
            "/usr/local/lib/python3.7/dist-packages/ipykernel_launcher.py:50: UserWarning: pre/23128885_15_1_1.png is a low contrast image\n",
            "WARNING:imageio:Lossy conversion from int64 to uint8. Range [0, 255]. Convert image to uint8 prior to saving to suppress this warning.\n",
            "/usr/local/lib/python3.7/dist-packages/ipykernel_launcher.py:50: UserWarning: pre/23879035_15_1_3.png is a low contrast image\n",
            "WARNING:imageio:Lossy conversion from int64 to uint8. Range [0, 255]. Convert image to uint8 prior to saving to suppress this warning.\n",
            "/usr/local/lib/python3.7/dist-packages/ipykernel_launcher.py:50: UserWarning: pre/23278975_15_2_4.png is a low contrast image\n",
            "WARNING:imageio:Lossy conversion from int64 to uint8. Range [0, 255]. Convert image to uint8 prior to saving to suppress this warning.\n",
            "Valid Mode:  73% 591/810 [00:15<00:05, 36.51 uttr/s]/usr/local/lib/python3.7/dist-packages/ipykernel_launcher.py:50: UserWarning: pre/23729065_15_2_2.png is a low contrast image\n",
            "WARNING:imageio:Lossy conversion from int64 to uint8. Range [0, 255]. Convert image to uint8 prior to saving to suppress this warning.\n",
            "/usr/local/lib/python3.7/dist-packages/ipykernel_launcher.py:50: UserWarning: pre/22829020_15_4_1.png is a low contrast image\n",
            "WARNING:imageio:Lossy conversion from int64 to uint8. Range [0, 255]. Convert image to uint8 prior to saving to suppress this warning.\n",
            "/usr/local/lib/python3.7/dist-packages/ipykernel_launcher.py:50: UserWarning: pre/23728930_15_2_4.png is a low contrast image\n",
            "WARNING:imageio:Lossy conversion from int64 to uint8. Range [0, 255]. Convert image to uint8 prior to saving to suppress this warning.\n",
            "/usr/local/lib/python3.7/dist-packages/ipykernel_launcher.py:50: UserWarning: pre/23578990_15_0_0.png is a low contrast image\n",
            "WARNING:imageio:Lossy conversion from int64 to uint8. Range [0, 255]. Convert image to uint8 prior to saving to suppress this warning.\n",
            "Valid Mode:  73% 595/810 [00:15<00:05, 36.70 uttr/s]/usr/local/lib/python3.7/dist-packages/ipykernel_launcher.py:50: UserWarning: pre/24478840_15_2_3.png is a low contrast image\n",
            "WARNING:imageio:Lossy conversion from int64 to uint8. Range [0, 255]. Convert image to uint8 prior to saving to suppress this warning.\n",
            "/usr/local/lib/python3.7/dist-packages/ipykernel_launcher.py:50: UserWarning: pre/23579080_15_0_2.png is a low contrast image\n",
            "WARNING:imageio:Lossy conversion from int64 to uint8. Range [0, 255]. Convert image to uint8 prior to saving to suppress this warning.\n",
            "/usr/local/lib/python3.7/dist-packages/ipykernel_launcher.py:50: UserWarning: pre/22978930_15_2_1.png is a low contrast image\n",
            "WARNING:imageio:Lossy conversion from int64 to uint8. Range [0, 255]. Convert image to uint8 prior to saving to suppress this warning.\n",
            "/usr/local/lib/python3.7/dist-packages/ipykernel_launcher.py:50: UserWarning: pre/23728945_15_3_4.png is a low contrast image\n",
            "WARNING:imageio:Lossy conversion from int64 to uint8. Range [0, 255]. Convert image to uint8 prior to saving to suppress this warning.\n",
            "Valid Mode:  74% 599/810 [00:15<00:05, 37.26 uttr/s]/usr/local/lib/python3.7/dist-packages/ipykernel_launcher.py:50: UserWarning: pre/23579095_15_3_2.png is a low contrast image\n",
            "WARNING:imageio:Lossy conversion from int64 to uint8. Range [0, 255]. Convert image to uint8 prior to saving to suppress this warning.\n",
            "/usr/local/lib/python3.7/dist-packages/ipykernel_launcher.py:50: UserWarning: pre/22979005_15_2_3.png is a low contrast image\n",
            "WARNING:imageio:Lossy conversion from int64 to uint8. Range [0, 255]. Convert image to uint8 prior to saving to suppress this warning.\n",
            "/usr/local/lib/python3.7/dist-packages/ipykernel_launcher.py:50: UserWarning: pre/22979050_15_0_1.png is a low contrast image\n",
            "WARNING:imageio:Lossy conversion from int64 to uint8. Range [0, 255]. Convert image to uint8 prior to saving to suppress this warning.\n",
            "/usr/local/lib/python3.7/dist-packages/ipykernel_launcher.py:50: UserWarning: pre/23278930_15_4_4.png is a low contrast image\n",
            "WARNING:imageio:Lossy conversion from int64 to uint8. Range [0, 255]. Convert image to uint8 prior to saving to suppress this warning.\n",
            "Valid Mode:  74% 603/810 [00:15<00:05, 35.00 uttr/s]/usr/local/lib/python3.7/dist-packages/ipykernel_launcher.py:50: UserWarning: pre/23279155_15_0_2.png is a low contrast image\n",
            "WARNING:imageio:Lossy conversion from int64 to uint8. Range [0, 255]. Convert image to uint8 prior to saving to suppress this warning.\n",
            "/usr/local/lib/python3.7/dist-packages/ipykernel_launcher.py:50: UserWarning: pre/22828960_15_1_2.png is a low contrast image\n",
            "WARNING:imageio:Lossy conversion from int64 to uint8. Range [0, 255]. Convert image to uint8 prior to saving to suppress this warning.\n",
            "/usr/local/lib/python3.7/dist-packages/ipykernel_launcher.py:50: UserWarning: pre/23878990_15_1_0.png is a low contrast image\n",
            "WARNING:imageio:Lossy conversion from int64 to uint8. Range [0, 255]. Convert image to uint8 prior to saving to suppress this warning.\n",
            "/usr/local/lib/python3.7/dist-packages/ipykernel_launcher.py:50: UserWarning: pre/23578945_15_0_3.png is a low contrast image\n",
            "WARNING:imageio:Lossy conversion from int64 to uint8. Range [0, 255]. Convert image to uint8 prior to saving to suppress this warning.\n",
            "Valid Mode:  75% 607/810 [00:15<00:05, 35.83 uttr/s]/usr/local/lib/python3.7/dist-packages/ipykernel_launcher.py:50: UserWarning: pre/23278915_15_1_4.png is a low contrast image\n",
            "WARNING:imageio:Lossy conversion from int64 to uint8. Range [0, 255]. Convert image to uint8 prior to saving to suppress this warning.\n",
            "/usr/local/lib/python3.7/dist-packages/ipykernel_launcher.py:50: UserWarning: pre/24328855_15_3_1.png is a low contrast image\n",
            "WARNING:imageio:Lossy conversion from int64 to uint8. Range [0, 255]. Convert image to uint8 prior to saving to suppress this warning.\n",
            "/usr/local/lib/python3.7/dist-packages/ipykernel_launcher.py:50: UserWarning: pre/24179080_15_0_3.png is a low contrast image\n",
            "WARNING:imageio:Lossy conversion from int64 to uint8. Range [0, 255]. Convert image to uint8 prior to saving to suppress this warning.\n",
            "/usr/local/lib/python3.7/dist-packages/ipykernel_launcher.py:50: UserWarning: pre/23428945_15_1_4.png is a low contrast image\n",
            "WARNING:imageio:Lossy conversion from int64 to uint8. Range [0, 255]. Convert image to uint8 prior to saving to suppress this warning.\n",
            "Valid Mode:  75% 611/810 [00:15<00:05, 34.58 uttr/s]/usr/local/lib/python3.7/dist-packages/ipykernel_launcher.py:50: UserWarning: pre/23278915_15_4_0.png is a low contrast image\n",
            "WARNING:imageio:Lossy conversion from int64 to uint8. Range [0, 255]. Convert image to uint8 prior to saving to suppress this warning.\n",
            "/usr/local/lib/python3.7/dist-packages/ipykernel_launcher.py:50: UserWarning: pre/24478840_15_2_1.png is a low contrast image\n",
            "WARNING:imageio:Lossy conversion from int64 to uint8. Range [0, 255]. Convert image to uint8 prior to saving to suppress this warning.\n",
            "/usr/local/lib/python3.7/dist-packages/ipykernel_launcher.py:50: UserWarning: pre/23579035_15_2_4.png is a low contrast image\n",
            "WARNING:imageio:Lossy conversion from int64 to uint8. Range [0, 255]. Convert image to uint8 prior to saving to suppress this warning.\n",
            "/usr/local/lib/python3.7/dist-packages/ipykernel_launcher.py:50: UserWarning: pre/23128930_15_0_2.png is a low contrast image\n",
            "WARNING:imageio:Lossy conversion from int64 to uint8. Range [0, 255]. Convert image to uint8 prior to saving to suppress this warning.\n",
            "Valid Mode:  76% 615/810 [00:15<00:06, 30.75 uttr/s]/usr/local/lib/python3.7/dist-packages/ipykernel_launcher.py:50: UserWarning: pre/23728930_15_2_0.png is a low contrast image\n",
            "WARNING:imageio:Lossy conversion from int64 to uint8. Range [0, 255]. Convert image to uint8 prior to saving to suppress this warning.\n",
            "/usr/local/lib/python3.7/dist-packages/ipykernel_launcher.py:50: UserWarning: pre/23579020_15_0_4.png is a low contrast image\n",
            "WARNING:imageio:Lossy conversion from int64 to uint8. Range [0, 255]. Convert image to uint8 prior to saving to suppress this warning.\n",
            "/usr/local/lib/python3.7/dist-packages/ipykernel_launcher.py:50: UserWarning: pre/23279005_15_3_3.png is a low contrast image\n",
            "/usr/local/lib/python3.7/dist-packages/ipykernel_launcher.py:50: UserWarning: pre/23278945_15_2_1.png is a low contrast image\n",
            "WARNING:imageio:Lossy conversion from int64 to uint8. Range [0, 255]. Convert image to uint8 prior to saving to suppress this warning.\n",
            "Valid Mode:  76% 619/810 [00:15<00:06, 28.67 uttr/s]/usr/local/lib/python3.7/dist-packages/ipykernel_launcher.py:50: UserWarning: pre/23728930_15_2_3.png is a low contrast image\n",
            "WARNING:imageio:Lossy conversion from int64 to uint8. Range [0, 255]. Convert image to uint8 prior to saving to suppress this warning.\n",
            "/usr/local/lib/python3.7/dist-packages/ipykernel_launcher.py:50: UserWarning: pre/23429095_15_3_2.png is a low contrast image\n",
            "WARNING:imageio:Lossy conversion from int64 to uint8. Range [0, 255]. Convert image to uint8 prior to saving to suppress this warning.\n",
            "/usr/local/lib/python3.7/dist-packages/ipykernel_launcher.py:50: UserWarning: pre/24478885_15_2_2.png is a low contrast image\n",
            "WARNING:imageio:Lossy conversion from int64 to uint8. Range [0, 255]. Convert image to uint8 prior to saving to suppress this warning.\n",
            "Valid Mode:  77% 622/810 [00:16<00:06, 27.73 uttr/s]/usr/local/lib/python3.7/dist-packages/ipykernel_launcher.py:50: UserWarning: pre/22978915_15_3_3.png is a low contrast image\n",
            "WARNING:imageio:Lossy conversion from int64 to uint8. Range [0, 255]. Convert image to uint8 prior to saving to suppress this warning.\n",
            "/usr/local/lib/python3.7/dist-packages/ipykernel_launcher.py:50: UserWarning: pre/24329035_15_1_3.png is a low contrast image\n",
            "WARNING:imageio:Lossy conversion from int64 to uint8. Range [0, 255]. Convert image to uint8 prior to saving to suppress this warning.\n",
            "/usr/local/lib/python3.7/dist-packages/ipykernel_launcher.py:50: UserWarning: pre/23278915_15_2_2.png is a low contrast image\n",
            "WARNING:imageio:Lossy conversion from int64 to uint8. Range [0, 255]. Convert image to uint8 prior to saving to suppress this warning.\n",
            "Valid Mode:  77% 625/810 [00:16<00:06, 26.60 uttr/s]/usr/local/lib/python3.7/dist-packages/ipykernel_launcher.py:50: UserWarning: pre/23128975_15_4_2.png is a low contrast image\n",
            "WARNING:imageio:Lossy conversion from int64 to uint8. Range [0, 255]. Convert image to uint8 prior to saving to suppress this warning.\n",
            "/usr/local/lib/python3.7/dist-packages/ipykernel_launcher.py:50: UserWarning: pre/23128900_15_0_3.png is a low contrast image\n",
            "WARNING:imageio:Lossy conversion from int64 to uint8. Range [0, 255]. Convert image to uint8 prior to saving to suppress this warning.\n",
            "/usr/local/lib/python3.7/dist-packages/ipykernel_launcher.py:50: UserWarning: pre/22679020_15_2_2.png is a low contrast image\n",
            "WARNING:imageio:Lossy conversion from int64 to uint8. Range [0, 255]. Convert image to uint8 prior to saving to suppress this warning.\n",
            "Valid Mode:  78% 628/810 [00:16<00:06, 26.20 uttr/s]/usr/local/lib/python3.7/dist-packages/ipykernel_launcher.py:50: UserWarning: pre/24328840_15_3_3.png is a low contrast image\n",
            "WARNING:imageio:Lossy conversion from int64 to uint8. Range [0, 255]. Convert image to uint8 prior to saving to suppress this warning.\n",
            "/usr/local/lib/python3.7/dist-packages/ipykernel_launcher.py:50: UserWarning: pre/23879095_15_2_0.png is a low contrast image\n",
            "WARNING:imageio:Lossy conversion from int64 to uint8. Range [0, 255]. Convert image to uint8 prior to saving to suppress this warning.\n",
            "/usr/local/lib/python3.7/dist-packages/ipykernel_launcher.py:50: UserWarning: pre/24478855_15_1_0.png is a low contrast image\n",
            "WARNING:imageio:Lossy conversion from int64 to uint8. Range [0, 255]. Convert image to uint8 prior to saving to suppress this warning.\n",
            "/usr/local/lib/python3.7/dist-packages/ipykernel_launcher.py:50: UserWarning: pre/22978945_15_3_0.png is a low contrast image\n",
            "WARNING:imageio:Lossy conversion from int64 to uint8. Range [0, 255]. Convert image to uint8 prior to saving to suppress this warning.\n",
            "Valid Mode:  78% 632/810 [00:16<00:06, 27.94 uttr/s]/usr/local/lib/python3.7/dist-packages/ipykernel_launcher.py:50: UserWarning: pre/23728990_15_2_4.png is a low contrast image\n",
            "WARNING:imageio:Lossy conversion from int64 to uint8. Range [0, 255]. Convert image to uint8 prior to saving to suppress this warning.\n",
            "/usr/local/lib/python3.7/dist-packages/ipykernel_launcher.py:50: UserWarning: pre/24479005_15_3_0.png is a low contrast image\n",
            "WARNING:imageio:Lossy conversion from int64 to uint8. Range [0, 255]. Convert image to uint8 prior to saving to suppress this warning.\n",
            "/usr/local/lib/python3.7/dist-packages/ipykernel_launcher.py:50: UserWarning: pre/22978930_15_1_4.png is a low contrast image\n",
            "WARNING:imageio:Lossy conversion from int64 to uint8. Range [0, 255]. Convert image to uint8 prior to saving to suppress this warning.\n",
            "Valid Mode:  78% 635/810 [00:16<00:06, 26.46 uttr/s]/usr/local/lib/python3.7/dist-packages/ipykernel_launcher.py:50: UserWarning: pre/23128930_15_1_4.png is a low contrast image\n",
            "WARNING:imageio:Lossy conversion from int64 to uint8. Range [0, 255]. Convert image to uint8 prior to saving to suppress this warning.\n",
            "/usr/local/lib/python3.7/dist-packages/ipykernel_launcher.py:50: UserWarning: pre/22679035_15_3_1.png is a low contrast image\n",
            "WARNING:imageio:Lossy conversion from int64 to uint8. Range [0, 255]. Convert image to uint8 prior to saving to suppress this warning.\n",
            "/usr/local/lib/python3.7/dist-packages/ipykernel_launcher.py:50: UserWarning: pre/23579080_15_1_1.png is a low contrast image\n",
            "WARNING:imageio:Lossy conversion from int64 to uint8. Range [0, 255]. Convert image to uint8 prior to saving to suppress this warning.\n",
            "/usr/local/lib/python3.7/dist-packages/ipykernel_launcher.py:50: UserWarning: pre/23429155_15_3_3.png is a low contrast image\n",
            "WARNING:imageio:Lossy conversion from int64 to uint8. Range [0, 255]. Convert image to uint8 prior to saving to suppress this warning.\n",
            "Valid Mode:  79% 639/810 [00:16<00:06, 28.20 uttr/s]/usr/local/lib/python3.7/dist-packages/ipykernel_launcher.py:50: UserWarning: pre/23728930_15_1_4.png is a low contrast image\n",
            "WARNING:imageio:Lossy conversion from int64 to uint8. Range [0, 255]. Convert image to uint8 prior to saving to suppress this warning.\n",
            "/usr/local/lib/python3.7/dist-packages/ipykernel_launcher.py:50: UserWarning: pre/22679005_15_1_3.png is a low contrast image\n",
            "WARNING:imageio:Lossy conversion from int64 to uint8. Range [0, 255]. Convert image to uint8 prior to saving to suppress this warning.\n",
            "/usr/local/lib/python3.7/dist-packages/ipykernel_launcher.py:50: UserWarning: pre/22678990_15_4_2.png is a low contrast image\n",
            "WARNING:imageio:Lossy conversion from int64 to uint8. Range [0, 255]. Convert image to uint8 prior to saving to suppress this warning.\n",
            "/usr/local/lib/python3.7/dist-packages/ipykernel_launcher.py:50: UserWarning: pre/24029050_15_4_4.png is a low contrast image\n",
            "WARNING:imageio:Lossy conversion from int64 to uint8. Range [0, 255]. Convert image to uint8 prior to saving to suppress this warning.\n",
            "Valid Mode:  79% 643/810 [00:16<00:05, 29.90 uttr/s]/usr/local/lib/python3.7/dist-packages/ipykernel_launcher.py:50: UserWarning: pre/24029065_15_4_2.png is a low contrast image\n",
            "WARNING:imageio:Lossy conversion from int64 to uint8. Range [0, 255]. Convert image to uint8 prior to saving to suppress this warning.\n",
            "/usr/local/lib/python3.7/dist-packages/ipykernel_launcher.py:50: UserWarning: pre/24029035_15_3_2.png is a low contrast image\n",
            "WARNING:imageio:Lossy conversion from int64 to uint8. Range [0, 255]. Convert image to uint8 prior to saving to suppress this warning.\n",
            "/usr/local/lib/python3.7/dist-packages/ipykernel_launcher.py:50: UserWarning: pre/22829020_15_4_3.png is a low contrast image\n",
            "WARNING:imageio:Lossy conversion from int64 to uint8. Range [0, 255]. Convert image to uint8 prior to saving to suppress this warning.\n",
            "/usr/local/lib/python3.7/dist-packages/ipykernel_launcher.py:50: UserWarning: pre/24179050_15_1_3.png is a low contrast image\n",
            "WARNING:imageio:Lossy conversion from int64 to uint8. Range [0, 255]. Convert image to uint8 prior to saving to suppress this warning.\n",
            "Valid Mode:  80% 647/810 [00:16<00:05, 30.65 uttr/s]/usr/local/lib/python3.7/dist-packages/ipykernel_launcher.py:50: UserWarning: pre/22979035_15_3_3.png is a low contrast image\n",
            "WARNING:imageio:Lossy conversion from int64 to uint8. Range [0, 255]. Convert image to uint8 prior to saving to suppress this warning.\n",
            "/usr/local/lib/python3.7/dist-packages/ipykernel_launcher.py:50: UserWarning: pre/24329020_15_2_3.png is a low contrast image\n",
            "WARNING:imageio:Lossy conversion from int64 to uint8. Range [0, 255]. Convert image to uint8 prior to saving to suppress this warning.\n",
            "/usr/local/lib/python3.7/dist-packages/ipykernel_launcher.py:50: UserWarning: pre/23128990_15_0_1.png is a low contrast image\n",
            "WARNING:imageio:Lossy conversion from int64 to uint8. Range [0, 255]. Convert image to uint8 prior to saving to suppress this warning.\n",
            "/usr/local/lib/python3.7/dist-packages/ipykernel_launcher.py:50: UserWarning: pre/24029065_15_0_3.png is a low contrast image\n",
            "WARNING:imageio:Lossy conversion from int64 to uint8. Range [0, 255]. Convert image to uint8 prior to saving to suppress this warning.\n",
            "Valid Mode:  80% 651/810 [00:17<00:05, 30.61 uttr/s]/usr/local/lib/python3.7/dist-packages/ipykernel_launcher.py:50: UserWarning: pre/22679035_15_3_3.png is a low contrast image\n",
            "WARNING:imageio:Lossy conversion from int64 to uint8. Range [0, 255]. Convert image to uint8 prior to saving to suppress this warning.\n",
            "/usr/local/lib/python3.7/dist-packages/ipykernel_launcher.py:50: UserWarning: pre/23729050_15_4_3.png is a low contrast image\n",
            "WARNING:imageio:Lossy conversion from int64 to uint8. Range [0, 255]. Convert image to uint8 prior to saving to suppress this warning.\n",
            "/usr/local/lib/python3.7/dist-packages/ipykernel_launcher.py:50: UserWarning: pre/23278990_15_4_4.png is a low contrast image\n",
            "WARNING:imageio:Lossy conversion from int64 to uint8. Range [0, 255]. Convert image to uint8 prior to saving to suppress this warning.\n",
            "/usr/local/lib/python3.7/dist-packages/ipykernel_launcher.py:50: UserWarning: pre/23728930_15_3_1.png is a low contrast image\n",
            "WARNING:imageio:Lossy conversion from int64 to uint8. Range [0, 255]. Convert image to uint8 prior to saving to suppress this warning.\n",
            "Valid Mode:  81% 655/810 [00:17<00:05, 28.49 uttr/s]/usr/local/lib/python3.7/dist-packages/ipykernel_launcher.py:50: UserWarning: pre/23278900_15_0_1.png is a low contrast image\n",
            "WARNING:imageio:Lossy conversion from int64 to uint8. Range [0, 255]. Convert image to uint8 prior to saving to suppress this warning.\n",
            "/usr/local/lib/python3.7/dist-packages/ipykernel_launcher.py:50: UserWarning: pre/24029035_15_3_4.png is a low contrast image\n",
            "/usr/local/lib/python3.7/dist-packages/ipykernel_launcher.py:50: UserWarning: pre/23279140_15_1_2.png is a low contrast image\n",
            "WARNING:imageio:Lossy conversion from int64 to uint8. Range [0, 255]. Convert image to uint8 prior to saving to suppress this warning.\n",
            "Valid Mode:  81% 658/810 [00:17<00:05, 28.82 uttr/s]/usr/local/lib/python3.7/dist-packages/ipykernel_launcher.py:50: UserWarning: pre/24029065_15_1_3.png is a low contrast image\n",
            "WARNING:imageio:Lossy conversion from int64 to uint8. Range [0, 255]. Convert image to uint8 prior to saving to suppress this warning.\n",
            "/usr/local/lib/python3.7/dist-packages/ipykernel_launcher.py:50: UserWarning: pre/22828945_15_3_2.png is a low contrast image\n",
            "WARNING:imageio:Lossy conversion from int64 to uint8. Range [0, 255]. Convert image to uint8 prior to saving to suppress this warning.\n",
            "/usr/local/lib/python3.7/dist-packages/ipykernel_launcher.py:50: UserWarning: pre/24179050_15_4_0.png is a low contrast image\n",
            "WARNING:imageio:Lossy conversion from int64 to uint8. Range [0, 255]. Convert image to uint8 prior to saving to suppress this warning.\n",
            "Valid Mode:  82% 661/810 [00:17<00:05, 27.02 uttr/s]/usr/local/lib/python3.7/dist-packages/ipykernel_launcher.py:50: UserWarning: pre/24329095_15_0_3.png is a low contrast image\n",
            "/usr/local/lib/python3.7/dist-packages/ipykernel_launcher.py:50: UserWarning: pre/23579065_15_4_1.png is a low contrast image\n",
            "WARNING:imageio:Lossy conversion from int64 to uint8. Range [0, 255]. Convert image to uint8 prior to saving to suppress this warning.\n",
            "/usr/local/lib/python3.7/dist-packages/ipykernel_launcher.py:50: UserWarning: pre/23278990_15_4_1.png is a low contrast image\n",
            "WARNING:imageio:Lossy conversion from int64 to uint8. Range [0, 255]. Convert image to uint8 prior to saving to suppress this warning.\n",
            "Valid Mode:  82% 664/810 [00:17<00:05, 26.19 uttr/s]/usr/local/lib/python3.7/dist-packages/ipykernel_launcher.py:50: UserWarning: pre/22978990_15_3_4.png is a low contrast image\n",
            "WARNING:imageio:Lossy conversion from int64 to uint8. Range [0, 255]. Convert image to uint8 prior to saving to suppress this warning.\n",
            "/usr/local/lib/python3.7/dist-packages/ipykernel_launcher.py:50: UserWarning: pre/22678990_15_1_1.png is a low contrast image\n",
            "WARNING:imageio:Lossy conversion from int64 to uint8. Range [0, 255]. Convert image to uint8 prior to saving to suppress this warning.\n",
            "/usr/local/lib/python3.7/dist-packages/ipykernel_launcher.py:50: UserWarning: pre/23279005_15_4_2.png is a low contrast image\n",
            "WARNING:imageio:Lossy conversion from int64 to uint8. Range [0, 255]. Convert image to uint8 prior to saving to suppress this warning.\n",
            "Valid Mode:  82% 667/810 [00:17<00:05, 26.19 uttr/s]/usr/local/lib/python3.7/dist-packages/ipykernel_launcher.py:50: UserWarning: pre/23579095_15_2_1.png is a low contrast image\n",
            "WARNING:imageio:Lossy conversion from int64 to uint8. Range [0, 255]. Convert image to uint8 prior to saving to suppress this warning.\n",
            "/usr/local/lib/python3.7/dist-packages/ipykernel_launcher.py:50: UserWarning: pre/23728945_15_2_4.png is a low contrast image\n",
            "WARNING:imageio:Lossy conversion from int64 to uint8. Range [0, 255]. Convert image to uint8 prior to saving to suppress this warning.\n",
            "/usr/local/lib/python3.7/dist-packages/ipykernel_launcher.py:50: UserWarning: pre/23429155_15_3_4.png is a low contrast image\n",
            "WARNING:imageio:Lossy conversion from int64 to uint8. Range [0, 255]. Convert image to uint8 prior to saving to suppress this warning.\n",
            "Valid Mode:  83% 670/810 [00:17<00:05, 26.76 uttr/s]/usr/local/lib/python3.7/dist-packages/ipykernel_launcher.py:50: UserWarning: pre/24029050_15_4_3.png is a low contrast image\n",
            "WARNING:imageio:Lossy conversion from int64 to uint8. Range [0, 255]. Convert image to uint8 prior to saving to suppress this warning.\n",
            "/usr/local/lib/python3.7/dist-packages/ipykernel_launcher.py:50: UserWarning: pre/22678990_15_0_3.png is a low contrast image\n",
            "WARNING:imageio:Lossy conversion from int64 to uint8. Range [0, 255]. Convert image to uint8 prior to saving to suppress this warning.\n",
            "/usr/local/lib/python3.7/dist-packages/ipykernel_launcher.py:50: UserWarning: pre/22679020_15_0_1.png is a low contrast image\n",
            "WARNING:imageio:Lossy conversion from int64 to uint8. Range [0, 255]. Convert image to uint8 prior to saving to suppress this warning.\n",
            "/usr/local/lib/python3.7/dist-packages/ipykernel_launcher.py:50: UserWarning: pre/24328840_15_0_1.png is a low contrast image\n",
            "WARNING:imageio:Lossy conversion from int64 to uint8. Range [0, 255]. Convert image to uint8 prior to saving to suppress this warning.\n",
            "Valid Mode:  83% 674/810 [00:17<00:04, 29.17 uttr/s]/usr/local/lib/python3.7/dist-packages/ipykernel_launcher.py:50: UserWarning: pre/22978960_15_1_1.png is a low contrast image\n",
            "WARNING:imageio:Lossy conversion from int64 to uint8. Range [0, 255]. Convert image to uint8 prior to saving to suppress this warning.\n",
            "/usr/local/lib/python3.7/dist-packages/ipykernel_launcher.py:50: UserWarning: pre/22678945_15_3_4.png is a low contrast image\n",
            "WARNING:imageio:Lossy conversion from int64 to uint8. Range [0, 255]. Convert image to uint8 prior to saving to suppress this warning.\n",
            "/usr/local/lib/python3.7/dist-packages/ipykernel_launcher.py:50: UserWarning: pre/23578990_15_3_2.png is a low contrast image\n",
            "WARNING:imageio:Lossy conversion from int64 to uint8. Range [0, 255]. Convert image to uint8 prior to saving to suppress this warning.\n",
            "/usr/local/lib/python3.7/dist-packages/ipykernel_launcher.py:50: UserWarning: pre/22679005_15_1_0.png is a low contrast image\n",
            "WARNING:imageio:Lossy conversion from int64 to uint8. Range [0, 255]. Convert image to uint8 prior to saving to suppress this warning.\n",
            "Valid Mode:  84% 678/810 [00:18<00:04, 30.25 uttr/s]/usr/local/lib/python3.7/dist-packages/ipykernel_launcher.py:50: UserWarning: pre/23128900_15_2_4.png is a low contrast image\n",
            "WARNING:imageio:Lossy conversion from int64 to uint8. Range [0, 255]. Convert image to uint8 prior to saving to suppress this warning.\n",
            "/usr/local/lib/python3.7/dist-packages/ipykernel_launcher.py:50: UserWarning: pre/23278960_15_0_2.png is a low contrast image\n",
            "WARNING:imageio:Lossy conversion from int64 to uint8. Range [0, 255]. Convert image to uint8 prior to saving to suppress this warning.\n",
            "/usr/local/lib/python3.7/dist-packages/ipykernel_launcher.py:50: UserWarning: pre/23579080_15_2_4.png is a low contrast image\n",
            "WARNING:imageio:Lossy conversion from int64 to uint8. Range [0, 255]. Convert image to uint8 prior to saving to suppress this warning.\n",
            "/usr/local/lib/python3.7/dist-packages/ipykernel_launcher.py:50: UserWarning: pre/23579035_15_3_4.png is a low contrast image\n",
            "WARNING:imageio:Lossy conversion from int64 to uint8. Range [0, 255]. Convert image to uint8 prior to saving to suppress this warning.\n",
            "Valid Mode:  84% 682/810 [00:18<00:05, 25.44 uttr/s]/usr/local/lib/python3.7/dist-packages/ipykernel_launcher.py:50: UserWarning: pre/23729065_15_2_0.png is a low contrast image\n",
            "WARNING:imageio:Lossy conversion from int64 to uint8. Range [0, 255]. Convert image to uint8 prior to saving to suppress this warning.\n",
            "/usr/local/lib/python3.7/dist-packages/ipykernel_launcher.py:50: UserWarning: pre/22829005_15_3_4.png is a low contrast image\n",
            "WARNING:imageio:Lossy conversion from int64 to uint8. Range [0, 255]. Convert image to uint8 prior to saving to suppress this warning.\n",
            "/usr/local/lib/python3.7/dist-packages/ipykernel_launcher.py:50: UserWarning: pre/23879020_15_0_2.png is a low contrast image\n",
            "WARNING:imageio:Lossy conversion from int64 to uint8. Range [0, 255]. Convert image to uint8 prior to saving to suppress this warning.\n",
            "Valid Mode:  85% 685/810 [00:18<00:04, 25.94 uttr/s]/usr/local/lib/python3.7/dist-packages/ipykernel_launcher.py:50: UserWarning: pre/22978915_15_4_2.png is a low contrast image\n",
            "/usr/local/lib/python3.7/dist-packages/ipykernel_launcher.py:50: UserWarning: pre/23128960_15_1_4.png is a low contrast image\n",
            "WARNING:imageio:Lossy conversion from int64 to uint8. Range [0, 255]. Convert image to uint8 prior to saving to suppress this warning.\n",
            "/usr/local/lib/python3.7/dist-packages/ipykernel_launcher.py:50: UserWarning: pre/23728960_15_2_2.png is a low contrast image\n",
            "WARNING:imageio:Lossy conversion from int64 to uint8. Range [0, 255]. Convert image to uint8 prior to saving to suppress this warning.\n",
            "Valid Mode:  85% 688/810 [00:18<00:04, 25.49 uttr/s]/usr/local/lib/python3.7/dist-packages/ipykernel_launcher.py:50: UserWarning: pre/23278945_15_0_3.png is a low contrast image\n",
            "WARNING:imageio:Lossy conversion from int64 to uint8. Range [0, 255]. Convert image to uint8 prior to saving to suppress this warning.\n",
            "/usr/local/lib/python3.7/dist-packages/ipykernel_launcher.py:50: UserWarning: pre/23278945_15_3_4.png is a low contrast image\n",
            "/usr/local/lib/python3.7/dist-packages/ipykernel_launcher.py:50: UserWarning: pre/22678915_15_4_3.png is a low contrast image\n",
            "WARNING:imageio:Lossy conversion from int64 to uint8. Range [0, 255]. Convert image to uint8 prior to saving to suppress this warning.\n",
            "/usr/local/lib/python3.7/dist-packages/ipykernel_launcher.py:50: UserWarning: pre/23578930_15_0_2.png is a low contrast image\n",
            "WARNING:imageio:Lossy conversion from int64 to uint8. Range [0, 255]. Convert image to uint8 prior to saving to suppress this warning.\n",
            "Valid Mode:  85% 692/810 [00:18<00:04, 26.67 uttr/s]/usr/local/lib/python3.7/dist-packages/ipykernel_launcher.py:50: UserWarning: pre/23579095_15_2_0.png is a low contrast image\n",
            "WARNING:imageio:Lossy conversion from int64 to uint8. Range [0, 255]. Convert image to uint8 prior to saving to suppress this warning.\n",
            "/usr/local/lib/python3.7/dist-packages/ipykernel_launcher.py:50: UserWarning: pre/22829005_15_0_1.png is a low contrast image\n",
            "WARNING:imageio:Lossy conversion from int64 to uint8. Range [0, 255]. Convert image to uint8 prior to saving to suppress this warning.\n",
            "/usr/local/lib/python3.7/dist-packages/ipykernel_launcher.py:50: UserWarning: pre/23278915_15_2_1.png is a low contrast image\n",
            "WARNING:imageio:Lossy conversion from int64 to uint8. Range [0, 255]. Convert image to uint8 prior to saving to suppress this warning.\n",
            "Valid Mode:  86% 695/810 [00:18<00:04, 25.80 uttr/s]/usr/local/lib/python3.7/dist-packages/ipykernel_launcher.py:50: UserWarning: pre/22679005_15_2_0.png is a low contrast image\n",
            "WARNING:imageio:Lossy conversion from int64 to uint8. Range [0, 255]. Convert image to uint8 prior to saving to suppress this warning.\n",
            "/usr/local/lib/python3.7/dist-packages/ipykernel_launcher.py:50: UserWarning: pre/22978885_15_1_0.png is a low contrast image\n",
            "WARNING:imageio:Lossy conversion from int64 to uint8. Range [0, 255]. Convert image to uint8 prior to saving to suppress this warning.\n",
            "/usr/local/lib/python3.7/dist-packages/ipykernel_launcher.py:50: UserWarning: pre/22978885_15_3_4.png is a low contrast image\n",
            "WARNING:imageio:Lossy conversion from int64 to uint8. Range [0, 255]. Convert image to uint8 prior to saving to suppress this warning.\n",
            "Valid Mode:  86% 698/810 [00:18<00:04, 25.63 uttr/s]/usr/local/lib/python3.7/dist-packages/ipykernel_launcher.py:50: UserWarning: pre/23879065_15_4_1.png is a low contrast image\n",
            "WARNING:imageio:Lossy conversion from int64 to uint8. Range [0, 255]. Convert image to uint8 prior to saving to suppress this warning.\n",
            "/usr/local/lib/python3.7/dist-packages/ipykernel_launcher.py:50: UserWarning: pre/24179020_15_0_3.png is a low contrast image\n",
            "WARNING:imageio:Lossy conversion from int64 to uint8. Range [0, 255]. Convert image to uint8 prior to saving to suppress this warning.\n",
            "/usr/local/lib/python3.7/dist-packages/ipykernel_launcher.py:50: UserWarning: pre/23428990_15_4_3.png is a low contrast image\n",
            "WARNING:imageio:Lossy conversion from int64 to uint8. Range [0, 255]. Convert image to uint8 prior to saving to suppress this warning.\n",
            "Valid Mode:  87% 701/810 [00:19<00:04, 25.19 uttr/s]/usr/local/lib/python3.7/dist-packages/ipykernel_launcher.py:50: UserWarning: pre/24329035_15_3_0.png is a low contrast image\n",
            "WARNING:imageio:Lossy conversion from int64 to uint8. Range [0, 255]. Convert image to uint8 prior to saving to suppress this warning.\n",
            "/usr/local/lib/python3.7/dist-packages/ipykernel_launcher.py:50: UserWarning: pre/23579080_15_0_3.png is a low contrast image\n",
            "WARNING:imageio:Lossy conversion from int64 to uint8. Range [0, 255]. Convert image to uint8 prior to saving to suppress this warning.\n",
            "/usr/local/lib/python3.7/dist-packages/ipykernel_launcher.py:50: UserWarning: pre/23729065_15_1_2.png is a low contrast image\n",
            "WARNING:imageio:Lossy conversion from int64 to uint8. Range [0, 255]. Convert image to uint8 prior to saving to suppress this warning.\n",
            "Valid Mode:  87% 704/810 [00:19<00:04, 21.82 uttr/s]/usr/local/lib/python3.7/dist-packages/ipykernel_launcher.py:50: UserWarning: pre/23578945_15_3_4.png is a low contrast image\n",
            "WARNING:imageio:Lossy conversion from int64 to uint8. Range [0, 255]. Convert image to uint8 prior to saving to suppress this warning.\n",
            "/usr/local/lib/python3.7/dist-packages/ipykernel_launcher.py:50: UserWarning: pre/24029035_15_1_3.png is a low contrast image\n",
            "WARNING:imageio:Lossy conversion from int64 to uint8. Range [0, 255]. Convert image to uint8 prior to saving to suppress this warning.\n",
            "/usr/local/lib/python3.7/dist-packages/ipykernel_launcher.py:50: UserWarning: pre/22978960_15_0_0.png is a low contrast image\n",
            "WARNING:imageio:Lossy conversion from int64 to uint8. Range [0, 255]. Convert image to uint8 prior to saving to suppress this warning.\n",
            "Valid Mode:  87% 707/810 [00:19<00:04, 21.21 uttr/s]/usr/local/lib/python3.7/dist-packages/ipykernel_launcher.py:50: UserWarning: pre/22978945_15_3_4.png is a low contrast image\n",
            "WARNING:imageio:Lossy conversion from int64 to uint8. Range [0, 255]. Convert image to uint8 prior to saving to suppress this warning.\n",
            "/usr/local/lib/python3.7/dist-packages/ipykernel_launcher.py:50: UserWarning: pre/23729095_15_2_2.png is a low contrast image\n",
            "WARNING:imageio:Lossy conversion from int64 to uint8. Range [0, 255]. Convert image to uint8 prior to saving to suppress this warning.\n",
            "/usr/local/lib/python3.7/dist-packages/ipykernel_launcher.py:50: UserWarning: pre/23728930_15_2_1.png is a low contrast image\n",
            "WARNING:imageio:Lossy conversion from int64 to uint8. Range [0, 255]. Convert image to uint8 prior to saving to suppress this warning.\n",
            "Valid Mode:  88% 710/810 [00:19<00:05, 19.45 uttr/s]/usr/local/lib/python3.7/dist-packages/ipykernel_launcher.py:50: UserWarning: pre/22678915_15_2_0.png is a low contrast image\n",
            "WARNING:imageio:Lossy conversion from int64 to uint8. Range [0, 255]. Convert image to uint8 prior to saving to suppress this warning.\n",
            "/usr/local/lib/python3.7/dist-packages/ipykernel_launcher.py:50: UserWarning: pre/23429095_15_3_3.png is a low contrast image\n",
            "WARNING:imageio:Lossy conversion from int64 to uint8. Range [0, 255]. Convert image to uint8 prior to saving to suppress this warning.\n",
            "/usr/local/lib/python3.7/dist-packages/ipykernel_launcher.py:50: UserWarning: pre/23278945_15_2_3.png is a low contrast image\n",
            "WARNING:imageio:Lossy conversion from int64 to uint8. Range [0, 255]. Convert image to uint8 prior to saving to suppress this warning.\n",
            "Valid Mode:  88% 713/810 [00:19<00:04, 19.85 uttr/s]/usr/local/lib/python3.7/dist-packages/ipykernel_launcher.py:50: UserWarning: pre/22828960_15_1_0.png is a low contrast image\n",
            "WARNING:imageio:Lossy conversion from int64 to uint8. Range [0, 255]. Convert image to uint8 prior to saving to suppress this warning.\n",
            "/usr/local/lib/python3.7/dist-packages/ipykernel_launcher.py:50: UserWarning: pre/24329020_15_1_1.png is a low contrast image\n",
            "WARNING:imageio:Lossy conversion from int64 to uint8. Range [0, 255]. Convert image to uint8 prior to saving to suppress this warning.\n",
            "/usr/local/lib/python3.7/dist-packages/ipykernel_launcher.py:50: UserWarning: pre/23878975_15_0_1.png is a low contrast image\n",
            "WARNING:imageio:Lossy conversion from int64 to uint8. Range [0, 255]. Convert image to uint8 prior to saving to suppress this warning.\n",
            "Valid Mode:  88% 716/810 [00:19<00:05, 17.05 uttr/s]/usr/local/lib/python3.7/dist-packages/ipykernel_launcher.py:50: UserWarning: pre/24478870_15_4_3.png is a low contrast image\n",
            "WARNING:imageio:Lossy conversion from int64 to uint8. Range [0, 255]. Convert image to uint8 prior to saving to suppress this warning.\n",
            "/usr/local/lib/python3.7/dist-packages/ipykernel_launcher.py:50: UserWarning: pre/23128930_15_3_2.png is a low contrast image\n",
            "WARNING:imageio:Lossy conversion from int64 to uint8. Range [0, 255]. Convert image to uint8 prior to saving to suppress this warning.\n",
            "/usr/local/lib/python3.7/dist-packages/ipykernel_launcher.py:50: UserWarning: pre/22679050_15_3_1.png is a low contrast image\n",
            "WARNING:imageio:Lossy conversion from int64 to uint8. Range [0, 255]. Convert image to uint8 prior to saving to suppress this warning.\n",
            "Valid Mode:  89% 719/810 [00:20<00:05, 18.05 uttr/s]/usr/local/lib/python3.7/dist-packages/ipykernel_launcher.py:50: UserWarning: pre/23729050_15_4_1.png is a low contrast image\n",
            "WARNING:imageio:Lossy conversion from int64 to uint8. Range [0, 255]. Convert image to uint8 prior to saving to suppress this warning.\n",
            "/usr/local/lib/python3.7/dist-packages/ipykernel_launcher.py:50: UserWarning: pre/24179050_15_0_1.png is a low contrast image\n",
            "WARNING:imageio:Lossy conversion from int64 to uint8. Range [0, 255]. Convert image to uint8 prior to saving to suppress this warning.\n",
            "/usr/local/lib/python3.7/dist-packages/ipykernel_launcher.py:50: UserWarning: pre/23879065_15_0_3.png is a low contrast image\n",
            "WARNING:imageio:Lossy conversion from int64 to uint8. Range [0, 255]. Convert image to uint8 prior to saving to suppress this warning.\n",
            "Valid Mode:  89% 722/810 [00:20<00:04, 19.84 uttr/s]/usr/local/lib/python3.7/dist-packages/ipykernel_launcher.py:50: UserWarning: pre/24029050_15_1_0.png is a low contrast image\n",
            "WARNING:imageio:Lossy conversion from int64 to uint8. Range [0, 255]. Convert image to uint8 prior to saving to suppress this warning.\n",
            "/usr/local/lib/python3.7/dist-packages/ipykernel_launcher.py:50: UserWarning: pre/22679020_15_1_3.png is a low contrast image\n",
            "WARNING:imageio:Lossy conversion from int64 to uint8. Range [0, 255]. Convert image to uint8 prior to saving to suppress this warning.\n",
            "/usr/local/lib/python3.7/dist-packages/ipykernel_launcher.py:50: UserWarning: pre/23428960_15_4_0.png is a low contrast image\n",
            "WARNING:imageio:Lossy conversion from int64 to uint8. Range [0, 255]. Convert image to uint8 prior to saving to suppress this warning.\n",
            "Valid Mode:  90% 725/810 [00:20<00:03, 21.70 uttr/s]/usr/local/lib/python3.7/dist-packages/ipykernel_launcher.py:50: UserWarning: pre/23578975_15_0_4.png is a low contrast image\n",
            "WARNING:imageio:Lossy conversion from int64 to uint8. Range [0, 255]. Convert image to uint8 prior to saving to suppress this warning.\n",
            "/usr/local/lib/python3.7/dist-packages/ipykernel_launcher.py:50: UserWarning: pre/22978945_15_2_0.png is a low contrast image\n",
            "WARNING:imageio:Lossy conversion from int64 to uint8. Range [0, 255]. Convert image to uint8 prior to saving to suppress this warning.\n",
            "/usr/local/lib/python3.7/dist-packages/ipykernel_launcher.py:50: UserWarning: pre/23279140_15_3_3.png is a low contrast image\n",
            "WARNING:imageio:Lossy conversion from int64 to uint8. Range [0, 255]. Convert image to uint8 prior to saving to suppress this warning.\n",
            "Valid Mode:  90% 728/810 [00:20<00:03, 22.06 uttr/s]/usr/local/lib/python3.7/dist-packages/ipykernel_launcher.py:50: UserWarning: pre/22828945_15_0_2.png is a low contrast image\n",
            "WARNING:imageio:Lossy conversion from int64 to uint8. Range [0, 255]. Convert image to uint8 prior to saving to suppress this warning.\n",
            "/usr/local/lib/python3.7/dist-packages/ipykernel_launcher.py:50: UserWarning: pre/23429095_15_2_2.png is a low contrast image\n",
            "WARNING:imageio:Lossy conversion from int64 to uint8. Range [0, 255]. Convert image to uint8 prior to saving to suppress this warning.\n",
            "/usr/local/lib/python3.7/dist-packages/ipykernel_launcher.py:50: UserWarning: pre/23728975_15_4_3.png is a low contrast image\n",
            "WARNING:imageio:Lossy conversion from int64 to uint8. Range [0, 255]. Convert image to uint8 prior to saving to suppress this warning.\n",
            "Valid Mode:  90% 731/810 [00:20<00:03, 23.19 uttr/s]/usr/local/lib/python3.7/dist-packages/ipykernel_launcher.py:50: UserWarning: pre/23728990_15_1_4.png is a low contrast image\n",
            "WARNING:imageio:Lossy conversion from int64 to uint8. Range [0, 255]. Convert image to uint8 prior to saving to suppress this warning.\n",
            "/usr/local/lib/python3.7/dist-packages/ipykernel_launcher.py:50: UserWarning: pre/23429005_15_0_2.png is a low contrast image\n",
            "WARNING:imageio:Lossy conversion from int64 to uint8. Range [0, 255]. Convert image to uint8 prior to saving to suppress this warning.\n",
            "/usr/local/lib/python3.7/dist-packages/ipykernel_launcher.py:50: UserWarning: pre/22979005_15_4_1.png is a low contrast image\n",
            "WARNING:imageio:Lossy conversion from int64 to uint8. Range [0, 255]. Convert image to uint8 prior to saving to suppress this warning.\n",
            "Valid Mode:  91% 734/810 [00:20<00:03, 24.80 uttr/s]/usr/local/lib/python3.7/dist-packages/ipykernel_launcher.py:50: UserWarning: pre/24029065_15_2_4.png is a low contrast image\n",
            "WARNING:imageio:Lossy conversion from int64 to uint8. Range [0, 255]. Convert image to uint8 prior to saving to suppress this warning.\n",
            "/usr/local/lib/python3.7/dist-packages/ipykernel_launcher.py:50: UserWarning: pre/23578990_15_0_1.png is a low contrast image\n",
            "WARNING:imageio:Lossy conversion from int64 to uint8. Range [0, 255]. Convert image to uint8 prior to saving to suppress this warning.\n",
            "/usr/local/lib/python3.7/dist-packages/ipykernel_launcher.py:50: UserWarning: pre/23278975_15_2_1.png is a low contrast image\n",
            "WARNING:imageio:Lossy conversion from int64 to uint8. Range [0, 255]. Convert image to uint8 prior to saving to suppress this warning.\n",
            "Valid Mode:  91% 737/810 [00:20<00:03, 23.67 uttr/s]/usr/local/lib/python3.7/dist-packages/ipykernel_launcher.py:50: UserWarning: pre/23578990_15_4_2.png is a low contrast image\n",
            "WARNING:imageio:Lossy conversion from int64 to uint8. Range [0, 255]. Convert image to uint8 prior to saving to suppress this warning.\n",
            "/usr/local/lib/python3.7/dist-packages/ipykernel_launcher.py:50: UserWarning: pre/23428960_15_0_1.png is a low contrast image\n",
            "WARNING:imageio:Lossy conversion from int64 to uint8. Range [0, 255]. Convert image to uint8 prior to saving to suppress this warning.\n",
            "/usr/local/lib/python3.7/dist-packages/ipykernel_launcher.py:50: UserWarning: pre/23879035_15_4_1.png is a low contrast image\n",
            "WARNING:imageio:Lossy conversion from int64 to uint8. Range [0, 255]. Convert image to uint8 prior to saving to suppress this warning.\n",
            "Valid Mode:  91% 740/810 [00:20<00:02, 23.61 uttr/s]/usr/local/lib/python3.7/dist-packages/ipykernel_launcher.py:50: UserWarning: pre/23879050_15_1_4.png is a low contrast image\n",
            "WARNING:imageio:Lossy conversion from int64 to uint8. Range [0, 255]. Convert image to uint8 prior to saving to suppress this warning.\n",
            "/usr/local/lib/python3.7/dist-packages/ipykernel_launcher.py:50: UserWarning: pre/23128990_15_0_0.png is a low contrast image\n",
            "WARNING:imageio:Lossy conversion from int64 to uint8. Range [0, 255]. Convert image to uint8 prior to saving to suppress this warning.\n",
            "/usr/local/lib/python3.7/dist-packages/ipykernel_launcher.py:50: UserWarning: pre/23128990_15_4_4.png is a low contrast image\n",
            "WARNING:imageio:Lossy conversion from int64 to uint8. Range [0, 255]. Convert image to uint8 prior to saving to suppress this warning.\n",
            "Valid Mode:  92% 743/810 [00:21<00:03, 21.94 uttr/s]/usr/local/lib/python3.7/dist-packages/ipykernel_launcher.py:50: UserWarning: pre/23728990_15_1_2.png is a low contrast image\n",
            "WARNING:imageio:Lossy conversion from int64 to uint8. Range [0, 255]. Convert image to uint8 prior to saving to suppress this warning.\n",
            "/usr/local/lib/python3.7/dist-packages/ipykernel_launcher.py:50: UserWarning: pre/22679050_15_4_3.png is a low contrast image\n",
            "WARNING:imageio:Lossy conversion from int64 to uint8. Range [0, 255]. Convert image to uint8 prior to saving to suppress this warning.\n",
            "/usr/local/lib/python3.7/dist-packages/ipykernel_launcher.py:50: UserWarning: pre/22978960_15_3_2.png is a low contrast image\n",
            "WARNING:imageio:Lossy conversion from int64 to uint8. Range [0, 255]. Convert image to uint8 prior to saving to suppress this warning.\n",
            "Valid Mode:  92% 746/810 [00:21<00:02, 22.57 uttr/s]/usr/local/lib/python3.7/dist-packages/ipykernel_launcher.py:50: UserWarning: pre/23279005_15_4_1.png is a low contrast image\n",
            "WARNING:imageio:Lossy conversion from int64 to uint8. Range [0, 255]. Convert image to uint8 prior to saving to suppress this warning.\n",
            "/usr/local/lib/python3.7/dist-packages/ipykernel_launcher.py:50: UserWarning: pre/23728990_15_2_0.png is a low contrast image\n",
            "WARNING:imageio:Lossy conversion from int64 to uint8. Range [0, 255]. Convert image to uint8 prior to saving to suppress this warning.\n",
            "/usr/local/lib/python3.7/dist-packages/ipykernel_launcher.py:50: UserWarning: pre/23128945_15_1_1.png is a low contrast image\n",
            "WARNING:imageio:Lossy conversion from int64 to uint8. Range [0, 255]. Convert image to uint8 prior to saving to suppress this warning.\n",
            "Valid Mode:  92% 749/810 [00:21<00:02, 22.54 uttr/s]/usr/local/lib/python3.7/dist-packages/ipykernel_launcher.py:50: UserWarning: pre/23729020_15_1_3.png is a low contrast image\n",
            "WARNING:imageio:Lossy conversion from int64 to uint8. Range [0, 255]. Convert image to uint8 prior to saving to suppress this warning.\n",
            "/usr/local/lib/python3.7/dist-packages/ipykernel_launcher.py:50: UserWarning: pre/23429140_15_1_2.png is a low contrast image\n",
            "WARNING:imageio:Lossy conversion from int64 to uint8. Range [0, 255]. Convert image to uint8 prior to saving to suppress this warning.\n",
            "/usr/local/lib/python3.7/dist-packages/ipykernel_launcher.py:50: UserWarning: pre/23279005_15_2_3.png is a low contrast image\n",
            "WARNING:imageio:Lossy conversion from int64 to uint8. Range [0, 255]. Convert image to uint8 prior to saving to suppress this warning.\n",
            "/usr/local/lib/python3.7/dist-packages/ipykernel_launcher.py:50: UserWarning: pre/23128930_15_4_3.png is a low contrast image\n",
            "WARNING:imageio:Lossy conversion from int64 to uint8. Range [0, 255]. Convert image to uint8 prior to saving to suppress this warning.\n",
            "Valid Mode:  93% 753/810 [00:21<00:02, 25.77 uttr/s]/usr/local/lib/python3.7/dist-packages/ipykernel_launcher.py:50: UserWarning: pre/22828945_15_2_1.png is a low contrast image\n",
            "/usr/local/lib/python3.7/dist-packages/ipykernel_launcher.py:50: UserWarning: pre/23579095_15_0_4.png is a low contrast image\n",
            "/usr/local/lib/python3.7/dist-packages/ipykernel_launcher.py:50: UserWarning: pre/22828975_15_3_0.png is a low contrast image\n",
            "WARNING:imageio:Lossy conversion from int64 to uint8. Range [0, 255]. Convert image to uint8 prior to saving to suppress this warning.\n",
            "/usr/local/lib/python3.7/dist-packages/ipykernel_launcher.py:50: UserWarning: pre/23579035_15_4_1.png is a low contrast image\n",
            "WARNING:imageio:Lossy conversion from int64 to uint8. Range [0, 255]. Convert image to uint8 prior to saving to suppress this warning.\n",
            "/usr/local/lib/python3.7/dist-packages/ipykernel_launcher.py:50: UserWarning: pre/23729095_15_2_1.png is a low contrast image\n",
            "WARNING:imageio:Lossy conversion from int64 to uint8. Range [0, 255]. Convert image to uint8 prior to saving to suppress this warning.\n",
            "Valid Mode:  94% 758/810 [00:21<00:01, 30.10 uttr/s]/usr/local/lib/python3.7/dist-packages/ipykernel_launcher.py:50: UserWarning: pre/24329095_15_4_0.png is a low contrast image\n",
            "WARNING:imageio:Lossy conversion from int64 to uint8. Range [0, 255]. Convert image to uint8 prior to saving to suppress this warning.\n",
            "/usr/local/lib/python3.7/dist-packages/ipykernel_launcher.py:50: UserWarning: pre/24329095_15_3_4.png is a low contrast image\n",
            "/usr/local/lib/python3.7/dist-packages/ipykernel_launcher.py:50: UserWarning: pre/22978915_15_1_0.png is a low contrast image\n",
            "WARNING:imageio:Lossy conversion from int64 to uint8. Range [0, 255]. Convert image to uint8 prior to saving to suppress this warning.\n",
            "/usr/local/lib/python3.7/dist-packages/ipykernel_launcher.py:50: UserWarning: pre/22678945_15_2_0.png is a low contrast image\n",
            "WARNING:imageio:Lossy conversion from int64 to uint8. Range [0, 255]. Convert image to uint8 prior to saving to suppress this warning.\n",
            "/usr/local/lib/python3.7/dist-packages/ipykernel_launcher.py:50: UserWarning: pre/22678960_15_4_4.png is a low contrast image\n",
            "WARNING:imageio:Lossy conversion from int64 to uint8. Range [0, 255]. Convert image to uint8 prior to saving to suppress this warning.\n",
            "Valid Mode:  94% 763/810 [00:21<00:01, 33.26 uttr/s]/usr/local/lib/python3.7/dist-packages/ipykernel_launcher.py:50: UserWarning: pre/23729095_15_0_2.png is a low contrast image\n",
            "WARNING:imageio:Lossy conversion from int64 to uint8. Range [0, 255]. Convert image to uint8 prior to saving to suppress this warning.\n",
            "/usr/local/lib/python3.7/dist-packages/ipykernel_launcher.py:50: UserWarning: pre/24328855_15_4_4.png is a low contrast image\n",
            "WARNING:imageio:Lossy conversion from int64 to uint8. Range [0, 255]. Convert image to uint8 prior to saving to suppress this warning.\n",
            "/usr/local/lib/python3.7/dist-packages/ipykernel_launcher.py:50: UserWarning: pre/22678990_15_0_2.png is a low contrast image\n",
            "WARNING:imageio:Lossy conversion from int64 to uint8. Range [0, 255]. Convert image to uint8 prior to saving to suppress this warning.\n",
            "/usr/local/lib/python3.7/dist-packages/ipykernel_launcher.py:50: UserWarning: pre/22978960_15_0_4.png is a low contrast image\n",
            "WARNING:imageio:Lossy conversion from int64 to uint8. Range [0, 255]. Convert image to uint8 prior to saving to suppress this warning.\n",
            "Valid Mode:  95% 767/810 [00:21<00:01, 34.01 uttr/s]/usr/local/lib/python3.7/dist-packages/ipykernel_launcher.py:50: UserWarning: pre/22679035_15_3_0.png is a low contrast image\n",
            "WARNING:imageio:Lossy conversion from int64 to uint8. Range [0, 255]. Convert image to uint8 prior to saving to suppress this warning.\n",
            "/usr/local/lib/python3.7/dist-packages/ipykernel_launcher.py:50: UserWarning: pre/23878990_15_4_3.png is a low contrast image\n",
            "WARNING:imageio:Lossy conversion from int64 to uint8. Range [0, 255]. Convert image to uint8 prior to saving to suppress this warning.\n",
            "/usr/local/lib/python3.7/dist-packages/ipykernel_launcher.py:50: UserWarning: pre/22828915_15_2_2.png is a low contrast image\n",
            "WARNING:imageio:Lossy conversion from int64 to uint8. Range [0, 255]. Convert image to uint8 prior to saving to suppress this warning.\n",
            "/usr/local/lib/python3.7/dist-packages/ipykernel_launcher.py:50: UserWarning: pre/24329035_15_1_0.png is a low contrast image\n",
            "WARNING:imageio:Lossy conversion from int64 to uint8. Range [0, 255]. Convert image to uint8 prior to saving to suppress this warning.\n",
            "Valid Mode:  95% 771/810 [00:21<00:01, 32.29 uttr/s]/usr/local/lib/python3.7/dist-packages/ipykernel_launcher.py:50: UserWarning: pre/24328840_15_3_1.png is a low contrast image\n",
            "WARNING:imageio:Lossy conversion from int64 to uint8. Range [0, 255]. Convert image to uint8 prior to saving to suppress this warning.\n",
            "/usr/local/lib/python3.7/dist-packages/ipykernel_launcher.py:50: UserWarning: pre/22979035_15_3_0.png is a low contrast image\n",
            "WARNING:imageio:Lossy conversion from int64 to uint8. Range [0, 255]. Convert image to uint8 prior to saving to suppress this warning.\n",
            "/usr/local/lib/python3.7/dist-packages/ipykernel_launcher.py:50: UserWarning: pre/24029065_15_2_0.png is a low contrast image\n",
            "WARNING:imageio:Lossy conversion from int64 to uint8. Range [0, 255]. Convert image to uint8 prior to saving to suppress this warning.\n",
            "/usr/local/lib/python3.7/dist-packages/ipykernel_launcher.py:50: UserWarning: pre/22679020_15_3_4.png is a low contrast image\n",
            "WARNING:imageio:Lossy conversion from int64 to uint8. Range [0, 255]. Convert image to uint8 prior to saving to suppress this warning.\n",
            "Valid Mode:  96% 775/810 [00:22<00:01, 32.68 uttr/s]/usr/local/lib/python3.7/dist-packages/ipykernel_launcher.py:50: UserWarning: pre/22978900_15_1_0.png is a low contrast image\n",
            "WARNING:imageio:Lossy conversion from int64 to uint8. Range [0, 255]. Convert image to uint8 prior to saving to suppress this warning.\n",
            "/usr/local/lib/python3.7/dist-packages/ipykernel_launcher.py:50: UserWarning: pre/22678975_15_1_0.png is a low contrast image\n",
            "WARNING:imageio:Lossy conversion from int64 to uint8. Range [0, 255]. Convert image to uint8 prior to saving to suppress this warning.\n",
            "/usr/local/lib/python3.7/dist-packages/ipykernel_launcher.py:50: UserWarning: pre/23428930_15_2_2.png is a low contrast image\n",
            "WARNING:imageio:Lossy conversion from int64 to uint8. Range [0, 255]. Convert image to uint8 prior to saving to suppress this warning.\n",
            "/usr/local/lib/python3.7/dist-packages/ipykernel_launcher.py:50: UserWarning: pre/23578990_15_1_2.png is a low contrast image\n",
            "WARNING:imageio:Lossy conversion from int64 to uint8. Range [0, 255]. Convert image to uint8 prior to saving to suppress this warning.\n",
            "Valid Mode:  96% 779/810 [00:22<00:00, 32.89 uttr/s]/usr/local/lib/python3.7/dist-packages/ipykernel_launcher.py:50: UserWarning: pre/23728945_15_1_3.png is a low contrast image\n",
            "WARNING:imageio:Lossy conversion from int64 to uint8. Range [0, 255]. Convert image to uint8 prior to saving to suppress this warning.\n",
            "/usr/local/lib/python3.7/dist-packages/ipykernel_launcher.py:50: UserWarning: pre/23578930_15_1_0.png is a low contrast image\n",
            "WARNING:imageio:Lossy conversion from int64 to uint8. Range [0, 255]. Convert image to uint8 prior to saving to suppress this warning.\n",
            "/usr/local/lib/python3.7/dist-packages/ipykernel_launcher.py:50: UserWarning: pre/22678915_15_3_4.png is a low contrast image\n",
            "WARNING:imageio:Lossy conversion from int64 to uint8. Range [0, 255]. Convert image to uint8 prior to saving to suppress this warning.\n",
            "/usr/local/lib/python3.7/dist-packages/ipykernel_launcher.py:50: UserWarning: pre/24029080_15_1_2.png is a low contrast image\n",
            "WARNING:imageio:Lossy conversion from int64 to uint8. Range [0, 255]. Convert image to uint8 prior to saving to suppress this warning.\n",
            "Valid Mode:  97% 783/810 [00:22<00:00, 32.29 uttr/s]/usr/local/lib/python3.7/dist-packages/ipykernel_launcher.py:50: UserWarning: pre/24029035_15_3_1.png is a low contrast image\n",
            "WARNING:imageio:Lossy conversion from int64 to uint8. Range [0, 255]. Convert image to uint8 prior to saving to suppress this warning.\n",
            "/usr/local/lib/python3.7/dist-packages/ipykernel_launcher.py:50: UserWarning: pre/23129020_15_2_0.png is a low contrast image\n",
            "WARNING:imageio:Lossy conversion from int64 to uint8. Range [0, 255]. Convert image to uint8 prior to saving to suppress this warning.\n",
            "/usr/local/lib/python3.7/dist-packages/ipykernel_launcher.py:50: UserWarning: pre/22979020_15_4_2.png is a low contrast image\n",
            "WARNING:imageio:Lossy conversion from int64 to uint8. Range [0, 255]. Convert image to uint8 prior to saving to suppress this warning.\n",
            "/usr/local/lib/python3.7/dist-packages/ipykernel_launcher.py:50: UserWarning: pre/22828945_15_4_1.png is a low contrast image\n",
            "/usr/local/lib/python3.7/dist-packages/ipykernel_launcher.py:50: UserWarning: pre/22829035_15_1_1.png is a low contrast image\n",
            "WARNING:imageio:Lossy conversion from int64 to uint8. Range [0, 255]. Convert image to uint8 prior to saving to suppress this warning.\n",
            "Valid Mode:  97% 788/810 [00:22<00:00, 34.26 uttr/s]/usr/local/lib/python3.7/dist-packages/ipykernel_launcher.py:50: UserWarning: pre/23278915_15_0_3.png is a low contrast image\n",
            "WARNING:imageio:Lossy conversion from int64 to uint8. Range [0, 255]. Convert image to uint8 prior to saving to suppress this warning.\n",
            "/usr/local/lib/python3.7/dist-packages/ipykernel_launcher.py:50: UserWarning: pre/23729020_15_2_0.png is a low contrast image\n",
            "WARNING:imageio:Lossy conversion from int64 to uint8. Range [0, 255]. Convert image to uint8 prior to saving to suppress this warning.\n",
            "/usr/local/lib/python3.7/dist-packages/ipykernel_launcher.py:50: UserWarning: pre/23428975_15_4_1.png is a low contrast image\n",
            "WARNING:imageio:Lossy conversion from int64 to uint8. Range [0, 255]. Convert image to uint8 prior to saving to suppress this warning.\n",
            "/usr/local/lib/python3.7/dist-packages/ipykernel_launcher.py:50: UserWarning: pre/23128885_15_0_0.png is a low contrast image\n",
            "WARNING:imageio:Lossy conversion from int64 to uint8. Range [0, 255]. Convert image to uint8 prior to saving to suppress this warning.\n",
            "Valid Mode:  98% 792/810 [00:22<00:00, 33.86 uttr/s]/usr/local/lib/python3.7/dist-packages/ipykernel_launcher.py:50: UserWarning: pre/22678990_15_1_2.png is a low contrast image\n",
            "WARNING:imageio:Lossy conversion from int64 to uint8. Range [0, 255]. Convert image to uint8 prior to saving to suppress this warning.\n",
            "/usr/local/lib/python3.7/dist-packages/ipykernel_launcher.py:50: UserWarning: pre/24329020_15_3_1.png is a low contrast image\n",
            "/usr/local/lib/python3.7/dist-packages/ipykernel_launcher.py:50: UserWarning: pre/22829005_15_1_3.png is a low contrast image\n",
            "WARNING:imageio:Lossy conversion from int64 to uint8. Range [0, 255]. Convert image to uint8 prior to saving to suppress this warning.\n",
            "/usr/local/lib/python3.7/dist-packages/ipykernel_launcher.py:50: UserWarning: pre/24179020_15_3_2.png is a low contrast image\n",
            "/usr/local/lib/python3.7/dist-packages/ipykernel_launcher.py:50: UserWarning: pre/22978930_15_0_3.png is a low contrast image\n",
            "WARNING:imageio:Lossy conversion from int64 to uint8. Range [0, 255]. Convert image to uint8 prior to saving to suppress this warning.\n",
            "Valid Mode:  98% 797/810 [00:22<00:00, 36.36 uttr/s]/usr/local/lib/python3.7/dist-packages/ipykernel_launcher.py:50: UserWarning: pre/23428975_15_4_2.png is a low contrast image\n",
            "WARNING:imageio:Lossy conversion from int64 to uint8. Range [0, 255]. Convert image to uint8 prior to saving to suppress this warning.\n",
            "/usr/local/lib/python3.7/dist-packages/ipykernel_launcher.py:50: UserWarning: pre/23579065_15_1_4.png is a low contrast image\n",
            "WARNING:imageio:Lossy conversion from int64 to uint8. Range [0, 255]. Convert image to uint8 prior to saving to suppress this warning.\n",
            "/usr/local/lib/python3.7/dist-packages/ipykernel_launcher.py:50: UserWarning: pre/23579080_15_0_1.png is a low contrast image\n",
            "WARNING:imageio:Lossy conversion from int64 to uint8. Range [0, 255]. Convert image to uint8 prior to saving to suppress this warning.\n",
            "/usr/local/lib/python3.7/dist-packages/ipykernel_launcher.py:50: UserWarning: pre/24179080_15_2_2.png is a low contrast image\n",
            "WARNING:imageio:Lossy conversion from int64 to uint8. Range [0, 255]. Convert image to uint8 prior to saving to suppress this warning.\n",
            "Valid Mode:  99% 801/810 [00:22<00:00, 35.71 uttr/s]/usr/local/lib/python3.7/dist-packages/ipykernel_launcher.py:50: UserWarning: pre/24179050_15_0_2.png is a low contrast image\n",
            "WARNING:imageio:Lossy conversion from int64 to uint8. Range [0, 255]. Convert image to uint8 prior to saving to suppress this warning.\n",
            "/usr/local/lib/python3.7/dist-packages/ipykernel_launcher.py:50: UserWarning: pre/23729095_15_4_4.png is a low contrast image\n",
            "WARNING:imageio:Lossy conversion from int64 to uint8. Range [0, 255]. Convert image to uint8 prior to saving to suppress this warning.\n",
            "/usr/local/lib/python3.7/dist-packages/ipykernel_launcher.py:50: UserWarning: pre/23129005_15_4_2.png is a low contrast image\n",
            "WARNING:imageio:Lossy conversion from int64 to uint8. Range [0, 255]. Convert image to uint8 prior to saving to suppress this warning.\n",
            "/usr/local/lib/python3.7/dist-packages/ipykernel_launcher.py:50: UserWarning: pre/23428960_15_1_3.png is a low contrast image\n",
            "WARNING:imageio:Lossy conversion from int64 to uint8. Range [0, 255]. Convert image to uint8 prior to saving to suppress this warning.\n",
            "Valid Mode:  99% 805/810 [00:22<00:00, 34.80 uttr/s]/usr/local/lib/python3.7/dist-packages/ipykernel_launcher.py:50: UserWarning: pre/23128915_15_4_1.png is a low contrast image\n",
            "WARNING:imageio:Lossy conversion from int64 to uint8. Range [0, 255]. Convert image to uint8 prior to saving to suppress this warning.\n",
            "/usr/local/lib/python3.7/dist-packages/ipykernel_launcher.py:50: UserWarning: pre/24029080_15_3_0.png is a low contrast image\n",
            "WARNING:imageio:Lossy conversion from int64 to uint8. Range [0, 255]. Convert image to uint8 prior to saving to suppress this warning.\n",
            "/usr/local/lib/python3.7/dist-packages/ipykernel_launcher.py:50: UserWarning: pre/23278900_15_2_1.png is a low contrast image\n",
            "WARNING:imageio:Lossy conversion from int64 to uint8. Range [0, 255]. Convert image to uint8 prior to saving to suppress this warning.\n",
            "/usr/local/lib/python3.7/dist-packages/ipykernel_launcher.py:50: UserWarning: pre/23278960_15_2_3.png is a low contrast image\n",
            "WARNING:imageio:Lossy conversion from int64 to uint8. Range [0, 255]. Convert image to uint8 prior to saving to suppress this warning.\n",
            "Valid Mode: 100% 809/810 [00:23<00:00, 34.77 uttr/s]/usr/local/lib/python3.7/dist-packages/ipykernel_launcher.py:50: UserWarning: pre/23879035_15_3_0.png is a low contrast image\n",
            "WARNING:imageio:Lossy conversion from int64 to uint8. Range [0, 255]. Convert image to uint8 prior to saving to suppress this warning.\n",
            "Valid Mode: 100% 810/810 [00:23<00:00, 35.08 uttr/s]\n"
          ]
        }
      ],
      "source": [
        "checkPoint=torch.load(\"/content/models/model.pth.ckpt\")\n",
        "model.load_state_dict(checkPoint)\n",
        "test_loader = data.DataLoader(test_set,batch_size = 1, shuffle=True, num_workers = 1) \n",
        "test(test_loader,model) # 下面会提示，UserWarning: *** is a low contrast image，不用管它\n",
        "# 执行完成后，可以从左侧下载预测结果(pre.csv)，并将其提交到Kaggle上，Kaggle会反馈给你测试集的评分"
      ]
    },
    {
      "attachments": {},
      "cell_type": "markdown",
      "metadata": {
        "id": "t9YJxgTp--Oa"
      },
      "source": [
        "## 你需要做什么\n",
        "\n",
        "**基本要求**\n",
        "\n",
        "\n",
        "*   弄明白这些代码都在干什么\n",
        "\n",
        "\n",
        "\n",
        "**中等要求**\n",
        "\n",
        "\n",
        "*   解释模型：请试图解释本次作业中MyCNN()模型背后蕴含的思想\n",
        "\n",
        "\n",
        "*   参数调整：在主程序中，有一个config变量，它存储了我们的很多超参数，如learning rate，batch size等，调整他们会改进模型的精度吗。关于优化器(optimizer)，我们使用的是SGD，有没有其它的优化器可以使用呢，这些优化器里的超参数（如momentum）需要怎么设置呢？\n",
        "\n",
        "\n",
        "*   数据增强：数据增强也叫数据扩增，意思是在不实质性的增加数据的情况下，让有限的数据产生等价于更多数据的价值。对于图像来说，常见的数据增强包括旋转、平移、缩放等。你可以实现这些数据增强吗？实现这些数据增强会提升模型的泛化性能吗？\n",
        "\n",
        "*   批标准化：批标准化（batchnorm）是一种用于改善人工神经网络的性能和稳定性的技术，被广泛用在现代语义分割模型中，本次作业我们使用的基线模型并不包含批标准化，你会把它加入到我们的基线模型中吗？在我们的任务中，它会提升模型的性能吗？为什么？\n",
        "\n",
        "**终极要求**\n",
        "\n",
        "*   自己对模型的结构进行修改，或直接引入更先进的模型，从而提高最终精度\n",
        "\n",
        "*   建筑物轮廓信息：不同于其他的地物，建筑物具有非常正则的几何形态，因此，模型对于边缘（即轮廓）的感知对于建筑物的预测精度有较大的影响。你有什么办法提高模型对建筑物边缘的预测精度吗（提示：最简单的办法是将轮廓信息做为监督信息的一种）\n",
        "\n",
        "*   其它：发挥你的想法，尽可能地减小测试集误差，并解释为什么"
      ]
    }
  ],
  "metadata": {
    "accelerator": "GPU",
    "colab": {
      "provenance": []
    },
    "kernelspec": {
      "display_name": "Python 3",
      "name": "python3"
    },
    "language_info": {
      "name": "python"
    }
  },
  "nbformat": 4,
  "nbformat_minor": 0
}
